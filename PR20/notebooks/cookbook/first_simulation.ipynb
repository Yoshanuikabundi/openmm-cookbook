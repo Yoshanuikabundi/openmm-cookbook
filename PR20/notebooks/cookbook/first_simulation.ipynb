{
 "cells": [
  {
   "cell_type": "raw",
   "execution_count": 0,
   "id": "71e338b9-5e00-413a-abb8-ea1223905062",
   "metadata": {
    "raw_mimetype": "text/restructuredtext"
   },
   "outputs": [],
   "source": [
    ".. index:: barostat, thermostat, application layer"
   ]
  },
  {
   "cell_type": "markdown",
   "id": "e174828a",
   "metadata": {},
   "source": [
    "## First Simulation\n",
    "\n",
    "This is a good starting point for learning how to use OpenMM.\n",
    "\n",
    "It loads a PDB file `villin.pdb`, which is the [villin headpiece protein](https://en.wikipedia.org/wiki/Villin-1) in a box of water. In then parameterizes it using the Amber14 forcefield and TIP3P-FB water model, energy minimizes it, and simulates it for 1000 steps with a langevin intergator.\n"
   ]
  },
  {
   "cell_type": "code",
   "execution_count": 1,
   "id": "3592a17b",
   "metadata": {
    "execution": {
     "iopub.execute_input": "2023-04-24T14:56:00.488171Z",
     "iopub.status.busy": "2023-04-24T14:56:00.487764Z",
     "iopub.status.idle": "2023-04-24T14:56:26.709279Z",
     "shell.execute_reply": "2023-04-24T14:56:26.708738Z"
    }
   },
   "outputs": [
    {
     "name": "stdout",
     "output_type": "stream",
     "text": [
      "Minimizing energy...\n"
     ]
    },
    {
     "name": "stdout",
     "output_type": "stream",
     "text": [
      "Running simulation...\n"
     ]
    },
    {
     "name": "stdout",
     "output_type": "stream",
     "text": [
      "#\"Step\",\"Potential Energy (kJ/mole)\",\"Temperature (K)\"\n"
     ]
    },
    {
     "name": "stdout",
     "output_type": "stream",
     "text": [
      "100,-156926.17192414246,118.95764338112916\n"
     ]
    },
    {
     "name": "stdout",
     "output_type": "stream",
     "text": [
      "200,-152650.6469013507,179.8978827093201\n"
     ]
    },
    {
     "name": "stdout",
     "output_type": "stream",
     "text": [
      "300,-149589.12979993055,216.99795705038375\n"
     ]
    },
    {
     "name": "stdout",
     "output_type": "stream",
     "text": [
      "400,-147402.24444647052,242.4199092247939\n"
     ]
    },
    {
     "name": "stdout",
     "output_type": "stream",
     "text": [
      "500,-145719.9528352572,259.215780352194\n"
     ]
    },
    {
     "name": "stdout",
     "output_type": "stream",
     "text": [
      "600,-144685.58211562768,277.43997170424495\n"
     ]
    },
    {
     "name": "stdout",
     "output_type": "stream",
     "text": [
      "700,-143709.29306082262,280.8265423867712\n"
     ]
    },
    {
     "name": "stdout",
     "output_type": "stream",
     "text": [
      "800,-143446.90564952893,286.3067441412862\n"
     ]
    },
    {
     "name": "stdout",
     "output_type": "stream",
     "text": [
      "900,-142652.03878155095,288.4469241321636\n"
     ]
    },
    {
     "name": "stdout",
     "output_type": "stream",
     "text": [
      "1000,-142684.37538255044,289.89366667741996\n"
     ]
    }
   ],
   "source": [
    "from openmm.app import *\n",
    "from openmm import *\n",
    "from openmm.unit import *\n",
    "from sys import stdout\n",
    "\n",
    "# Load in the PDB strucure\n",
    "pdb = PDBFile('villin.pdb')\n",
    "\n",
    "# Specifiy the forcefield \n",
    "forcefield = ForceField('amber14-all.xml', 'amber14/tip3pfb.xml')\n",
    "\n",
    "\n",
    "# Combine the molecular topology and the forcefield\n",
    "system = forcefield.createSystem(pdb.topology, nonbondedMethod=PME,\n",
    "        nonbondedCutoff=1*nanometer, constraints=HBonds)\n",
    "\n",
    "# Create the integrator to use for advacing the equations of motion.\n",
    "# It specifies a Langevin integrator.\n",
    "# The paramters set are temperature, friction coefficient, and timestep.\n",
    "integrator = LangevinMiddleIntegrator(300*kelvin, 1/picosecond, 0.004*picoseconds)\n",
    "\n",
    "# Combines the molecular topology, system, and integrator \n",
    "# to begin a new simulation.\n",
    "simulation = Simulation(pdb.topology, system, integrator)\n",
    "simulation.context.setPositions(pdb.positions)\n",
    "\n",
    "# Perform local energy minimization\n",
    "print(\"Minimizing energy...\")\n",
    "simulation.minimizeEnergy(maxIterations=100)\n",
    "\n",
    "# Write the trajectory to a file called \"output.pdb\"\n",
    "simulation.reporters.append(PDBReporter('output.pdb', 1000))\n",
    "\n",
    "# Report infomation to the screen as the simulation runs\n",
    "simulation.reporters.append(StateDataReporter(stdout, 100, step=True,\n",
    "        potentialEnergy=True, temperature=True))\n",
    "\n",
    "#Run the simulation for 1000 timsteps\n",
    "print(\"Running simulation...\")\n",
    "simulation.step(1000)"
   ]
  }
 ],
 "metadata": {
  "kernelspec": {
   "display_name": "Python 3",
   "language": "python",
   "name": "python3"
  },
  "language_info": {
   "codemirror_mode": {
    "name": "ipython",
    "version": 3
   },
   "file_extension": ".py",
   "mimetype": "text/x-python",
   "name": "python",
   "nbconvert_exporter": "python",
   "pygments_lexer": "ipython3",
   "version": "3.11.3"
  },
  "tags": [
   "barostat",
   "thermostat",
   "application layer"
  ],
  "vscode": {
   "interpreter": {
    "hash": "31f2aee4e71d21fbe5cf8b01ff0e069b9275f58929596ceb00d14d90e3e16cd6"
   }
  }
 },
 "nbformat": 4,
 "nbformat_minor": 5
}
