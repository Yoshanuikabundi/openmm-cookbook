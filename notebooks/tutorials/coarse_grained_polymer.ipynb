{
 "cells": [
  {
   "attachments": {},
   "cell_type": "markdown",
   "metadata": {},
   "source": [
    "# Coarse-Grained Polymer\n",
    "\n",
    "This tutorial will give a basic example of creating a custom coarse-grained model in OpenMM. It demonstrates how to create a custom forcefield xml file and how to create a molecular topology from scratch using the OpenMM python API.\n",
    "It assumes you are familiar with the concept of coarse-graining and want to learn how to implement your CG model in OpenMM.\n",
    "\n",
    "## Example System\n",
    "The example system in this tutorial is a Lennard-Jones bead-spring polymer model. We will demonstrate how to create a polymer melt of multiple chains. Note that we will set the bond lengths, particle mass, and Lennard-Jones interaction parameters to physical values that are typical of a residue level coarse-grained protein model (e.g. [xxx]).\n",
    "\n",
    "## Creating the force-field file\n",
    "We will begin by creating a custom force-field xml file for our system. You should look here first for the full information: http://docs.openmm.org/latest/userguide/application/05_creating_ffs.html\n",
    "\n",
    "An OpenMM forcefield is defined by an XML file. We will create a new custom one for this tutorial. You will need to create a new file called \"cg_ff.xml\" using a text editor of your choice. Then paste the following lines into it:\n",
    "\n",
    "```xml\n",
    "<!-- cg_ff.xml \n",
    "Coarse-grained forcefield for a bead-spring polymer. -->\n",
    "<ForceField>\n",
    "\t\n",
    "    <AtomTypes>\n",
    "\t    <Type name=\"CG-bead\" class=\"CG-bead\" element=\"CG\" mass=\"120.0\"/>\n",
    "\t</AtomTypes>\n",
    "\n",
    "\t<Residues>\n",
    "        <!-- Each bead is a single residue.\n",
    "        Need a template for the different Residue types. \n",
    "        First type is the end. This only has one bond. -->\n",
    "        <Residue name=\"END\"> -->\n",
    "            <Atom name=\"CG-bead\" type=\"CG-bead\"/>\n",
    "            <ExternalBond atomName=\"CG-bead\"/>\n",
    "        </Residue>\n",
    "\n",
    "        <!-- Second type is in the middle of the chain. This has two bonds. -->\n",
    "        <Residue name=\"MID\">\n",
    "            <Atom name=\"CG-bead\" type=\"CG-bead\"/>\n",
    "            <ExternalBond atomName=\"CG-bead\"/>\n",
    "            <ExternalBond atomName=\"CG-bead\"/>\n",
    "        </Residue>\n",
    "    </Residues>\n",
    "\n",
    "    <!-- Define a harmonic bond between the CA-beads -->\n",
    "    <HarmonicBondForce>\n",
    "        <Bond class1=\"CG-bead\" class2=\"CG-bead\" length=\"0.38\" k=\"1000.0\"/>\n",
    "    </HarmonicBondForce>\n",
    "\n",
    "    <!-- Use a custom non-bonded force for maximum flexibility.\n",
    "    The bondCutoff=1 tells it to only exclude interactions between directly bonded atoms. -->\n",
    "    <CustomNonbondedForce energy=\"4*epsilon*((sigma/r)^12-(sigma/r)^6); sigma=0.5*(sigma1+sigma2); epsilon=sqrt(epsilon1*epsilon2)\" bondCutoff=\"1\">\n",
    "        <PerParticleParameter name=\"sigma\"/>\n",
    "        <PerParticleParameter name=\"epsilon\"/>\n",
    "\t\t<Atom type=\"CG-bead\" charge=\"0.0\" sigma=\"0.5\" epsilon=\"1.0\"/>\n",
    "\t</CustomNonbondedForce>\n",
    "</ForceField>\n",
    "```\n",
    "(If you have cloned the cookbook repo then this file will already exist)\n",
    "The comments in the above code explain what the difference sections are for.\n",
    "\n",
    "\n",
    "## Creating CG Topology\n",
    "Now that we have defined a force-field we can use we can create the topology of the system. To demonstrate the full flexibility open OpenMM we will use the Python API to do this. Note that you could create a PDB file and read that in instead.\n",
    "\n",
    "First we do the usual imports for OpenMM."
   ]
  },
  {
   "cell_type": "code",
   "execution_count": null,
   "metadata": {},
   "outputs": [],
   "source": [
    "import openmm\n",
    "import openmm.app as app\n",
    "import openmm.unit as unit\n",
    "import numpy as np\n",
    "from sys import stdout"
   ]
  },
  {
   "attachments": {},
   "cell_type": "markdown",
   "metadata": {},
   "source": [
    "We then create a new element for our CG bead. This needs to have the same symbol as the element we defined in the `<AtomTypes>` section of 'cg_ff.xml'. We set the atomic index to a large number, however the actual value is unimportant in this simulation and is just used for bookkeeping purposes. We set the mass to approximate the molar mass of an amino-acid. The mass we define is important as it needs to be consistent with the chosen integration timestep."
   ]
  },
  {
   "cell_type": "code",
   "execution_count": null,
   "metadata": {},
   "outputs": [],
   "source": [
    "\n",
    "cgElement = app.Element(number=1000,name='CG-element',symbol='CG', mass=120)"
   ]
  },
  {
   "attachments": {},
   "cell_type": "markdown",
   "metadata": {},
   "source": [
    "We then create an empty `Topology` object."
   ]
  },
  {
   "cell_type": "code",
   "execution_count": null,
   "metadata": {},
   "outputs": [],
   "source": [
    "# Make an empty topology\n",
    "topology = app.Topology()"
   ]
  },
  {
   "attachments": {},
   "cell_type": "markdown",
   "metadata": {},
   "source": [
    "Now we can create our simulation topology using python scripting. We will define `M = 100` polymer chains which each have `N = 10` beads:"
   ]
  },
  {
   "cell_type": "code",
   "execution_count": null,
   "metadata": {},
   "outputs": [],
   "source": [
    "# Number of polymer chains\n",
    "M = 100\n",
    "\n",
    "# Number of atoms in each chain\n",
    "N = 10\n",
    "\n",
    "# Add each chain to the topology\n",
    "for m in range(M):\n",
    "\n",
    "    # Make the chain\n",
    "    chain = topology.addChain()\n",
    "\n",
    "    # Create the first residue in the chain\n",
    "    residue = topology.addResidue(name=\"END\", chain=chain)\n",
    "\n",
    "    # In this example each residue is one bead so we add a single atom\n",
    "    atom1 = topology.addAtom(name=\"CG-bead\", element=cgElement, residue=residue)\n",
    "\n",
    "    # Now add the rest of residues in the chain\n",
    "    for i in range(1, N-1):\n",
    "        residue = topology.addResidue(name=\"MID\",chain=chain)\n",
    "        atom2 = topology.addAtom(name=\"CG-bead\", element=cgElement, residue=residue)\n",
    "\n",
    "        # add the bonds in as we go\n",
    "        topology.addBond(atom1, atom2)\n",
    "        atom1 = atom2\n",
    "    \n",
    "    # Add the final residue in the chain\n",
    "    residue = topology.addResidue(name=\"END\",chain=chain)\n",
    "    atom2 = topology.addAtom(name=\"CG-bead\", element=cgElement, residue=residue)\n",
    "    topology.addBond(atom1, atom2)\n",
    "\n",
    "\n",
    "topology.setPeriodicBoxVectors(np.eye(3)*11.0*unit.nanometers)\n",
    "\n",
    "# check the topology\n",
    "print(topology)"
   ]
  },
  {
   "attachments": {},
   "cell_type": "markdown",
   "metadata": {},
   "source": [
    "## Create the system\n",
    "\n",
    "We can now load in our previously created custom `ForceField` and use the `createSystem` method with the `topology`."
   ]
  },
  {
   "cell_type": "code",
   "execution_count": null,
   "metadata": {},
   "outputs": [],
   "source": [
    "# load in the ForceField we created\n",
    "ff = app.ForceField('./cg_ff.xml')\n",
    "system = ff.createSystem(topology, nonbondedMethod=openmm.app.CutoffPeriodic, nonbondedCutoff=1.5*unit.nanometers)"
   ]
  },
  {
   "attachments": {},
   "cell_type": "markdown",
   "metadata": {},
   "source": [
    "We have set a nonbonded cutoff to be 3 times the value of sigma in LJ potential.\n",
    "\n",
    "## Setup the simulation\n",
    "\n",
    "We will use a `LangevinMiddleIntegrator` with a friction term of 0.01ps^-1 and a timestep of 0.01ps as used in similar coarse-grained polymer models [xxx]. For your own models these parameters will be important and you will need to choose them carefully!\n"
   ]
  },
  {
   "cell_type": "code",
   "execution_count": null,
   "metadata": {},
   "outputs": [],
   "source": [
    "integrator = openmm.LangevinMiddleIntegrator(300*unit.kelvin, 0.01/unit.picosecond, 0.010*unit.picoseconds)\n",
    "simulation = app.Simulation(topology, system, integrator)"
   ]
  },
  {
   "attachments": {},
   "cell_type": "markdown",
   "metadata": {},
   "source": [
    "## Assign the initial positions\n",
    "\n",
    "As we have created the topology from scratch we will also need to define the initial positions from scratch. We will arrange our 100 polymer chains in a 10x10 grid in the X,Y plane and each polymer will be in a linear configuration in the Z direction."
   ]
  },
  {
   "cell_type": "code",
   "execution_count": null,
   "metadata": {},
   "outputs": [],
   "source": [
    "positions = []\n",
    "for m in range(M):\n",
    "    x0 = np.array(((m%10)*1.0, (m//10)*1.0, 0))*unit.nanometers\n",
    "    positions.append(x0)\n",
    "    for i in range(1,N):\n",
    "        xi = positions[-1] + np.array((0, 0, 0.38))*unit.nanometers\n",
    "        positions.append(xi)\n",
    "\n",
    "assert(len(positions) == topology.getNumAtoms())\n",
    "simulation.context.setPositions(positions)"
   ]
  },
  {
   "attachments": {},
   "cell_type": "markdown",
   "metadata": {},
   "source": [
    "The initial configuration looks like this:\n",
    "![initial configuration](initial_config.png)\n",
    "\n",
    "\n",
    "## Equilibrate the simulation\n",
    "\n",
    "We will now setup the simulation reporters, run NVT equilibration, and run NPT equilibration. \n"
   ]
  },
  {
   "cell_type": "code",
   "execution_count": null,
   "metadata": {},
   "outputs": [],
   "source": [
    "# setup simulation reporters\n",
    "# Write the trajectory to a file called 'traj.dcd'\n",
    "simulation.reporters.append(app.DCDReporter('traj.dcd', 1000, enforcePeriodicBox=False))\n",
    "\n",
    "# Report information to the screen as the simulation runs\n",
    "simulation.reporters.append(app.StateDataReporter(stdout, 1000, step=True,\n",
    "        potentialEnergy=True, temperature=True, volume=True, speed=True))\n",
    "\n",
    "\n",
    "# output the initial configuration\n",
    "with open('initial_config.pdb','w') as f:\n",
    "    app.PDBFile.writeFile(topology, simulation.context.getState(getPositions=True).getPositions(), f)\n",
    "\n",
    "# Now we can run NVT equilibration\n",
    "simulation.step(10000)\n",
    "\n",
    "# Add a barostat\n",
    "barostatIndex=system.addForce(openmm.MonteCarloBarostat(1.0*unit.bar, 300*unit.kelvin))\n",
    "simulation.context.reinitialize(preserveState=True)\n",
    "\n",
    "# Run NPT equilibration\n",
    "simulation.step(200000)\n",
    "\n",
    "\n",
    "# output the equilibrated configuration\n",
    "with open('equilibrated_config.pdb','w') as f:\n",
    "    state = simulation.context.getState(getPositions=True, enforcePeriodicBox=True)\n",
    "    topology.setPeriodicBoxVectors(state.getPeriodicBoxVectors())\n",
    "    app.PDBFile.writeFile(topology, state.getPositions(), f)"
   ]
  },
  {
   "attachments": {},
   "cell_type": "markdown",
   "metadata": {},
   "source": [
    "The equilibrated system will be a polymer melt that looks similar to this:\n",
    "![equilibrated polymer melt](equilibrated_config.png)\n",
    "\n",
    "## References"
   ]
  }
 ],
 "metadata": {
  "kernelspec": {
   "display_name": "cookbook3",
   "language": "python",
   "name": "python3"
  },
  "language_info": {
   "codemirror_mode": {
    "name": "ipython",
    "version": 3
   },
   "file_extension": ".py",
   "mimetype": "text/x-python",
   "name": "python",
   "nbconvert_exporter": "python",
   "pygments_lexer": "ipython3",
   "version": "3.11.3"
  },
  "orig_nbformat": 4,
   "nbsphinx": {
   "execute": "never"
  }
 },
 "nbformat": 4,
 "nbformat_minor": 2
}
