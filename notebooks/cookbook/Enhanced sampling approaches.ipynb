{
 "cells": [
  {
   "attachments": {},
   "cell_type": "markdown",
   "metadata": {},
   "source": [
    "# Imports and settings"
   ]
  },
  {
   "cell_type": "code",
   "execution_count": 25,
   "metadata": {},
   "outputs": [],
   "source": [
    "from openmm.app import *\n",
    "from openmm import *                    \n",
    "from openmm.unit import *\n",
    "from openmmtools import forces\n",
    "import mdtraj as md\n",
    "import numpy as np\n",
    "import parmed as pmd\n",
    "import bz2\n",
    "import os\n",
    "from openmm import CustomIntegrator\n",
    "from openmm.unit import kilojoules_per_mole, is_quantity\n",
    "from openmm.unit import *\n",
    "import numpy as np\n",
    "import pandas as pd \n",
    "from matplotlib import pyplot as plt"
   ]
  },
  {
   "cell_type": "code",
   "execution_count": 3,
   "metadata": {},
   "outputs": [],
   "source": [
    "# define a function for creating RMSD restraints \n",
    "def create_rmsd_restraint(positions, atom_indicies):\n",
    "    rmsd_cv = RMSDForce(positions, atom_indicies)\n",
    "    energy_expression = 'step(dRMSD) * (K_RMSD/2) * dRMSD^2; dRMSD = (RMSD-RMSD0);'                                                  \n",
    "    energy_expression += 'K_RMSD = %f;' % spring_constant.value_in_unit_system(md_unit_system)                                       \n",
    "    energy_expression += 'RMSD0 = %f;' % restraint_distance.value_in_unit_system(md_unit_system)                                     \n",
    "    restraint_force = CustomCVForce(energy_expression)                                                                               \n",
    "    restraint_force.addCollectiveVariable('RMSD', rmsd_cv)                                                                           \n",
    "    return restraint_force                                                                                                           \n",
    "                                                                  "
   ]
  },
  {
   "cell_type": "code",
   "execution_count": 13,
   "metadata": {},
   "outputs": [],
   "source": [
    "# define a function to list force groups and modify system context                                                       \n",
    "def forcegroupify(system):                                        \n",
    "    forcegroups = {}                                              \n",
    "    for i in range(system.getNumForces()):                                                                                           \n",
    "        force = system.getForce(i)                           \n",
    "        force.setForceGroup(i) \n",
    "        forcegroups[force] = i                                    \n",
    "    return forcegroups"
   ]
  },
  {
   "attachments": {},
   "cell_type": "markdown",
   "metadata": {},
   "source": [
    "# Setup a quick simulation system + state + CVForces"
   ]
  },
  {
   "cell_type": "code",
   "execution_count": 6,
   "metadata": {},
   "outputs": [],
   "source": [
    "sim_temp = 300.0 * kelvin\n",
    "H_mass = 4.0 * amu #Might need to be tuned to 3.5 amu \n",
    "time_step = 0.002 * picosecond  \n",
    "nb_cutoff = 10.0 * angstrom                                                                                                          \n",
    "box_padding = 12.0 * angstrom\n",
    "salt_conc = 0.15 * molar\n",
    "receptor_path=\"./villin.pdb\"\n",
    "current_file=\"villin-solvated\"\n",
    "# Misc parameters                                                 \n",
    "restraint_distance = 0.0 * angstroms                              \n",
    "restart_freq = 10\n",
    "log_freq = 1                                                                                                                         \n",
    "prd_steps = 100     "
   ]
  },
  {
   "cell_type": "code",
   "execution_count": 9,
   "metadata": {},
   "outputs": [
    {
     "data": {
      "text/plain": [
       "5"
      ]
     },
     "execution_count": 9,
     "metadata": {},
     "output_type": "execute_result"
    }
   ],
   "source": [
    "## Load an already solvated PDB file and set up the system + state\n",
    "pdb = PDBFile(receptor_path)\n",
    "omm_forcefield = ForceField(\"amber/ff14SB.xml\", \"amber14/tip3p.xml\")\n",
    "system = omm_forcefield.createSystem(pdb.topology, \n",
    "                                         nonbondedMethod=PME, \n",
    "                                         nonbondedCutoff=nb_cutoff, \n",
    "                                         constraints=HBonds, \n",
    "                                         rigidWater=True,\n",
    "                                         hydrogenMass=H_mass)\n",
    "system.addForce(MonteCarloBarostat(1*bar, sim_temp))\n"
   ]
  },
  {
   "attachments": {},
   "cell_type": "markdown",
   "metadata": {},
   "source": [
    "## Quickly identify a couple of atoms that we care about"
   ]
  },
  {
   "cell_type": "code",
   "execution_count": 11,
   "metadata": {},
   "outputs": [],
   "source": [
    "prot_top = md.Topology.from_openmm(pdb.topology)\n",
    "# find two atoms and save their inds\n",
    "d1_atom1_ind = prot_top.select(\"residue 6 and name CZ\")[0]\n",
    "d1_atom2_ind = prot_top.select(\"residue 10 and name CZ\")[0] \n",
    "d2_atom2_ind = prot_top.select(\"residue 17 and name CZ\")[0]"
   ]
  },
  {
   "cell_type": "code",
   "execution_count": 28,
   "metadata": {},
   "outputs": [],
   "source": [
    "# Let's define a torsion we will use later\n",
    "phe_chi = [72, 74, 76, 79]"
   ]
  },
  {
   "cell_type": "code",
   "execution_count": 15,
   "metadata": {},
   "outputs": [],
   "source": [
    "# Define a way to create a basic CV force (using two distances)\n",
    "def CreateCVForce(system, d1_atom1_ind, d1_atom2_ind, d2_atom2_ind):\n",
    "\n",
    "    cvforce = CustomCVForce(\"0\")\n",
    "    system.addForce(cvforce)\n",
    "    D1 = CustomBondForce(\"r\")\n",
    "    D1.addBond(d1_atom2_ind, d1_atom1_ind)\n",
    "    print(D1.getNumGlobalParameters())\n",
    "    #D1.addGlobalParameter(\"dist\", \"r\")\n",
    "    D2 = CustomBondForce(\"r\")\n",
    "    D2.addBond(d2_atom2_ind, d1_atom1_ind)\n",
    "    #D2.addGlobalParameter(\"dist\", \"r\")\n",
    "    cvforce.addCollectiveVariable(\"D1\", D1)\n",
    "    cvforce.addCollectiveVariable(\"D2\", D2)\n",
    "    return cvforce"
   ]
  },
  {
   "cell_type": "code",
   "execution_count": 19,
   "metadata": {},
   "outputs": [],
   "source": [
    "# Setup a reusable platform\n",
    "platform = Platform.getPlatformByName('OpenCL')\n",
    "platform.setPropertyDefaultValue('Precision', 'mixed')"
   ]
  },
  {
   "attachments": {},
   "cell_type": "markdown",
   "metadata": {},
   "source": [
    "# Let's setup some Accelerated Molecular Dynamics with a new Langevin Integrator"
   ]
  },
  {
   "attachments": {},
   "cell_type": "markdown",
   "metadata": {},
   "source": [
    "To set up an Accelerated MD (AMD) simulation in OpenMM, we could use the default AMD object.\\\n",
    "However this uses a Verlet integrator rather than Langevin dynamics. Luckily, OpenMM gives us the tools to write this ourselves, using the `CustomIntegrator` object!  "
   ]
  },
  {
   "attachments": {},
   "cell_type": "markdown",
   "metadata": {},
   "source": [
    "For Langevin-AMD, we're effectively adding a boost potential to the simulation. \n",
    "This boosted potential botential takes the form of\\\n",
    "$V'(r) = V_{0}(r) + \\frac{(E-V(r))^2}{(\\alpha+E-V_0(r))}$ \\ \n",
    "where $V_0(r)$ is the initial potential energy\\\n",
    "and $\\alpha$ and E are hyper parameters defining the potential.\\\n",
    "For further details on values to choose, see Hamelberg et al., J. Chem. Phys. 127, 155102 (2007)."
   ]
  },
  {
   "attachments": {},
   "cell_type": "markdown",
   "metadata": {},
   "source": [
    "## Let's define our custom integrator"
   ]
  },
  {
   "cell_type": "code",
   "execution_count": 20,
   "metadata": {},
   "outputs": [],
   "source": [
    "kB = BOLTZMANN_CONSTANT_kB * AVOGADRO_CONSTANT_NA\n",
    "\n",
    "\n",
    "class LangevinAMDIntegrator(CustomIntegrator):\n",
    "    \"\"\"AMDIntegrator implements the aMD integration algorithm.\n",
    "    The system is integrated based on a modified potential.  Whenever the energy V(r) is less than a\n",
    "    cutoff value E, the following effective potential is used:\n",
    "    V*(r) = V(r) + (E-V(r))^2 / (alpha+E-V(r))\n",
    "    For details, see Hamelberg et al., J. Chem. Phys. 127, 155102 (2007).\n",
    "    \"\"\"\n",
    "\n",
    "    def __init__(self, dt, alpha, E, temperature=300*kelvin, collision_rate=1.0/picosecond):\n",
    "        \"\"\"Create an AMDIntegrator.\n",
    "        Parameters\n",
    "        ----------\n",
    "        dt : time \n",
    "            The integration time step to use (simtk quantity)\n",
    "        alpha : energy\n",
    "            The alpha parameter to use\n",
    "        E : energy\n",
    "            The energy cutoff to use\n",
    "        temperature : temperature\n",
    "            temperature of the system\n",
    "        collision rate : collision rate\n",
    "            Collision for the thermostat to update on\n",
    "        \"\"\"\n",
    "        gamma = collision_rate*picoseconds # add this because SWIG somehow?\n",
    "        CustomIntegrator.__init__(self, dt)\n",
    "        # aMD boost parameters\n",
    "        self.addGlobalVariable(\"alpha\", alpha)\n",
    "        self.addGlobalVariable(\"E\", E)\n",
    "        self.addPerDofVariable(\"oldx\", 0)\n",
    "        self.addGlobalVariable(\"deltaV\", 0)\n",
    "        self.addGlobalVariable(\"V0\", 0)\n",
    "        self.addPerDofVariable(\"sigma\", 0)\n",
    "        self.addUpdateContextState();\n",
    "        \n",
    "        # Comment out old AMD method \n",
    "        # self.addComputePerDof(\"v\", \"v+dt*fprime/m; fprime=f*((1-modify) + modify*(alpha/(alpha+E-energy))^2); modify=step(E-energy)\")\n",
    "        # self.addComputePerDof(\"oldx\", \"x\")\n",
    "        # self.addComputePerDof(\"x\", \"x+dt*v\")\n",
    "        # self.addConstrainPositions()\n",
    "        # self.addComputePerDof(\"v\", \"(x-oldx)/dt\")\n",
    "\n",
    "        # new variables for Langevin kernel\n",
    "        self.addGlobalVariable('kT', kB * temperature)\n",
    "        self.addComputePerDof(\"sigma\", \"sqrt(kT/m)\")\n",
    "        self.addGlobalVariable(\"a\", np.exp(-1 * gamma)) #vscale?\n",
    "        self.addGlobalVariable(\"b\", np.sqrt(1 - np.exp(-2 * gamma))) # noise-scale?\n",
    "\n",
    "        #before position restraints\n",
    "        #self.addPerDofVariable(\"oldx\", 0)\n",
    "\n",
    "        # Compute steps for Langevin - attempt at VRORV splitting?\n",
    "        # The below dof_string lines are comments on how to modify fprime (thinking out loud basically)\n",
    "        # dof_string+= \"v + (dt / 2) * fprime/m;\" # standard v updating for VRORV (I think)\n",
    "        # dof_string+=\"fprime=f*((1-modify) + modify*(alpha/(alpha+E-energy))^2);\" # the right hand addition is the secret amd sauce\n",
    "        # dof_string = \"modify=step(E-energy);\" # this is defining the modify scaling\n",
    "        # Put the above together into a single new -line for computing v\n",
    "        self.addComputePerDof(\"v\", \"v + (dt / 2) * fprime / m; fprime=f*((1-modify) +   modify*(alpha/(alpha+E-energy))^2); modify=step(E-energy)\")\n",
    "        # langevin like normal\n",
    "        self.addComputePerDof(\"x\", \"x + (dt / 2)*v\")\n",
    "        self.addComputePerDof(\"oldx\", \"x\")\n",
    "        self.addConstrainPositions()\n",
    "        self.addComputePerDof(\"v\", \"v + (x - oldx)/(dt / 2)\")\n",
    "        self.addComputePerDof(\"v\", \"(a * v) + (b * sigma * gaussian)\") # taken from openmm-tutorial on custom integrators (link 1 above)\n",
    "        self.addComputePerDof(\"x\", \"x + (dt / 2)*v\")\n",
    "        self.addComputePerDof(\"oldx\", \"x\")\n",
    "        self.addConstrainPositions()\n",
    "        self.addComputePerDof(\"v\", \"v + (x - oldx) / (dt / 2)\")\n",
    "        # Use the same line as what you calculated above\n",
    "        self.addComputePerDof(\"v\", \"v + (dt / 2) * fprime / m; fprime=f*((1-modify) + modify*(alpha/(alpha+E-energy))^2); modify=step(E-energy)\")\n",
    "        # compute the V and deltaV values\n",
    "        self.addComputeGlobal(\"V0\", \"energy\")\n",
    "        self.addComputeGlobal(\"deltaV\",\"modify*(E-energy)^2/(alpha+E-energy); modify=step(E-energy)\")\n",
    "        self.addConstrainVelocities()\n",
    "\n",
    "\n",
    "\n",
    "\n",
    "    def getAlpha(self):\n",
    "        \"\"\"Get the value of alpha for the integrator.\"\"\"\n",
    "        return self.getGlobalVariable(0)*kilojoules_per_mole\n",
    "\n",
    "    def setAlpha(self, alpha):\n",
    "        \"\"\"Set the value of alpha for the integrator.\"\"\"\n",
    "        self.setGlobalVariable(0, alpha)\n",
    "\n",
    "    def getE(self):\n",
    "        \"\"\"Get the energy threshold E for the integrator.\"\"\"\n",
    "        return self.getGlobalVariable(1)*kilojoules_per_mole\n",
    "\n",
    "    def setE(self, E):\n",
    "        \"\"\"Set the energy threshold E for the integrator.\"\"\"\n",
    "        self.setGlobalVariable(1, E)\n",
    "\n",
    "    def getEffectiveEnergy(self, energy):\n",
    "        \"\"\"Given the actual potential energy of the system, return the value of the effective potential.\"\"\"\n",
    "        alpha = self.getAlpha()\n",
    "        E = self.getE()\n",
    "        if not is_quantity(energy):\n",
    "            energy = energy*kilojoules_per_mole # Assume kJ/mole\n",
    "        if (energy > E):\n",
    "            return energy\n",
    "        return energy+(E-energy)*(E-energy)/(alpha+E-energy)\n"
   ]
  },
  {
   "attachments": {},
   "cell_type": "markdown",
   "metadata": {},
   "source": [
    "And now we can just define it using (Using arbitrary numbers - you should choose your own)"
   ]
  },
  {
   "attachments": {},
   "cell_type": "markdown",
   "metadata": {},
   "source": [
    "Briefly: To choose your own E and $\\alpha$ values, the \"best practice\" is to run an Eq. MD simulation for ~10 nanoseconds, and look at the distribution of potential energy values.\\\n",
    "\n",
    "You'll want to set E=<V(r)> of the V(r) distribution and $\\alpha$ to some fraction of E.\\ \n",
    "Typically $\\alpha=0.2V(r)$ is a reasonable starting point "
   ]
  },
  {
   "attachments": {},
   "cell_type": "markdown",
   "metadata": {},
   "source": [
    "Now let's define the integrator object:"
   ]
  },
  {
   "cell_type": "code",
   "execution_count": 22,
   "metadata": {},
   "outputs": [],
   "source": [
    "lang_amd_integrator = LangevinAMDIntegrator(dt=time_step,\n",
    "                                            alpha=13060*kilojoules_per_mole,\n",
    "                                            E=-63500*kilojoules_per_mole,\n",
    "                                            temperature=300*kelvin,\n",
    "                                            collision_rate=1.0/picosecond)"
   ]
  },
  {
   "attachments": {},
   "cell_type": "markdown",
   "metadata": {},
   "source": [
    "Now let's define the simulation!"
   ]
  },
  {
   "cell_type": "code",
   "execution_count": null,
   "metadata": {},
   "outputs": [],
   "source": [
    "lang_amd_simulation = Simulation(pdb.topology, system, lang_amd_integrator, platform)"
   ]
  },
  {
   "cell_type": "code",
   "execution_count": null,
   "metadata": {},
   "outputs": [],
   "source": [
    "# Now let's add a couple of CVForce (with Force=0) to track distances:\n",
    "forcegroups = forcegroupify(system)\n",
    "cvforce = CreateCVForce(system)\n",
    "cvforce.setForceGroup(31)"
   ]
  },
  {
   "attachments": {},
   "cell_type": "markdown",
   "metadata": {},
   "source": [
    "At this point you can treat the `Simulation` object like any other"
   ]
  },
  {
   "attachments": {},
   "cell_type": "markdown",
   "metadata": {},
   "source": [
    "Let's say you wanted to track the boost potential applied at each frame.\\\n",
    "From this set of boosts you can reconstruct the effective FES explored.\n",
    " "
   ]
  },
  {
   "attachments": {},
   "cell_type": "markdown",
   "metadata": {},
   "source": [
    "Let's define reporters and minimize"
   ]
  },
  {
   "cell_type": "code",
   "execution_count": null,
   "metadata": {},
   "outputs": [],
   "source": [
    "# setup reporters\n",
    "lang_amd_simulation.reporters.append(DCDReporter('langevin-amd/'+current_file+''+ '.dcd', restart_freq))\n",
    "lang_amd_simulation.reporters.append(CheckpointReporter('langevin-amd/'+current_file+''+ '.chk', min(prd_steps, 10*restart_freq)))\n",
    "lang_amd_simulation.reporters.append(StateDataReporter(open('langevin-amd/log.' + current_file+'', 'w'), log_freq, step=True, potentialEnergy=True, kineticEnergy=True, totalEnergy=True, temperature=True, volume=True, density=True, speed=True))\n",
    "\n",
    "# minimize\n",
    "lang_amd_simulation.context.setPositions(pdb.positions)\n",
    "lang_amd_simulation.minimizeEnergy()"
   ]
  },
  {
   "cell_type": "code",
   "execution_count": null,
   "metadata": {},
   "outputs": [],
   "source": [
    "# Now run the simulation, tracking the boost using the Integrator\n",
    "with open(\"./AMD-deltaV-vals.dat\", \"a\") as f:\n",
    "    for i in range(300):\n",
    "        lang_amd_simulation.step(10)\n",
    "        n_steps = str(lang_amd_simulation.context.getStepCount())\n",
    "        deltaV_val = str(lang_amd_integrator.getGlobalVariable(2))\n",
    "        v0 = str(lang_amd_integrator.getGlobalVariable(3))\n",
    "        d1, d2 = cvforce.getCollectiveVariableValues(lang_amd_simulation.context)\n",
    "        f.write(\"%s %s %s %s %s \\n\" % (n_steps, v0, deltaV_val, str(d1), str(d2)))"
   ]
  },
  {
   "attachments": {},
   "cell_type": "markdown",
   "metadata": {},
   "source": [
    "# Langevin Gaussian Accelerated MD - a Gaussian boost instead of normal"
   ]
  },
  {
   "cell_type": "code",
   "execution_count": 24,
   "metadata": {},
   "outputs": [],
   "source": [
    "# Generate a customIntegrator for Gaussian Accelerated Molecular Dynamics (GAMD)\n",
    "\n",
    "kB = BOLTZMANN_CONSTANT_kB * AVOGADRO_CONSTANT_NA\n",
    "\n",
    "'''\n",
    "Useful links in the writing of this integrator: \n",
    "Writing custom integrators: https://github.com/choderalab/openmm-tutorials/blob/master/02%20-%20Integrators%20and%20sampling.ipynb\n",
    "AMD integrator: https://github.com/openmm/openmm/blob/master/wrappers/python/openmm/amd.py\n",
    "GAMD from Miao lab: https://github.com/MiaoLab20/gamd-openmm\n",
    "'''\n",
    "\n",
    "class GAMDLangevinIntegrator(CustomIntegrator):\n",
    "    \"\"\"GAMDLangevinIntegrator implements the aMD integration algorithm.\n",
    "    The system is integrated based on a modified potential.  Whenever the energy V(r) is less than a\n",
    "    cutoff value E, the following effective potential is used:\n",
    "    V*(r) = V(r) + ((k/2)*(E-V(r))**2)\n",
    "    \"\"\"\n",
    "\n",
    "    def __init__(self, dt, E, k, temperature=300*kelvin, collision_rate=1.0/picosecond):\n",
    "        \"\"\"Create an GAMDLangevinIntegrator.\n",
    "        Parameters\n",
    "        ----------\n",
    "        dt : time\n",
    "            The integration time step to use\n",
    "        k : energy\n",
    "            The k parameter to use\n",
    "        E : energy\n",
    "            The energy cutoff to use\n",
    "        temperature : temperature\n",
    "            temperature of the system\n",
    "        collision rate : collision rate\n",
    "            Collision for the thermostat to update on\n",
    "        \"\"\"\n",
    "        gamma = collision_rate*picoseconds # add this because SWIG somehow?\n",
    "        CustomIntegrator.__init__(self, dt)\n",
    "        # aMD boost parameters\n",
    "        self.addGlobalVariable(\"k\", k)\n",
    "        self.addGlobalVariable(\"E\", E)\n",
    "        self.addPerDofVariable(\"oldx\", 0)\n",
    "        self.addGlobalVariable(\"deltaV\", 0)\n",
    "        self.addGlobalVariable(\"V0\", 0)\n",
    "        self.addPerDofVariable(\"sigma\", 0)\n",
    "        self.addUpdateContextState();\n",
    "        \n",
    "        # Comment out old AMD method - verlet I believe\n",
    "        # self.addComputePerDof(\"v\", \"v+dt*fprime/m; fprime=f*((1-modify) + modify*(alpha/(alpha+E-energy))^2); modify=step(E-energy)\")\n",
    "        # self.addComputePerDof(\"oldx\", \"x\")\n",
    "        # self.addComputePerDof(\"x\", \"x+dt*v\")\n",
    "        # self.addConstrainPositions()\n",
    "        # self.addComputePerDof(\"v\", \"(x-oldx)/dt\")\n",
    "\n",
    "        # new variables for Langevin kernel\n",
    "        self.addGlobalVariable('kT', kB * temperature)\n",
    "        self.addComputePerDof(\"sigma\", \"sqrt(kT/m)\")\n",
    "        self.addGlobalVariable(\"a\", np.exp(-1 * gamma)) #vscale?\n",
    "        self.addGlobalVariable(\"b\", np.sqrt(1 - np.exp(-2 * gamma))) # noise-scale?\n",
    "\n",
    "        #before position restraints\n",
    "        #self.addPerDofVariable(\"oldx\", 0)\n",
    "\n",
    "        # Compute steps for Langevin - attempt at VRORV splitting?\n",
    "        # Original Langevin line in AMDIntegrator - replace this with GAMD\n",
    "        # self.addComputePerDof(\"v\", \"v + (dt / 2) * fprime / m; fprime=f*((1-modify) + modify*(alpha/(alpha+E-energy))^2); modify=step(E-energy)\")\n",
    "\n",
    "        # The below dof_string lines are comments on how to modify fprime (thinking out loud basically)\n",
    "        # dof_string = \"modify=step(E-energy);\" # this is defining the scaling\n",
    "        # dof_string+= \"v + (dt / 2) * fprime/m;\" # standard v updating for VRORV (I think)\n",
    "        # dof_string+=\"fprime=f*((1-modify) + modify*(1-(k*E-energy)));\" # the right hand addition is the secret amd sauce\n",
    "\n",
    "        # Put the above together into a single new -line for computing v\n",
    "        self.addComputePerDof(\"v\", \"v + (dt/2) * fprime/m; fprime=f*((1-modify) + modify*(1-k*(E-energy))); modify=step(E-energy)\")\n",
    "\n",
    "        # now langevin like normal\n",
    "        self.addComputePerDof(\"x\", \"x + (dt / 2)*v\")\n",
    "        self.addComputePerDof(\"oldx\", \"x\")\n",
    "        self.addConstrainPositions()\n",
    "        self.addComputePerDof(\"v\", \"v + (x - oldx)/(dt / 2)\")\n",
    "        self.addComputePerDof(\"v\", \"(a * v) + (b * sigma * gaussian)\")\n",
    "        self.addComputePerDof(\"x\", \"x + (dt / 2)*v\")\n",
    "        self.addComputePerDof(\"oldx\", \"x\")\n",
    "        self.addConstrainPositions()\n",
    "        self.addComputePerDof(\"v\", \"v + (x - oldx) / (dt / 2)\")\n",
    "        # Update v with the same as the first line above\n",
    "        # comment out old line from AMDIntegrator attempt\n",
    "        #self.addComputePerDof(\"v\", \"v + (dt / 2) * fprime / m; fprime=f*((1-modify) + modify*(alpha/(alpha+E-energy))^2); modify=step(E-energy)\")\n",
    "        self.addComputePerDof(\"v\", \"v + (dt/2) * fprime/m; fprime=f*((1-modify) + modify*(1-k*(E-energy))); modify=step(E-energy)\")\n",
    "        # compute the V and deltaV values\n",
    "        self.addComputeGlobal(\"V0\", \"energy\")\n",
    "        #self.addComputeGlobal(\"deltaV\",\"modify*(E-energy)^2/(alpha+E-energy); modify=step(E-energy)\")\n",
    "        self.addComputeGlobal(\"deltaV\",\"modify*((k / 2 * (E-energy)^2)); modify=step(E-energy)\")\n",
    "        self.addConstrainVelocities()\n",
    "\n",
    "\n",
    "\n",
    "\n",
    "    def getk(self):\n",
    "        \"\"\"Get the value of k for the integrator.\"\"\"\n",
    "        return self.getGlobalVariable(0)*kilojoules_per_mole\n",
    "\n",
    "    def setk(self, k):\n",
    "        \"\"\"Set the value of k for the integrator.\"\"\"\n",
    "        self.setGlobalVariable(0, k)\n",
    "\n",
    "    def getE(self):\n",
    "        \"\"\"Get the energy threshold E for the integrator.\"\"\"\n",
    "        return self.getGlobalVariable(1)*kilojoules_per_mole\n",
    "\n",
    "    def setE(self, E):\n",
    "        \"\"\"Set the energy threshold E for the integrator.\"\"\"\n",
    "        self.setGlobalVariable(1, E)\n",
    "\n",
    "    def getEffectiveEnergy(self, energy):\n",
    "        \"\"\"Given the actual potential energy of the system, return the value of the effective potential.\"\"\"\n",
    "        k = self.getk()\n",
    "        E = self.getE()\n",
    "        if not is_quantity(energy):\n",
    "            energy = energy*kilojoules_per_mole # Assume kJ/mole\n",
    "        if (energy > E):\n",
    "            return energy*kilojoules_per_mole # Assume kJ/mole\n",
    "        boost = (0.5 * k * (E-energy)*(E-energy)) / kilojoules_per_mole / kilojoules_per_mole\n",
    "        return energy + boost #energy+(E-energy)*(E-energy)/(alpha+E-energy)"
   ]
  },
  {
   "attachments": {},
   "cell_type": "markdown",
   "metadata": {},
   "source": [
    "Let's say we had some CSV file that had the potential energy distribution\n",
    "How would we define the parameters that go into the GAMD Integrator? "
   ]
  },
  {
   "cell_type": "code",
   "execution_count": null,
   "metadata": {},
   "outputs": [],
   "source": [
    "# load in and estimate Gamd parameters from langevin simualtion\n",
    "table_vals = pd.read_csv(\"/home/sukrit/lilac/data/sampling-test/langevin-basic/log.langevin-basic\")\n",
    "energies = table_vals[\"Potential Energy (kJ/mole)\"].values"
   ]
  },
  {
   "cell_type": "code",
   "execution_count": null,
   "metadata": {},
   "outputs": [],
   "source": [
    "#potential energy statistics:\n",
    "Vmax = energies.max()\n",
    "Vmin = energies.min()\n",
    "Vavg = energies.mean()\n",
    "Vstd = np.std(energies)\n",
    "print(f'Vmax: {Vmax},\\nVmin: {Vmin},\\nVavg: {Vavg},\\nVstd: {Vstd}')"
   ]
  },
  {
   "cell_type": "code",
   "execution_count": null,
   "metadata": {},
   "outputs": [],
   "source": [
    "#set the desired maximum standard deviation of the boost potential to be 10kT: \n",
    "sigma_0 = (MOLAR_GAS_CONSTANT_R * sim_temp ).value_in_unit(kilojoule_per_mole) * 10\n",
    "print(f'Sigma0: {sigma_0}')\n"
   ]
  },
  {
   "cell_type": "code",
   "execution_count": null,
   "metadata": {},
   "outputs": [],
   "source": [
    "# define k_0 and k\n",
    "k_0 = min(1, sigma_0/Vstd * ((Vmax-Vmin)/(Vmax-Vavg)))\n",
    "k = k_0 * (1 / (Vmax - Vmin) )\n",
    "print(f'k_0: {k_0},\\nk: {k}')"
   ]
  },
  {
   "attachments": {},
   "cell_type": "markdown",
   "metadata": {},
   "source": [
    "And lastly - let's define the GAMD integrator object:\n"
   ]
  },
  {
   "cell_type": "code",
   "execution_count": null,
   "metadata": {},
   "outputs": [],
   "source": [
    "# Define the gamd_integrator\n",
    "gamd_integrator = GAMDLangevinIntegrator(dt=time_step,\n",
    "                                            k=k,\n",
    "                                            E=Vmax,\n",
    "                                            temperature=300*kelvin,\n",
    "                                            collision_rate=1.0/picosecond)"
   ]
  },
  {
   "attachments": {},
   "cell_type": "markdown",
   "metadata": {},
   "source": [
    "Everything else happens as with AMD for defining a `Simulation` object and running/tracking\n",
    "a simulation."
   ]
  },
  {
   "attachments": {},
   "cell_type": "markdown",
   "metadata": {},
   "source": [
    "# Metadynamics"
   ]
  },
  {
   "attachments": {},
   "cell_type": "markdown",
   "metadata": {},
   "source": [
    "## Defining our Gaussian boost potential values"
   ]
  },
  {
   "attachments": {},
   "cell_type": "markdown",
   "metadata": {},
   "source": [
    "Let's say I already had run that Langevin dynamics simulation - we're going to use a CSV file to \\\n",
    "best identify our Gaussian boosts"
   ]
  },
  {
   "cell_type": "code",
   "execution_count": null,
   "metadata": {},
   "outputs": [],
   "source": [
    "columts = ['step', 'd1', 'd2', 'NaN']\n",
    "cv_eq = pd.read_csv(\"./eq-vals.dat\",\n",
    "                    delimiter=\" \",\n",
    "                   names=columts)\n",
    "\n",
    "d1_eq = cv_eq['d1'].values\n",
    "d2_eq = cv_eq['d2'].values"
   ]
  },
  {
   "cell_type": "code",
   "execution_count": null,
   "metadata": {},
   "outputs": [],
   "source": [
    "import matplotlib.pyplot as plt\n",
    "plt.hist(d1_eq)\n",
    "print(\"average: %s \\n error %s\" % (np.mean(d1_eq), np.std(d1_eq)))\n",
    "print(\"error value should thus be %s\" % (np.std(d1_eq) / 2))"
   ]
  },
  {
   "cell_type": "code",
   "execution_count": null,
   "metadata": {},
   "outputs": [],
   "source": [
    "plt.hist(d2_eq)\n",
    "print(\"average: %s \\n error %s\" % (np.mean(d2_eq), np.std(d2_eq)))\n",
    "print(\"error value should thus be %s\" % (np.std(d2_eq) / 2))"
   ]
  },
  {
   "attachments": {},
   "cell_type": "markdown",
   "metadata": {},
   "source": [
    "## Setting up our metadynamics simulation"
   ]
  },
  {
   "attachments": {},
   "cell_type": "markdown",
   "metadata": {},
   "source": [
    "From the code above let's say we define our boosts as well as we know them:"
   ]
  },
  {
   "attachments": {},
   "cell_type": "markdown",
   "metadata": {},
   "source": [
    "This time we're going to operate a MetaD simulation on 3 CVs: 2 distances and 1 dihedral.\n",
    "\n",
    "We defined our distance and dihedral up high!"
   ]
  },
  {
   "cell_type": "code",
   "execution_count": null,
   "metadata": {},
   "outputs": [],
   "source": [
    "# Define BiasVariables\n",
    "d1 = CustomBondForce('r')\n",
    "d1.addBond(d1_atom1_ind, d1_atom2_ind)\n",
    "d1_bias = BiasVariable(d1, 0.3, 3.0, 0.05, periodic=False)\n",
    "\n",
    "d2=CustomBondForce('r')\n",
    "d2.addBond(d1_atom1_ind, d2_atom2_ind)\n",
    "d2_bias = BiasVariable(d2, 1.2, 5.0, 0.05, periodic=False)\n",
    "\n",
    "chi = CustomTorsionForce('theta')\n",
    "chi.addTorsion(phe_chi[0], phe_chi[1], phe_chi[2], phe_chi[3])\n",
    "chi_bias = BiasVariable(chi, -np.pi, np.pi, 0.35, True, 181)"
   ]
  },
  {
   "cell_type": "code",
   "execution_count": null,
   "metadata": {},
   "outputs": [],
   "source": []
  },
  {
   "cell_type": "code",
   "execution_count": null,
   "metadata": {},
   "outputs": [],
   "source": []
  }
 ],
 "metadata": {
  "kernelspec": {
   "display_name": "openmm",
   "language": "python",
   "name": "python3"
  },
  "language_info": {
   "codemirror_mode": {
    "name": "ipython",
    "version": 3
   },
   "file_extension": ".py",
   "mimetype": "text/x-python",
   "name": "python",
   "nbconvert_exporter": "python",
   "pygments_lexer": "ipython3",
   "version": "3.9.16"
  },
  "orig_nbformat": 4
 },
 "nbformat": 4,
 "nbformat_minor": 2
}
