{
 "cells": [
  {
   "attachments": {},
   "cell_type": "markdown",
   "metadata": {},
   "source": [
    "# Imports and settings"
   ]
  },
  {
   "cell_type": "code",
   "execution_count": 232,
   "metadata": {},
   "outputs": [],
   "source": [
    "from openmm.app import *\n",
    "from openmm import *\n",
    "from openmm.unit import *"
   ]
  },
  {
   "attachments": {},
   "cell_type": "markdown",
   "metadata": {},
   "source": [
    "# Setup a simulation system + state + CVForces"
   ]
  },
  {
   "cell_type": "code",
   "execution_count": 233,
   "metadata": {},
   "outputs": [],
   "source": [
    "# Load an already solvated PDB file and set up the system + state\n",
    "pdb = PDBFile(\"../villin.pdb\")\n",
    "omm_forcefield = ForceField(\"amber/ff14SB.xml\", \"amber14/tip3p.xml\")\n",
    "system = omm_forcefield.createSystem(pdb.topology,\n",
    "                                     nonbondedMethod=PME,\n",
    "                                     nonbondedCutoff=10.0 * angstrom,\n",
    "                                     constraints=HBonds,\n",
    "                                     rigidWater=True,\n",
    "                                     hydrogenMass=4.0 * amu)"
   ]
  },
  {
   "attachments": {},
   "cell_type": "markdown",
   "metadata": {},
   "source": [
    "## Quickly identify a couple of atoms that we care about and set `CVForce`"
   ]
  },
  {
   "cell_type": "code",
   "execution_count": 234,
   "metadata": {},
   "outputs": [],
   "source": [
    "# Define three atom indices - these will be used to measure useful distances \n",
    "d1_atom1_ind = 83\n",
    "d1_atom2_ind = 151\n",
    "d2_atom2_ind = 254"
   ]
  },
  {
   "attachments": {},
   "cell_type": "markdown",
   "metadata": {},
   "source": [
    "Ultimately we want to track the value of these distances (lets call them D1 and D2), \\\n",
    "as a function of the free energy boost applied. \\\n",
    "To track D1 and D2, we could use a whole `Reporter` object to save the whole trajectory and measure it afterwards.\\\n",
    "A lightweight way of doing this without the whole trajectory is to use a `customCVForce` object set to 0 (i.e. no bias). This will compute the value of a CV at each step of the simulation.\\\n",
    "We then pass D1 and D2 as bondForces to the `customCVForce` object (using `r` to track their distance)"
   ]
  },
  {
   "cell_type": "code",
   "execution_count": 235,
   "metadata": {},
   "outputs": [
    {
     "data": {
      "text/plain": [
       "5"
      ]
     },
     "execution_count": 235,
     "metadata": {},
     "output_type": "execute_result"
    }
   ],
   "source": [
    "# define a distance measurer\n",
    "dist_measurer = CustomCVForce(\"0\")\n",
    "# Create our two distances as separate Bond Forces and add them\n",
    "# Note: If we added both D1 and D2 to the same BondForce, then doing \n",
    "#     dist_measurer.getCollectiveVariableValues will return only the first distance (D1)\n",
    "# Hence we define them as separate BondForces\n",
    "D1 = CustomBondForce(\"r\")\n",
    "D1.addBond(d1_atom2_ind, d1_atom1_ind)\n",
    "D2 = CustomBondForce(\"r\")\n",
    "D2.addBond(d2_atom2_ind, d1_atom1_ind)\n",
    "\n",
    "# Add each BondForce as CVs into the dist_measurer\n",
    "dist_measurer.addCollectiveVariable(\"D1\", D1)\n",
    "dist_measurer.addCollectiveVariable(\"D2\", D2)\n",
    "system.addForce(dist_measurer)"
   ]
  },
  {
   "attachments": {},
   "cell_type": "markdown",
   "metadata": {},
   "source": [
    "# Time to setup Gaussian Accelerated MD "
   ]
  },
  {
   "attachments": {},
   "cell_type": "markdown",
   "metadata": {},
   "source": [
    "For Langevin-GAMD, we're effectively adding a boost potential to the simulation. \n",
    "This boosted potential botential takes the form of a Gaussian \\\n",
    "TODO: Add GAMD boost equation - the one below is for AMD\\\n",
    "$V'(r) = V_{0}(r) + \\frac{(E-V(r))^2}{(\\alpha+E-V_0(r))}$ \n",
    "where $V_0(r)$ is the initial potential energy\\\n",
    "and $\\alpha$ and E are hyper parameters defining the potential.\\"
   ]
  },
  {
   "attachments": {},
   "cell_type": "markdown",
   "metadata": {},
   "source": [
    "OpenMM gives us the tools to do this oursleves. \\\n",
    "Let's first define a `customIntegrator` to run this:"
   ]
  },
  {
   "cell_type": "code",
   "execution_count": 236,
   "metadata": {},
   "outputs": [],
   "source": [
    "kB = BOLTZMANN_CONSTANT_kB * AVOGADRO_CONSTANT_NA\n",
    "\n",
    "'''\n",
    "Useful links in the writing of this integrator: \n",
    "Writing custom integrators: https://github.com/choderalab/openmm-tutorials/blob/master/02%20-%20Integrators%20and%20sampling.ipynb\n",
    "AMD integrator: https://github.com/openmm/openmm/blob/master/wrappers/python/openmm/amd.py\n",
    "GAMD from Miao lab: https://github.com/MiaoLab20/gamd-openmm\n",
    "'''\n",
    "\n",
    "import numpy as np\n",
    "class GAMDLangevinIntegrator(CustomIntegrator):\n",
    "    \"\"\"GAMDLangevinIntegrator implements the aMD integration algorithm.\n",
    "    The system is integrated based on a modified potential.  Whenever the energy V(r) is less than a\n",
    "    cutoff value E, the following effective potential is used:\n",
    "    V*(r) = V(r) + ((k/2)*(E-V(r))**2)\n",
    "    \"\"\"\n",
    "\n",
    "    def __init__(self, dt, E, k, temperature=300*kelvin, collision_rate=1.0/picosecond):\n",
    "        \"\"\"Create an GAMDLangevinIntegrator.\n",
    "        Parameters\n",
    "        ----------\n",
    "        dt : time\n",
    "            The integration time step to use\n",
    "        k : energy\n",
    "            The k parameter to use\n",
    "        E : energy\n",
    "            The energy cutoff to use\n",
    "        temperature : temperature\n",
    "            temperature of the system\n",
    "        collision rate : collision rate\n",
    "            Collision for the thermostat to update on\n",
    "        \"\"\"\n",
    "        gamma = collision_rate*picoseconds # add this because SWIG \n",
    "        CustomIntegrator.__init__(self, dt)\n",
    "        # GaMD boost parameters\n",
    "        self.addGlobalVariable(\"k\", k)\n",
    "        self.addGlobalVariable(\"E\", E)\n",
    "        self.addPerDofVariable(\"oldx\", 0)\n",
    "        self.addGlobalVariable(\"deltaV\", 0)\n",
    "        self.addGlobalVariable(\"V0\", 0)\n",
    "        self.addPerDofVariable(\"sigma\", 0)\n",
    "        self.addUpdateContextState();\n",
    "        \n",
    "        # Comment out old AMD method - verlet I believe\n",
    "        # self.addComputePerDof(\"v\", \"v+dt*fprime/m; fprime=f*((1-modify) + modify*(alpha/(alpha+E-energy))^2); modify=step(E-energy)\")\n",
    "        # self.addComputePerDof(\"oldx\", \"x\")\n",
    "        # self.addComputePerDof(\"x\", \"x+dt*v\")\n",
    "        # self.addConstrainPositions()\n",
    "        # self.addComputePerDof(\"v\", \"(x-oldx)/dt\")\n",
    "\n",
    "        # new variables for Langevin kernel\n",
    "        self.addGlobalVariable('kT', kB * temperature)\n",
    "        self.addComputePerDof(\"sigma\", \"sqrt(kT/m)\")\n",
    "        self.addGlobalVariable(\"a\", np.exp(-1 * gamma)) #vscale?\n",
    "        self.addGlobalVariable(\"b\", np.sqrt(1 - np.exp(-2 * gamma))) # noise-scale?\n",
    "\n",
    "        #before position restraints\n",
    "        #self.addPerDofVariable(\"oldx\", 0)\n",
    "\n",
    "        # Compute steps for Langevin - attempt at VRORV splitting?\n",
    "        # Original Langevin line in AMDIntegrator - replace this with GAMD\n",
    "        # self.addComputePerDof(\"v\", \"v + (dt / 2) * fprime / m; fprime=f*((1-modify) + modify*(alpha/(alpha+E-energy))^2); modify=step(E-energy)\")\n",
    "\n",
    "        # The below dof_string lines are comments on how to modify fprime (thinking out loud basically)\n",
    "        # dof_string = \"modify=step(E-energy);\" # this is defining the scaling\n",
    "        # dof_string+= \"v + (dt / 2) * fprime/m;\" # standard v updating for VRORV (I think)\n",
    "        # dof_string+=\"fprime=f*((1-modify) + modify*(1-(k*E-energy)));\" # the right hand addition is the secret amd sauce\n",
    "\n",
    "        # Put the above together into a single new -line for computing v\n",
    "        self.addComputePerDof(\"v\", \"v + (dt/2) * fprime/m; fprime=f*((1-modify) + modify*(1-k*(E-energy))); modify=step(E-energy)\")\n",
    "\n",
    "        # now langevin like normal\n",
    "        self.addComputePerDof(\"x\", \"x + (dt / 2)*v\")\n",
    "        self.addComputePerDof(\"oldx\", \"x\")\n",
    "        self.addConstrainPositions()\n",
    "        self.addComputePerDof(\"v\", \"v + (x - oldx)/(dt / 2)\")\n",
    "        self.addComputePerDof(\"v\", \"(a * v) + (b * sigma * gaussian)\")\n",
    "        self.addComputePerDof(\"x\", \"x + (dt / 2)*v\")\n",
    "        self.addComputePerDof(\"oldx\", \"x\")\n",
    "        self.addConstrainPositions()\n",
    "        self.addComputePerDof(\"v\", \"v + (x - oldx) / (dt / 2)\")\n",
    "        # Update v with the same as the first line above\n",
    "        # comment out old line from AMDIntegrator attempt\n",
    "        #self.addComputePerDof(\"v\", \"v + (dt / 2) * fprime / m; fprime=f*((1-modify) + modify*(alpha/(alpha+E-energy))^2); modify=step(E-energy)\")\n",
    "        self.addComputePerDof(\"v\", \"v + (dt/2) * fprime/m; fprime=f*((1-modify) + modify*(1-k*(E-energy))); modify=step(E-energy)\")\n",
    "        # compute the V and deltaV values\n",
    "        self.addComputeGlobal(\"V0\", \"energy\")\n",
    "        #self.addComputeGlobal(\"deltaV\",\"modify*(E-energy)^2/(alpha+E-energy); modify=step(E-energy)\")\n",
    "        self.addComputeGlobal(\"deltaV\",\"modify*((k / 2 * (E-energy)^2)); modify=step(E-energy)\")\n",
    "        self.addConstrainVelocities()\n",
    "\n",
    "    def getk(self):\n",
    "        \"\"\"Get the value of k for the integrator.\"\"\"\n",
    "        return self.getGlobalVariable(0)*kilojoules_per_mole\n",
    "\n",
    "    def setk(self, k):\n",
    "        \"\"\"Set the value of k for the integrator.\"\"\"\n",
    "        self.setGlobalVariable(0, k)\n",
    "\n",
    "    def getE(self):\n",
    "        \"\"\"Get the energy threshold E for the integrator.\"\"\"\n",
    "        return self.getGlobalVariable(1)*kilojoules_per_mole\n",
    "\n",
    "    def setE(self, E):\n",
    "        \"\"\"Set the energy threshold E for the integrator.\"\"\"\n",
    "        self.setGlobalVariable(1, E)\n",
    "\n",
    "    def getEffectiveEnergy(self, energy):\n",
    "        \"\"\"Given the actual potential energy of the system, return the value of the effective potential.\"\"\"\n",
    "        k = self.getk()\n",
    "        E = self.getE()\n",
    "        if not is_quantity(energy):\n",
    "            energy = energy*kilojoules_per_mole # Assume kJ/mole\n",
    "        if (energy > E):\n",
    "            return energy*kilojoules_per_mole # Assume kJ/mole\n",
    "        boost = (0.5 * k * (E-energy)*(E-energy)) / kilojoules_per_mole / kilojoules_per_mole\n",
    "        return energy + boost #energy+(E-energy)*(E-energy)/(alpha+E-energy)"
   ]
  },
  {
   "attachments": {},
   "cell_type": "markdown",
   "metadata": {},
   "source": [
    "Before running a Gaussian AMD simulation, you first need to select a strength for the boost potential. This is usually done by running a short simulation, recording the potential energy, and computing some simple statistics of it. The following are the minimum, maximum, mean, and standard deviation of the energies observed during an earlier simulation."
   ]
  },
  {
   "cell_type": "code",
   "execution_count": 237,
   "metadata": {},
   "outputs": [],
   "source": [
    "#potential energy statistics:\n",
    "Vmin = -118900.7367725638\n",
    "Vmax = -100000.8288112064\n",
    "Vavg = -115420.040535957\n",
    "Vstd = 904.4602237453533"
   ]
  },
  {
   "attachments": {},
   "cell_type": "markdown",
   "metadata": {},
   "source": [
    "We will do the same for the maximum standard deviation of the boost potential. \\\n",
    "We will use the following formula: \\\n",
    "`(MOLAR_GAS_CONSTANT_R * sim_temp ).value_in_unit(kilojoule_per_mole) * 10`\n",
    "\n",
    "As above, we drew upon a sample trajectory, took the last frame, and computed the value:"
   ]
  },
  {
   "cell_type": "code",
   "execution_count": 238,
   "metadata": {},
   "outputs": [],
   "source": [
    "sigma_0 = 2.4943387854459722"
   ]
  },
  {
   "attachments": {},
   "cell_type": "markdown",
   "metadata": {},
   "source": [
    "We will then define two constants $k_0$ and $k$ which are built upon all these above \\\n",
    "computed values. $k_0$ and $Vmax$ are what goes into the integrator and boost. \n",
    "\n",
    "Note that the formula gives you an upper value of $k_0$. If you wish to use a lower value to obtain \n",
    "finer-grained sampling between states, choose a lower value of $k_0$\n",
    "\n",
    "TODO: Add proper latex equations\\\n",
    "`k_0 = min(1, sigma_0/Vstd * ((Vmax-Vmin)/(Vmax-Vavg)))`\\\n",
    "`k = k_0 * (1 / (Vmax - Vmin) )`"
   ]
  },
  {
   "cell_type": "code",
   "execution_count": 239,
   "metadata": {},
   "outputs": [],
   "source": [
    "# define k_0 and k\n",
    "k_0 = 0.0009512432921778509516\n",
    "k = 2.8354183998193767e-05"
   ]
  },
  {
   "cell_type": "code",
   "execution_count": 240,
   "metadata": {},
   "outputs": [],
   "source": [
    "# defintion of gamd_integrator\n",
    "gamd_integrator = GAMDLangevinIntegrator(dt=0.002 * picosecond,\n",
    "                                            k=k_0,\n",
    "                                            E=Vmax,\n",
    "                                            temperature=300*kelvin,\n",
    "                                            collision_rate=1.0/picosecond)"
   ]
  },
  {
   "attachments": {},
   "cell_type": "markdown",
   "metadata": {},
   "source": [
    "# We have the integrator, now lets run the simulation"
   ]
  },
  {
   "cell_type": "code",
   "execution_count": 241,
   "metadata": {},
   "outputs": [],
   "source": [
    "gamd_simulation =  Simulation(pdb.topology, system, gamd_integrator)"
   ]
  },
  {
   "attachments": {},
   "cell_type": "markdown",
   "metadata": {},
   "source": [
    "With GAMD, you want to track the boost potential applied at each frame.\\\n",
    "From this set of boosts you can reconstruct the effective FES explored.\n",
    "\n",
    "You'll want to project the FES on some features you care about \\\n",
    "(We did so with the `dist_measurer` above)"
   ]
  },
  {
   "cell_type": "code",
   "execution_count": 242,
   "metadata": {},
   "outputs": [],
   "source": [
    "gamd_simulation.context.setPositions(pdb.positions)"
   ]
  },
  {
   "cell_type": "code",
   "execution_count": 243,
   "metadata": {},
   "outputs": [
    {
     "name": "stdout",
     "output_type": "stream",
     "text": [
      "10 -100771.98186972504 282.841272495641 0.4661301076412201 0.43017590045928955\n",
      "20 -100615.32561972504 179.59774314456334 0.45594143867492676 0.4320942461490631\n",
      "30 -100592.20061972504 166.33469501063638 0.4590217173099518 0.43697890639305115\n",
      "40 -100538.45061972504 137.4723531230814 0.4406464397907257 0.431123286485672\n",
      "50 -100587.13811972504 163.49903368890494 0.43526703119277954 0.4224798083305359\n",
      "60 -100540.57561972504 138.56124527262602 0.4393979609012604 0.4221265912055969\n",
      "70 -100561.76311972504 149.65306603729772 0.4421063959598541 0.4138357639312744\n",
      "80 -100478.51311972504 108.52844047083259 0.43589234352111816 0.4157506823539734\n",
      "90 -100536.91936972504 136.69037308156953 0.44068843126296997 0.4205670952796936\n",
      "100 -100469.57561972504 104.50528628403931 0.44310981035232544 0.43028485774993896\n"
     ]
    }
   ],
   "source": [
    "for i in range(10):\n",
    "    gamd_simulation.step(10)\n",
    "    n_steps = str(gamd_simulation.context.getStepCount())\n",
    "    deltaV_val = str(gamd_integrator.getGlobalVariable(2))\n",
    "    v0 = str(gamd_integrator.getGlobalVariable(3))\n",
    "    d1, d2 = dist_measurer.getCollectiveVariableValues(gamd_simulation.context)\n",
    "    print(\"%s %s %s %s %s\" % (n_steps, v0, deltaV_val, str(d1), str(d2)))"
   ]
  }
 ],
 "metadata": {
  "kernelspec": {
   "display_name": "openmm",
   "language": "python",
   "name": "python3"
  },
  "language_info": {
   "codemirror_mode": {
    "name": "ipython",
    "version": 3
   },
   "file_extension": ".py",
   "mimetype": "text/x-python",
   "name": "python",
   "nbconvert_exporter": "python",
   "pygments_lexer": "ipython3",
   "version": "3.9.16"
  },
  "orig_nbformat": 4
 },
 "nbformat": 4,
 "nbformat_minor": 2
}
