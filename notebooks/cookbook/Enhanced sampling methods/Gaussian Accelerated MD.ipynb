{
 "cells": [
  {
   "attachments": {},
   "cell_type": "markdown",
   "metadata": {},
   "source": [
    "# Imports and settings"
   ]
  },
  {
   "cell_type": "code",
   "execution_count": 301,
   "metadata": {},
   "outputs": [],
   "source": [
    "from openmm.app import *\n",
    "from openmm import *\n",
    "from openmm.unit import *"
   ]
  },
  {
   "attachments": {},
   "cell_type": "markdown",
   "metadata": {},
   "source": [
    "# Setup a simulation system + Restraints"
   ]
  },
  {
   "cell_type": "code",
   "execution_count": 302,
   "metadata": {},
   "outputs": [],
   "source": [
    "# Load an already solvated PDB file and set up the system + state\n",
    "pdb = PDBFile(\"../villin.pdb\")\n",
    "omm_forcefield = ForceField(\"amber/ff14SB.xml\", \"amber14/tip3p.xml\")\n",
    "system = omm_forcefield.createSystem(pdb.topology,\n",
    "                                     nonbondedMethod=PME,\n",
    "                                     nonbondedCutoff=10.0 * angstrom,\n",
    "                                     constraints=HBonds,\n",
    "                                     rigidWater=True,\n",
    "                                     hydrogenMass=4.0 * amu)"
   ]
  },
  {
   "attachments": {},
   "cell_type": "markdown",
   "metadata": {},
   "source": [
    "## Use some atoms to set up Harmonic restraints"
   ]
  },
  {
   "cell_type": "code",
   "execution_count": 303,
   "metadata": {},
   "outputs": [],
   "source": [
    "# Define three atom indices - these will be used to measure useful distances \n",
    "d1_atom1_ind = 83\n",
    "d1_atom2_ind = 151\n",
    "d2_atom2_ind = 254"
   ]
  },
  {
   "attachments": {},
   "cell_type": "markdown",
   "metadata": {},
   "source": [
    "Ultimately we want to track the value of these distances (lets call them D1 and D2), \\\n",
    "as a function of the free energy boost applied. \\\n",
    "To track D1 and D2, we could use a whole `Reporter` object to save the whole trajectory and measure it afterwards.\\"
   ]
  },
  {
   "attachments": {},
   "cell_type": "markdown",
   "metadata": {},
   "source": [
    "A lightweight way of doing this without saving the whole trajectory is to use a `customCVForce` object set to 0 (i.e. no bias). This will compute the value of a CV at each step of the simulation.\\\n",
    "We then pass D1 and D2 as bondForces to the `customCVForce` object (using `r` to track their distance)"
   ]
  },
  {
   "cell_type": "code",
   "execution_count": 304,
   "metadata": {},
   "outputs": [
    {
     "data": {
      "text/plain": [
       "5"
      ]
     },
     "execution_count": 304,
     "metadata": {},
     "output_type": "execute_result"
    }
   ],
   "source": [
    "# define a distance measurer\n",
    "dist_measurer = CustomCVForce(\"0\")\n",
    "# Create our two distances as separate Bond Forces and add them\n",
    "# Note: If we added both D1 and D2 to the same BondForce, then doing \n",
    "#     dist_measurer.getCollectiveVariableValues will return only the first distance (D1)\n",
    "# Hence we define them as separate BondForces\n",
    "D1 = CustomBondForce(\"r\")\n",
    "D1.addBond(d1_atom2_ind, d1_atom1_ind)\n",
    "D2 = CustomBondForce(\"r\")\n",
    "D2.addBond(d2_atom2_ind, d1_atom1_ind)\n",
    "\n",
    "# Add each BondForce as CVs into the dist_measurer\n",
    "dist_measurer.addCollectiveVariable(\"D1\", D1)\n",
    "dist_measurer.addCollectiveVariable(\"D2\", D2)\n",
    "system.addForce(dist_measurer)"
   ]
  },
  {
   "attachments": {},
   "cell_type": "markdown",
   "metadata": {},
   "source": [
    "# Time to setup Gaussian Accelerated MD "
   ]
  },
  {
   "attachments": {},
   "cell_type": "markdown",
   "metadata": {},
   "source": [
    "For Langevin-GAMD, we're adding a boost potential to the simulation. \n",
    "This boosted potential botential takes the form of a Gaussian \\\n",
    "$V'(r) = \\frac{k}{2}(E-V_{0})^2$ \n",
    "where $V_0(r)$ is the initial potential energy\\\n",
    "and $k$ and E are hyper parameters defining the potential.\\\n",
    "For more details, check out the [GAMD paper](https://pubs.acs.org/doi/10.1021/acs.jctc.5b00436) "
   ]
  },
  {
   "attachments": {},
   "cell_type": "markdown",
   "metadata": {},
   "source": [
    "OpenMM gives us the tools to do this oursleves. \\\n",
    "Let's first define a `customIntegrator` to run this. \\\n",
    "Note that in our `customIntegrator` we are adding $V'(r)$ as a Force `fprime`.\\\n",
    "To derive this yourself, remember that a Force is the derivative of Energy with respect to position:\\\n",
    "$f_{prime} = - \\frac{\\delta V(r)}{\\delta r}$  and that \n",
    "$V(r) = V_0 + V'(r)$"
   ]
  },
  {
   "cell_type": "code",
   "execution_count": 305,
   "metadata": {},
   "outputs": [],
   "source": [
    "kB = BOLTZMANN_CONSTANT_kB * AVOGADRO_CONSTANT_NA\n",
    "\n",
    "'''\n",
    "Useful links in the writing of this integrator: \n",
    "Writing custom integrators: https://github.com/choderalab/openmm-tutorials/blob/master/02%20-%20Integrators%20and%20sampling.ipynb\n",
    "AMD integrator: https://github.com/openmm/openmm/blob/master/wrappers/python/openmm/amd.py\n",
    "GAMD from Miao lab: https://github.com/MiaoLab20/gamd-openmm\n",
    "'''\n",
    "\n",
    "import numpy as np\n",
    "class GAMDLangevinIntegrator(CustomIntegrator):\n",
    "    \"\"\"GAMDLangevinIntegrator implements the aMD integration algorithm.\n",
    "    The system is integrated based on a modified potential.  Whenever the energy V(r) is less than a\n",
    "    cutoff value E, the following effective potential is used:\n",
    "    V*(r) = V(r) + ((k/2)*(E-V(r))**2)\n",
    "    \"\"\"\n",
    "\n",
    "    def __init__(self, dt, E, k, temperature=300*kelvin, collision_rate=1.0/picosecond):\n",
    "        \"\"\"Create an GAMDLangevinIntegrator.\n",
    "        Parameters\n",
    "        ----------\n",
    "        dt : time\n",
    "            The integration time step to use\n",
    "        k : energy\n",
    "            The k parameter to use\n",
    "        E : energy\n",
    "            The energy cutoff to use\n",
    "        temperature : temperature\n",
    "            temperature of the system\n",
    "        collision rate : collision rate\n",
    "            Collision for the thermostat to update on\n",
    "        \"\"\"\n",
    "        gamma = collision_rate*picoseconds # add this because SWIG \n",
    "        CustomIntegrator.__init__(self, dt)\n",
    "        # GaMD boost parameters\n",
    "        self.addGlobalVariable(\"k\", k)\n",
    "        self.addGlobalVariable(\"E\", E)\n",
    "        self.addPerDofVariable(\"oldx\", 0)\n",
    "        self.addGlobalVariable(\"deltaV\", 0)\n",
    "        self.addGlobalVariable(\"V0\", 0)\n",
    "        self.addPerDofVariable(\"sigma\", 0)\n",
    "        self.addUpdateContextState();\n",
    "\n",
    "        # new variables for Langevin kernel\n",
    "        self.addGlobalVariable('kT', kB * temperature)\n",
    "        self.addComputePerDof(\"sigma\", \"sqrt(kT/m)\")\n",
    "        self.addGlobalVariable(\"a\", np.exp(-1 * gamma)) #vscale?\n",
    "        self.addGlobalVariable(\"b\", np.sqrt(1 - np.exp(-2 * gamma))) # noise-scale?\n",
    "\n",
    "        # The below dof_string lines are comments on how to modify fprime \n",
    "        # dof_string = \"modify=step(E-energy);\" # this is defining the scaling\n",
    "        # dof_string+= \"v + (dt / 2) * fprime/m;\" # standard v updating for VRORV (I think)\n",
    "        # dof_string+=\"fprime=f*((1-modify) + modify*(1-(k*E-energy)));\" # the right hand addition is the secret amd sauce\n",
    "\n",
    "        # Put the above together into a single new -line for computing v\n",
    "        self.addComputePerDof(\"v\", \"v + (dt/2) * fprime/m; fprime=f*((1-modify) + modify*(1-k*(E-energy))); modify=step(E-energy)\")\n",
    "\n",
    "        # now langevin like normal\n",
    "        self.addComputePerDof(\"x\", \"x + (dt / 2)*v\")\n",
    "        self.addComputePerDof(\"oldx\", \"x\")\n",
    "        self.addConstrainPositions()\n",
    "        self.addComputePerDof(\"v\", \"v + (x - oldx)/(dt / 2)\")\n",
    "        self.addComputePerDof(\"v\", \"(a * v) + (b * sigma * gaussian)\")\n",
    "        self.addComputePerDof(\"x\", \"x + (dt / 2)*v\")\n",
    "        self.addComputePerDof(\"oldx\", \"x\")\n",
    "        self.addConstrainPositions()\n",
    "        self.addComputePerDof(\"v\", \"v + (x - oldx) / (dt / 2)\")\n",
    "        # Update v with the same as the first line above\n",
    "        self.addComputePerDof(\"v\", \"v + (dt/2) * fprime/m; fprime=f*((1-modify) + modify*(1-k*(E-energy))); modify=step(E-energy)\")\n",
    "        # compute the V and deltaV values\n",
    "        self.addComputeGlobal(\"V0\", \"energy\")\n",
    "        self.addComputeGlobal(\"deltaV\",\"modify*((k / 2 * (E-energy)^2)); modify=step(E-energy)\")\n",
    "        self.addConstrainVelocities()\n",
    "\n",
    "    def getk(self):\n",
    "        \"\"\"Get the value of k for the integrator.\"\"\"\n",
    "        return self.getGlobalVariable(0)*kilojoules_per_mole\n",
    "\n",
    "    def setk(self, k):\n",
    "        \"\"\"Set the value of k for the integrator.\"\"\"\n",
    "        self.setGlobalVariable(0, k)\n",
    "\n",
    "    def getE(self):\n",
    "        \"\"\"Get the energy threshold E for the integrator.\"\"\"\n",
    "        return self.getGlobalVariable(1)*kilojoules_per_mole\n",
    "\n",
    "    def setE(self, E):\n",
    "        \"\"\"Set the energy threshold E for the integrator.\"\"\"\n",
    "        self.setGlobalVariable(1, E)\n",
    "\n",
    "    def getEffectiveEnergy(self, energy):\n",
    "        \"\"\"Given the actual potential energy of the system, return the value of the effective potential.\"\"\"\n",
    "        k = self.getk()\n",
    "        E = self.getE()\n",
    "        if not is_quantity(energy):\n",
    "            energy = energy*kilojoules_per_mole # Assume kJ/mole\n",
    "        if (energy > E):\n",
    "            return energy*kilojoules_per_mole # Assume kJ/mole\n",
    "        boost = (0.5 * k * (E-energy)*(E-energy)) / kilojoules_per_mole / kilojoules_per_mole\n",
    "        return energy + boost"
   ]
  },
  {
   "attachments": {},
   "cell_type": "markdown",
   "metadata": {},
   "source": [
    "Before running a Gaussian AMD simulation, you first need to select a strength for the boost potential. This is usually done by running a short simulation, recording the potential energy, and computing some simple statistics of it. The following are the minimum, maximum, mean, and standard deviation of the energies observed during an earlier simulation."
   ]
  },
  {
   "cell_type": "code",
   "execution_count": 306,
   "metadata": {},
   "outputs": [],
   "source": [
    "#potential energy statistics:\n",
    "Vmin = -118900.7367725638\n",
    "Vmax = -100000.8288112064\n",
    "Vavg = -115420.040535957\n",
    "Vstd = 904.4602237453533"
   ]
  },
  {
   "attachments": {},
   "cell_type": "markdown",
   "metadata": {},
   "source": [
    "We will do the same for the maximum standard deviation of the boost potential. \\\n",
    "We will use the following formula: \\\n",
    "`(MOLAR_GAS_CONSTANT_R * sim_temp ).value_in_unit(kilojoule_per_mole) * 10`"
   ]
  },
  {
   "cell_type": "code",
   "execution_count": 307,
   "metadata": {},
   "outputs": [],
   "source": [
    "sigma_0 = 2.4943387854459722"
   ]
  },
  {
   "attachments": {},
   "cell_type": "markdown",
   "metadata": {},
   "source": [
    "We will then define two constants $k_0$ and $k$ which are built upon all these above \\\n",
    "computed values. $k_0$ and $Vmax$ are what goes into the integrator. \n",
    "\n",
    "Note that the formula gives you an upper bound for $k_0$. If you wish to use a lower value to obtain \n",
    "finer-grained sampling between states, choose a lower value of $k_0$\n",
    "\n",
    "TODO: Add proper latex equations\\\n",
    "`k_0 = min(1, sigma_0/Vstd * ((Vmax-Vmin)/(Vmax-Vavg)))`\\\n",
    "`k = k_0 * (1 / (Vmax - Vmin) )`"
   ]
  },
  {
   "cell_type": "code",
   "execution_count": 308,
   "metadata": {},
   "outputs": [],
   "source": [
    "# define k_0 and k\n",
    "k_0 = 0.0009512432921778509516\n",
    "k = 2.8354183998193767e-05"
   ]
  },
  {
   "attachments": {},
   "cell_type": "markdown",
   "metadata": {},
   "source": [
    "And finally we can define the integrator:"
   ]
  },
  {
   "cell_type": "code",
   "execution_count": 309,
   "metadata": {},
   "outputs": [],
   "source": [
    "# defintion of gamd_integrator\n",
    "gamd_integrator = GAMDLangevinIntegrator(dt=0.002 * picosecond,\n",
    "                                            k=k_0,\n",
    "                                            E=Vmax,\n",
    "                                            temperature=300*kelvin,\n",
    "                                            collision_rate=1.0/picosecond)"
   ]
  },
  {
   "attachments": {},
   "cell_type": "markdown",
   "metadata": {},
   "source": [
    "# We have the integrator, now lets run the simulation"
   ]
  },
  {
   "cell_type": "code",
   "execution_count": 310,
   "metadata": {},
   "outputs": [],
   "source": [
    "gamd_simulation =  Simulation(pdb.topology, system, gamd_integrator)"
   ]
  },
  {
   "attachments": {},
   "cell_type": "markdown",
   "metadata": {},
   "source": [
    "With GAMD, you want to track the boost potential applied at each frame.\\\n",
    "From this set of boosts you can reconstruct the effective FES explored.\n",
    "\n",
    "You'll want to project the FES on some features you care about \\\n",
    "(We did so with the `dist_measurer` above). \\\n",
    "We can directly extract both the total energy (just for comparison sake), and the \\\n",
    "boost potential (which is what we really care about) from the integrator directly."
   ]
  },
  {
   "cell_type": "code",
   "execution_count": 311,
   "metadata": {},
   "outputs": [
    {
     "name": "stdout",
     "output_type": "stream",
     "text": [
      "10 -101069.82561972504 543.518622560445 0.4630526304244995 0.4219774007797241\n",
      "20 -100552.38811972504 144.69250936168498 0.4657188951969147 0.4228907525539398\n",
      "30 -100629.51311972504 187.98658275610902 0.4723777770996094 0.4239107072353363\n",
      "40 -100561.26311972504 149.38639244354385 0.46369969844818115 0.4169570505619049\n",
      "50 -100550.07561972504 143.48176017142427 0.4642026126384735 0.4190390110015869\n",
      "60 -100513.38811972504 124.95391327918838 0.4538479745388031 0.4164482355117798\n",
      "70 -100543.85686972504 140.25106003148287 0.45530983805656433 0.4188650846481323\n",
      "80 -100590.48186972504 165.3692370567841 0.46213555335998535 0.4221442937850952\n",
      "90 -100515.85686972504 126.16049705437045 0.4800657629966736 0.4258103668689728\n",
      "100 -100499.82561972504 118.42875060089084 0.47587957978248596 0.42695173621177673\n"
     ]
    }
   ],
   "source": [
    "gamd_simulation.context.setPositions(pdb.positions)\n",
    "for i in range(10):\n",
    "    gamd_simulation.step(10)\n",
    "    n_steps = str(gamd_simulation.context.getStepCount())\n",
    "    deltaV_val = str(gamd_integrator.getGlobalVariable(2))\n",
    "    v0 = str(gamd_integrator.getGlobalVariable(3))\n",
    "    d1, d2 = dist_measurer.getCollectiveVariableValues(gamd_simulation.context)\n",
    "    print(\"%s %s %s %s %s\" % (n_steps, v0, deltaV_val, str(d1), str(d2)))"
   ]
  }
 ],
 "metadata": {
  "kernelspec": {
   "display_name": "openmm",
   "language": "python",
   "name": "python3"
  },
  "language_info": {
   "codemirror_mode": {
    "name": "ipython",
    "version": 3
   },
   "file_extension": ".py",
   "mimetype": "text/x-python",
   "name": "python",
   "nbconvert_exporter": "python",
   "pygments_lexer": "ipython3",
   "version": "3.9.16"
  },
  "orig_nbformat": 4
 },
 "nbformat": 4,
 "nbformat_minor": 2
}
