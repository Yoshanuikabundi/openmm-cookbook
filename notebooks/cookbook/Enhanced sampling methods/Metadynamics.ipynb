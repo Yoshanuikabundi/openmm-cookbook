{
 "cells": [
  {
   "attachments": {},
   "cell_type": "markdown",
   "metadata": {},
   "source": [
    "# Imports and settings"
   ]
  },
  {
   "cell_type": "code",
   "execution_count": 18,
   "metadata": {},
   "outputs": [],
   "source": [
    "from openmm.app import *\n",
    "from openmm import *                    \n",
    "from openmm.unit import *\n",
    "from openmmtools import forces\n",
    "import mdtraj as md\n",
    "import numpy as np\n",
    "import parmed as pmd\n",
    "import bz2\n",
    "import os\n",
    "from openmm import CustomIntegrator\n",
    "from openmm.unit import kilojoules_per_mole, is_quantity\n",
    "from openmm.unit import *\n",
    "import numpy as np\n",
    "import pandas as pd \n",
    "from matplotlib import pyplot as plt"
   ]
  },
  {
   "cell_type": "code",
   "execution_count": 19,
   "metadata": {},
   "outputs": [],
   "source": [
    "# define a function for creating RMSD restraints \n",
    "def create_rmsd_restraint(positions, atom_indicies):\n",
    "    rmsd_cv = RMSDForce(positions, atom_indicies)\n",
    "    energy_expression = 'step(dRMSD) * (K_RMSD/2) * dRMSD^2; dRMSD = (RMSD-RMSD0);'                                                  \n",
    "    energy_expression += 'K_RMSD = %f;' % spring_constant.value_in_unit_system(md_unit_system)                                       \n",
    "    energy_expression += 'RMSD0 = %f;' % restraint_distance.value_in_unit_system(md_unit_system)                                     \n",
    "    restraint_force = CustomCVForce(energy_expression)                                                                               \n",
    "    restraint_force.addCollectiveVariable('RMSD', rmsd_cv)                                                                           \n",
    "    return restraint_force                                                                                                           \n",
    "                                                                  "
   ]
  },
  {
   "cell_type": "code",
   "execution_count": 20,
   "metadata": {},
   "outputs": [],
   "source": [
    "# define a function to list force groups and modify system context                                                       \n",
    "def forcegroupify(system):                                        \n",
    "    forcegroups = {}                                              \n",
    "    for i in range(system.getNumForces()):                                                                                           \n",
    "        force = system.getForce(i)                           \n",
    "        force.setForceGroup(i) \n",
    "        forcegroups[force] = i                                    \n",
    "    return forcegroups"
   ]
  },
  {
   "attachments": {},
   "cell_type": "markdown",
   "metadata": {},
   "source": [
    "# Set up simulation + state"
   ]
  },
  {
   "cell_type": "code",
   "execution_count": 21,
   "metadata": {},
   "outputs": [],
   "source": [
    "sim_temp = 300.0 * kelvin\n",
    "H_mass = 4.0 * amu #Might need to be tuned to 3.5 amu \n",
    "time_step = 0.002 * picosecond  \n",
    "nb_cutoff = 10.0 * angstrom                                                                                                          \n",
    "box_padding = 12.0 * angstrom\n",
    "salt_conc = 0.15 * molar\n",
    "receptor_path=\"../villin.pdb\"\n",
    "current_file=\"villin-solvated\"\n",
    "# Misc parameters                                                 \n",
    "restraint_distance = 0.0 * angstroms                              \n",
    "restart_freq = 10\n",
    "log_freq = 1                                                                                                                         \n",
    "prd_steps = 100     "
   ]
  },
  {
   "cell_type": "code",
   "execution_count": 22,
   "metadata": {},
   "outputs": [
    {
     "data": {
      "text/plain": [
       "5"
      ]
     },
     "execution_count": 22,
     "metadata": {},
     "output_type": "execute_result"
    }
   ],
   "source": [
    "## Load an already solvated PDB file and set up the system + state\n",
    "pdb = PDBFile(receptor_path)\n",
    "omm_forcefield = ForceField(\"amber/ff14SB.xml\", \"amber14/tip3p.xml\")\n",
    "system = omm_forcefield.createSystem(pdb.topology, \n",
    "                                         nonbondedMethod=PME, \n",
    "                                         nonbondedCutoff=nb_cutoff, \n",
    "                                         constraints=HBonds, \n",
    "                                         rigidWater=True,\n",
    "                                         hydrogenMass=H_mass)\n",
    "system.addForce(MonteCarloBarostat(1*bar, sim_temp))\n"
   ]
  },
  {
   "attachments": {},
   "cell_type": "markdown",
   "metadata": {},
   "source": [
    "# Identify and setup `CVForce`sets"
   ]
  },
  {
   "cell_type": "code",
   "execution_count": 23,
   "metadata": {},
   "outputs": [],
   "source": [
    "prot_top = md.Topology.from_openmm(pdb.topology)\n",
    "# find two atoms and save their inds\n",
    "d1_atom1_ind = prot_top.select(\"residue 6 and name CZ\")[0]\n",
    "d1_atom2_ind = prot_top.select(\"residue 10 and name CZ\")[0] \n",
    "d2_atom2_ind = prot_top.select(\"residue 17 and name CZ\")[0]"
   ]
  },
  {
   "cell_type": "code",
   "execution_count": 24,
   "metadata": {},
   "outputs": [],
   "source": [
    "# Let's define a torsion we will use later\n",
    "phe_chi = [72, 74, 76, 79]"
   ]
  },
  {
   "attachments": {},
   "cell_type": "markdown",
   "metadata": {},
   "source": [
    "## Let's load in D1 and D2 from an existing langevin dynamics log and decide on parameters"
   ]
  },
  {
   "cell_type": "code",
   "execution_count": null,
   "metadata": {},
   "outputs": [],
   "source": [
    "columts = ['step', 'd1', 'd2', 'NaN']\n",
    "cv_eq = pd.read_csv(\"./meta-start-sample.dat\",\n",
    "                    delimiter=\" \",\n",
    "                   names=columts)\n",
    "\n",
    "d1_eq = cv_eq['d1'].values\n",
    "d2_eq = cv_eq['d2'].values"
   ]
  },
  {
   "cell_type": "code",
   "execution_count": null,
   "metadata": {},
   "outputs": [],
   "source": [
    "import matplotlib.pyplot as plt\n",
    "plt.hist(d1_eq)\n",
    "print(\"average: %s \\n error %s\" % (np.mean(d1_eq), np.std(d1_eq)))\n",
    "print(\"error value should thus be %s\" % (np.std(d1_eq) / 2))"
   ]
  },
  {
   "cell_type": "code",
   "execution_count": null,
   "metadata": {},
   "outputs": [],
   "source": [
    "plt.hist(d2_eq)\n",
    "print(\"average: %s \\n error %s\" % (np.mean(d2_eq), np.std(d2_eq)))\n",
    "print(\"error value should thus be %s\" % (np.std(d2_eq) / 2))"
   ]
  },
  {
   "attachments": {},
   "cell_type": "markdown",
   "metadata": {},
   "source": [
    "# Setup a fresh MetaD simulation"
   ]
  },
  {
   "cell_type": "code",
   "execution_count": 25,
   "metadata": {},
   "outputs": [],
   "source": [
    "# Define BiasVariables - Note that I've set the distances to be \"Periodic=True\"\n",
    "# This allows us to use Mixed periodic and Non-periodic variables\n",
    "chi = CustomTorsionForce('theta')\n",
    "chi.addTorsion(phe_chi[0], phe_chi[1], phe_chi[2], phe_chi[3])\n",
    "chi_bias = BiasVariable(chi, -np.pi, np.pi, 0.35, True, 181)\n",
    "\n",
    "# Periodic dists\n",
    "d1 = CustomBondForce('r')\n",
    "d1.addBond(d1_atom1_ind, d1_atom2_ind)\n",
    "d1_bias = BiasVariable(d1, 0.3, 5.0, 0.05, True)\n",
    "\n",
    "d2=CustomBondForce('r')\n",
    "d2.addBond(d1_atom1_ind, d2_atom2_ind)\n",
    "d2_bias = BiasVariable(d2, 0.3, 5.0, 0.05, True)\n"
   ]
  },
  {
   "cell_type": "code",
   "execution_count": 26,
   "metadata": {},
   "outputs": [],
   "source": [
    "# the meta object\n",
    "meta = Metadynamics(system, [d1_bias, d2_bias], 300, \n",
    "                    biasFactor=5, height=1, frequency=1, \n",
    "                    saveFrequency=10, \n",
    "                    biasDir=\"./\")"
   ]
  },
  {
   "cell_type": "code",
   "execution_count": 27,
   "metadata": {},
   "outputs": [],
   "source": [
    "#Define an integrator\n",
    "integrator = LangevinIntegrator(sim_temp, 1.0/picosecond, time_step)"
   ]
  },
  {
   "cell_type": "code",
   "execution_count": 28,
   "metadata": {},
   "outputs": [],
   "source": [
    "# SEtup platform\n",
    "platform = openmm.Platform.getPlatformByName('OpenCL')\n",
    "platform.setPropertyDefaultValue('Precision', 'mixed')\n",
    "simulation = Simulation(pdb.topology, system, integrator, platform)"
   ]
  },
  {
   "cell_type": "code",
   "execution_count": 30,
   "metadata": {},
   "outputs": [],
   "source": [
    "current_file = \"test-meta\"\n",
    "simulation.reporters.append(DCDReporter('./'+current_file+''+ '.dcd', restart_freq))\n",
    "simulation.reporters.append(CheckpointReporter('./'+current_file+''+ '.chk', min(prd_steps, 10*restart_freq)))\n",
    "simulation.reporters.append(StateDataReporter(open('./log.' + current_file+'', 'w'), log_freq, step=True, potentialEnergy=True, kineticEnergy=True, totalEnergy=True, temperature=True, volume=True, density=True, speed=True))\n"
   ]
  },
  {
   "cell_type": "code",
   "execution_count": 31,
   "metadata": {},
   "outputs": [
    {
     "name": "stdout",
     "output_type": "stream",
     "text": [
      "  initial : -115004.63008636737 kJ/mol\n",
      "  final : -145453.11768340121 kJ/mol\n"
     ]
    }
   ],
   "source": [
    "simulation.context.setPositions(pdb.positions)\n",
    "print('  initial : %s' % (simulation.context.getState(getEnergy=True).getPotentialEnergy()))\n",
    "simulation.minimizeEnergy()\n",
    "print('  final : %s' % (simulation.context.getState(getEnergy=True).getPotentialEnergy()))"
   ]
  },
  {
   "cell_type": "code",
   "execution_count": 33,
   "metadata": {},
   "outputs": [
    {
     "name": "stdout",
     "output_type": "stream",
     "text": [
      "[[-6.65667027e-04 -1.10146234e-03 -1.75080448e-03 ... -2.15525171e-04\n",
      "  -3.86455797e-04 -6.65667027e-04]\n",
      " [-1.31279319e-03 -2.17224603e-03 -3.45284511e-03 ... -4.25047136e-04\n",
      "  -7.62147466e-04 -1.31279319e-03]\n",
      " [-2.48707995e-03 -4.11530976e-03 -6.54139992e-03 ... -8.05249289e-04\n",
      "  -1.44388416e-03 -2.48707995e-03]\n",
      " ...\n",
      " [-1.51719351e-04 -2.51046061e-04 -3.99044411e-04 ... -4.91227057e-05\n",
      "  -8.80813440e-05 -1.51719351e-04]\n",
      " [-3.24243988e-04 -5.36518193e-04 -8.52810153e-04 ... -1.04981569e-04\n",
      "  -1.88241251e-04 -3.24243988e-04]\n",
      " [-6.65667027e-04 -1.10146234e-03 -1.75080448e-03 ... -2.15525171e-04\n",
      "  -3.86455797e-04 -6.65667027e-04]] kJ/mol\n"
     ]
    },
    {
     "name": "stderr",
     "output_type": "stream",
     "text": [
      "Exception ignored in: <function DCDReporter.__del__ at 0x11b4bf8b0>\n",
      "Traceback (most recent call last):\n",
      "  File \"/Users/singhs15/miniconda3/envs/openmm/lib/python3.9/site-packages/openmm/app/dcdreporter.py\", line 110, in __del__\n",
      "    self._out.close()\n",
      "AttributeError: 'DCDReporter' object has no attribute '_out'\n"
     ]
    },
    {
     "name": "stdout",
     "output_type": "stream",
     "text": [
      "[[-1.06828420e-03 -1.76602053e-03 -2.80453097e-03 ... -3.46525792e-04\n",
      "  -6.20773845e-04 -1.06828420e-03]\n",
      " [-2.10556557e-03 -3.48079279e-03 -5.52768291e-03 ... -6.82993570e-04\n",
      "  -1.22353083e-03 -2.10556557e-03]\n",
      " [-3.98664220e-03 -6.59048103e-03 -1.04660431e-02 ... -1.29316576e-03\n",
      "  -2.31661015e-03 -3.98664220e-03]\n",
      " ...\n",
      " [-2.43776869e-04 -4.02995791e-04 -6.39976573e-04 ... -7.90757112e-05\n",
      "  -1.41657648e-04 -2.43776869e-04]\n",
      " [-5.20668586e-04 -8.60735781e-04 -1.36689101e-03 ... -1.68892770e-04\n",
      "  -3.02557862e-04 -5.20668586e-04]\n",
      " [-1.06828420e-03 -1.76602053e-03 -2.80453097e-03 ... -3.46525792e-04\n",
      "  -6.20773845e-04 -1.06828420e-03]] kJ/mol\n",
      "[[-0.00140648 -0.00232536 -0.00369321 ... -0.00045613 -0.00081721\n",
      "  -0.00140648]\n",
      " [-0.0027639  -0.00456961 -0.00725758 ... -0.00089635 -0.00160591\n",
      "  -0.0027639 ]\n",
      " [-0.00521773 -0.00862655 -0.01370089 ... -0.00169214 -0.00303167\n",
      "  -0.00521773]\n",
      " ...\n",
      " [-0.00032289 -0.00053385 -0.00084788 ... -0.00010472 -0.00018761\n",
      "  -0.00032289]\n",
      " [-0.00068756 -0.00113677 -0.00180545 ... -0.00022298 -0.00039949\n",
      "  -0.00068756]\n",
      " [-0.00140648 -0.00232536 -0.00369321 ... -0.00045613 -0.00081721\n",
      "  -0.00140648]] kJ/mol\n",
      "[[-0.00178281 -0.00294689 -0.00467929 ... -0.00057843 -0.0010361\n",
      "  -0.00178281]\n",
      " [-0.00348162 -0.00575499 -0.00913826 ... -0.0011296  -0.00202337\n",
      "  -0.00348162]\n",
      " [-0.0065327  -0.0107984  -0.01714675 ... -0.00211948 -0.00379649\n",
      "  -0.0065327 ]\n",
      " ...\n",
      " [-0.00041463 -0.00068535 -0.00108823 ... -0.00013453 -0.00024097\n",
      "  -0.00041463]\n",
      " [-0.00087713 -0.00144984 -0.00230214 ... -0.00028459 -0.00050976\n",
      "  -0.00087713]\n",
      " [-0.00178281 -0.00294689 -0.00467929 ... -0.00057843 -0.0010361\n",
      "  -0.00178281]] kJ/mol\n",
      "[[-0.00228377 -0.00376964 -0.00597733 ... -0.00074309 -0.00132913\n",
      "  -0.00228377]\n",
      " [-0.00441433 -0.00728686 -0.01155516 ... -0.00143613 -0.00256892\n",
      "  -0.00441433]\n",
      " [-0.00820102 -0.0135385  -0.02147007 ... -0.00266773 -0.00477227\n",
      "  -0.00820102]\n",
      " ...\n",
      " [-0.00054277 -0.00089579 -0.00142022 ... -0.00017666 -0.00031593\n",
      "  -0.00054277]\n",
      " [-0.00113563 -0.00187437 -0.00297189 ... -0.00036956 -0.00066097\n",
      "  -0.00113563]\n",
      " [-0.00228377 -0.00376964 -0.00597733 ... -0.00074309 -0.00132913\n",
      "  -0.00228377]] kJ/mol\n",
      "Done with simulation.\n"
     ]
    }
   ],
   "source": [
    "steps=5\n",
    "with open(\"./try3-cv-tracker.dat\", \"a\") as f:\n",
    "    for i in range(steps):\n",
    "        meta.step(simulation, steps=10)\n",
    "        n_steps = str(simulation.context.getStepCount())\n",
    "        d1,d2 =meta._force.getCollectiveVariableValues(simulation.context)\n",
    "        f.write(\"%s %s %s \\n\" % (n_steps, str(d1), str(d2)))\n",
    "        meta._syncWithDisk()\n",
    "        print(meta.getFreeEnergy())\n",
    "print(\"Done with simulation.\")"
   ]
  },
  {
   "cell_type": "code",
   "execution_count": null,
   "metadata": {},
   "outputs": [],
   "source": []
  }
 ],
 "metadata": {
  "kernelspec": {
   "display_name": "openmm",
   "language": "python",
   "name": "python3"
  },
  "language_info": {
   "codemirror_mode": {
    "name": "ipython",
    "version": 3
   },
   "file_extension": ".py",
   "mimetype": "text/x-python",
   "name": "python",
   "nbconvert_exporter": "python",
   "pygments_lexer": "ipython3",
   "version": "3.9.16"
  },
  "orig_nbformat": 4
 },
 "nbformat": 4,
 "nbformat_minor": 2
}
