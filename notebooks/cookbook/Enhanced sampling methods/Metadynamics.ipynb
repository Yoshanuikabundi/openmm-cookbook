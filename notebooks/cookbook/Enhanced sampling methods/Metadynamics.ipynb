{
 "cells": [
  {
   "attachments": {},
   "cell_type": "markdown",
   "metadata": {},
   "source": [
    "# Imports and settings"
   ]
  },
  {
   "cell_type": "code",
   "execution_count": 1,
   "metadata": {},
   "outputs": [],
   "source": [
    "from openmm.app import *\n",
    "from openmm import *                    \n",
    "from openmm.unit import *"
   ]
  },
  {
   "attachments": {},
   "cell_type": "markdown",
   "metadata": {},
   "source": [
    "# Set up simulation + state"
   ]
  },
  {
   "cell_type": "code",
   "execution_count": 2,
   "metadata": {},
   "outputs": [],
   "source": [
    "sim_temp = 300.0 * kelvin\n",
    "H_mass = 4.0 * amu #Might need to be tuned to 3.5 amu \n",
    "time_step = 0.002 * picosecond  \n",
    "nb_cutoff = 10.0 * angstrom                                                                                                          \n",
    "box_padding = 12.0 * angstrom\n",
    "salt_conc = 0.15 * molar\n",
    "receptor_path=\"../villin.pdb\"\n",
    "current_file=\"villin-solvated\"\n",
    "# Misc parameters                                                 \n",
    "restraint_distance = 0.0 * angstroms                              \n",
    "restart_freq = 10\n",
    "log_freq = 1                                                                                                                         \n",
    "prd_steps = 100"
   ]
  },
  {
   "cell_type": "code",
   "execution_count": 3,
   "metadata": {},
   "outputs": [],
   "source": [
    "# Load an already solvated PDB file and set up the system + state\n",
    "pdb = PDBFile(\"../villin.pdb\")\n",
    "omm_forcefield = ForceField(\"amber/ff14SB.xml\", \"amber14/tip3p.xml\")\n",
    "system = omm_forcefield.createSystem(pdb.topology,\n",
    "                                         nonbondedMethod=PME,\n",
    "                                         nonbondedCutoff=10.0 * angstrom,\n",
    "                                         constraints=HBonds,\n",
    "                                         rigidWater=True,\n",
    "                                         hydrogenMass=4.0 * amu)"
   ]
  },
  {
   "attachments": {},
   "cell_type": "markdown",
   "metadata": {},
   "source": [
    "# Setup the collective variables for the metadynamics simulation"
   ]
  },
  {
   "attachments": {},
   "cell_type": "markdown",
   "metadata": {},
   "source": [
    "For example's sake we will do the metadynamics simulation using 3 CVs. Two distances and\\\n",
    "and a dihedral angle. This atom indices are defined below for this case:  "
   ]
  },
  {
   "cell_type": "code",
   "execution_count": 4,
   "metadata": {},
   "outputs": [],
   "source": [
    "# Define three atom indices - these will be used to measure useful distances \n",
    "d1_atom1_ind = 83\n",
    "d1_atom2_ind = 151\n",
    "d2_atom2_ind = 254"
   ]
  },
  {
   "attachments": {},
   "cell_type": "markdown",
   "metadata": {},
   "source": [
    "And now we define the dihedral angle atoms for the CV:"
   ]
  },
  {
   "cell_type": "code",
   "execution_count": 5,
   "metadata": {},
   "outputs": [],
   "source": [
    "# Let's define a torsion we will use later\n",
    "phe_chi = [72, 74, 76, 79]"
   ]
  },
  {
   "attachments": {},
   "cell_type": "markdown",
   "metadata": {},
   "source": [
    "Normally, to decide on the magnitude of the boosts, the \"best practice\" is to load in the\\\n",
    "CVs from a previous simulation and plot a histogram of the CVs. The height of the histogram\\\n",
    "is the height of the boost gaussian (used below as `height`).\\\n",
    "The width at half-max of the boost is the width of the gaussian (defined in the `BiasVariable`)."
   ]
  },
  {
   "attachments": {},
   "cell_type": "markdown",
   "metadata": {},
   "source": [
    "For simplicity, we've analyzed and defined the boost parameters already.\\\n",
    "We can define them explicitly when we define our CVs.\\\n",
    "Ultimately each CV is defined as a `BiasVariable` object."
   ]
  },
  {
   "cell_type": "code",
   "execution_count": 6,
   "metadata": {},
   "outputs": [],
   "source": [
    "# Define BiasVariables - Note that I've set the distances to be \"Periodic=True\"\n",
    "# This allows us to use Mixed periodic and Non-periodic variables\n",
    "from numpy import pi\n",
    "chi = CustomTorsionForce('theta')\n",
    "chi.addTorsion(phe_chi[0], phe_chi[1], phe_chi[2], phe_chi[3])\n",
    "chi_bias = BiasVariable(chi, -pi, pi, 0.35, True, 181)\n",
    "\n",
    "# Distance variables\n",
    "d1 = CustomBondForce('r')\n",
    "d1.addBond(d1_atom1_ind, d1_atom2_ind)\n",
    "d1_bias = BiasVariable(d1, 0.3, 5.0, 0.05, True)\n",
    "\n",
    "d2=CustomBondForce('r')\n",
    "d2.addBond(d1_atom1_ind, d2_atom2_ind)\n",
    "d2_bias = BiasVariable(d2, 0.3, 5.0, 0.05, True)\n"
   ]
  },
  {
   "attachments": {},
   "cell_type": "markdown",
   "metadata": {},
   "source": [
    "# Setup a fresh MetaD simulation"
   ]
  },
  {
   "attachments": {},
   "cell_type": "markdown",
   "metadata": {},
   "source": [
    "We define the Metadynamics simulation object below. Note that our step frequency \n",
    "here is *incredibly small* and should be set at *much higher* values.\\\n",
    "You should set frequency high enough that it will have time to diffuse away from the last Gaussian before adding another one.\n"
   ]
  },
  {
   "cell_type": "code",
   "execution_count": 7,
   "metadata": {},
   "outputs": [],
   "source": [
    "# the meta object\n",
    "meta = Metadynamics(system, [d1_bias, d2_bias, chi_bias], 300, \n",
    "                    biasFactor=5, height=1, frequency=10, \n",
    "                    saveFrequency=10,\n",
    "                    biasDir=\"./\")"
   ]
  },
  {
   "cell_type": "code",
   "execution_count": 8,
   "metadata": {},
   "outputs": [],
   "source": [
    "#Define an integrator\n",
    "integrator = LangevinMiddleIntegrator(300*kelvin, 1.0/picosecond, 0.002*picosecond)"
   ]
  },
  {
   "cell_type": "code",
   "execution_count": 9,
   "metadata": {},
   "outputs": [],
   "source": [
    "simulation = Simulation(pdb.topology, system, integrator)"
   ]
  },
  {
   "attachments": {},
   "cell_type": "markdown",
   "metadata": {},
   "source": [
    "When running the situation, aside from using a `reporter` to save the trajectory, we can\\\n",
    "also use the `meta` object to extract the CV values directly. We can then print those out\\\n",
    "and plot them to see how the simulation is progressing.\n",
    "\n",
    "Separately, the `saveFrequency` defined in the `meta` object defines how often the\\\n",
    "biases are saved to disk. This is useful if you want to stop the simulation. You can\\\n",
    "then load the biases back in and continue the simulation.\n",
    "\n",
    "You can also use `meta.getFreeEnergy()` to generate a matrix of the FES as metadynamics\\\n",
    "is running."
   ]
  },
  {
   "cell_type": "code",
   "execution_count": 10,
   "metadata": {},
   "outputs": [
    {
     "name": "stdout",
     "output_type": "stream",
     "text": [
      "10 0.45591458678245544 0.42221570014953613 -3.1110520362854004 \n",
      "\n"
     ]
    }
   ],
   "source": [
    "simulation.context.setPositions(pdb.positions)\n",
    "for i in range(5):\n",
    "    meta.step(simulation, steps=10)\n",
    "    n_steps = str(simulation.context.getStepCount())\n",
    "    d1,d2,chi1 =meta._force.getCollectiveVariableValues(simulation.context)\n",
    "    print(\"%s %s %s %s \\n\" % (n_steps, str(d1), str(d2), str(chi1)))"
   ]
  }
 ],
 "metadata": {
  "kernelspec": {
   "display_name": "openmm",
   "language": "python",
   "name": "python3"
  },
  "language_info": {
   "codemirror_mode": {
    "name": "ipython",
    "version": 3
   },
   "file_extension": ".py",
   "mimetype": "text/x-python",
   "name": "python",
   "nbconvert_exporter": "python",
   "pygments_lexer": "ipython3",
   "version": "3.9.16"
  },
  "orig_nbformat": 4
 },
 "nbformat": 4,
 "nbformat_minor": 2
}
