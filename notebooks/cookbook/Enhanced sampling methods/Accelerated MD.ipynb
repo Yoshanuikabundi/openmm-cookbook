{
 "cells": [
  {
   "cell_type": "markdown",
   "metadata": {},
   "source": [
    "# Imports and settings"
   ]
  },
  {
   "cell_type": "code",
   "execution_count": 32,
   "metadata": {},
   "outputs": [],
   "source": [
    "from openmm.app import *\n",
    "from openmm import *                    \n",
    "from openmm.unit import *\n",
    "from openmmtools import forces\n",
    "import mdtraj as md\n",
    "import numpy as np\n",
    "import parmed as pmd\n",
    "import bz2\n",
    "import os\n",
    "from openmm import CustomIntegrator\n",
    "from openmm.unit import kilojoules_per_mole, is_quantity\n",
    "from openmm.unit import *\n",
    "import numpy as np\n",
    "import pandas as pd \n",
    "from matplotlib import pyplot as plt"
   ]
  },
  {
   "cell_type": "code",
   "execution_count": 33,
   "metadata": {},
   "outputs": [],
   "source": [
    "# define a function for creating RMSD restraints \n",
    "def create_rmsd_restraint(positions, atom_indicies):\n",
    "    rmsd_cv = RMSDForce(positions, atom_indicies)\n",
    "    energy_expression = 'step(dRMSD) * (K_RMSD/2) * dRMSD^2; dRMSD = (RMSD-RMSD0);'                                                  \n",
    "    energy_expression += 'K_RMSD = %f;' % spring_constant.value_in_unit_system(md_unit_system)                                       \n",
    "    energy_expression += 'RMSD0 = %f;' % restraint_distance.value_in_unit_system(md_unit_system)                                     \n",
    "    restraint_force = CustomCVForce(energy_expression)                                                                               \n",
    "    restraint_force.addCollectiveVariable('RMSD', rmsd_cv)                                                                           \n",
    "    return restraint_force                                                                                                           \n",
    "                                                                  "
   ]
  },
  {
   "cell_type": "code",
   "execution_count": 34,
   "metadata": {},
   "outputs": [],
   "source": [
    "# define a function to list force groups and modify system context                                                       \n",
    "def forcegroupify(system):                                        \n",
    "    forcegroups = {}                                              \n",
    "    for i in range(system.getNumForces()):                                                                                           \n",
    "        force = system.getForce(i)                           \n",
    "        force.setForceGroup(i) \n",
    "        forcegroups[force] = i                                    \n",
    "    return forcegroups"
   ]
  },
  {
   "attachments": {},
   "cell_type": "markdown",
   "metadata": {},
   "source": [
    "# Setup a simulation system + state + CVForces"
   ]
  },
  {
   "cell_type": "code",
   "execution_count": 35,
   "metadata": {},
   "outputs": [],
   "source": [
    "sim_temp = 300.0 * kelvin\n",
    "H_mass = 4.0 * amu #Might need to be tuned to 3.5 amu \n",
    "time_step = 0.002 * picosecond  \n",
    "nb_cutoff = 10.0 * angstrom                                                                                                          \n",
    "box_padding = 12.0 * angstrom\n",
    "salt_conc = 0.15 * molar\n",
    "receptor_path=\"../villin.pdb\"\n",
    "current_file=\"villin-solvated\"\n",
    "# Misc parameters                                                 \n",
    "restraint_distance = 0.0 * angstroms                              \n",
    "restart_freq = 10\n",
    "log_freq = 1                                                                                                                         \n",
    "prd_steps = 100     "
   ]
  },
  {
   "cell_type": "code",
   "execution_count": 36,
   "metadata": {},
   "outputs": [
    {
     "data": {
      "text/plain": [
       "5"
      ]
     },
     "execution_count": 36,
     "metadata": {},
     "output_type": "execute_result"
    }
   ],
   "source": [
    "## Load an already solvated PDB file and set up the system + state\n",
    "pdb = PDBFile(receptor_path)\n",
    "omm_forcefield = ForceField(\"amber/ff14SB.xml\", \"amber14/tip3p.xml\")\n",
    "system = omm_forcefield.createSystem(pdb.topology, \n",
    "                                         nonbondedMethod=PME, \n",
    "                                         nonbondedCutoff=nb_cutoff, \n",
    "                                         constraints=HBonds, \n",
    "                                         rigidWater=True,\n",
    "                                         hydrogenMass=H_mass)\n",
    "system.addForce(MonteCarloBarostat(1*bar, sim_temp))\n"
   ]
  },
  {
   "attachments": {},
   "cell_type": "markdown",
   "metadata": {},
   "source": [
    "## Quickly identify a couple of atoms that we care about and set `CVForce`"
   ]
  },
  {
   "cell_type": "code",
   "execution_count": 37,
   "metadata": {},
   "outputs": [],
   "source": [
    "prot_top = md.Topology.from_openmm(pdb.topology)\n",
    "# find two atoms and save their inds\n",
    "d1_atom1_ind = prot_top.select(\"residue 6 and name CZ\")[0]\n",
    "d1_atom2_ind = prot_top.select(\"residue 10 and name CZ\")[0] \n",
    "d2_atom2_ind = prot_top.select(\"residue 17 and name CZ\")[0]"
   ]
  },
  {
   "cell_type": "code",
   "execution_count": 38,
   "metadata": {},
   "outputs": [],
   "source": [
    "# Let's define a torsion we will use later\n",
    "phe_chi = [72, 74, 76, 79]"
   ]
  },
  {
   "cell_type": "code",
   "execution_count": 39,
   "metadata": {},
   "outputs": [],
   "source": [
    "# Define a way to create a basic CV force (using two distances)\n",
    "def CreateCVForce(system, d1_atom1_ind, d1_atom2_ind, d2_atom2_ind):\n",
    "\n",
    "    cvforce = CustomCVForce(\"0\")\n",
    "    system.addForce(cvforce)\n",
    "    D1 = CustomBondForce(\"r\")\n",
    "    D1.addBond(d1_atom2_ind, d1_atom1_ind)\n",
    "    print(D1.getNumGlobalParameters())\n",
    "    #D1.addGlobalParameter(\"dist\", \"r\")\n",
    "    D2 = CustomBondForce(\"r\")\n",
    "    D2.addBond(d2_atom2_ind, d1_atom1_ind)\n",
    "    #D2.addGlobalParameter(\"dist\", \"r\")\n",
    "    cvforce.addCollectiveVariable(\"D1\", D1)\n",
    "    cvforce.addCollectiveVariable(\"D2\", D2)\n",
    "    return cvforce"
   ]
  },
  {
   "cell_type": "code",
   "execution_count": 40,
   "metadata": {},
   "outputs": [],
   "source": [
    "# Setup a reusable platform\n",
    "platform = Platform.getPlatformByName('OpenCL')\n",
    "platform.setPropertyDefaultValue('Precision', 'mixed')"
   ]
  },
  {
   "cell_type": "code",
   "execution_count": 41,
   "metadata": {},
   "outputs": [
    {
     "name": "stdout",
     "output_type": "stream",
     "text": [
      "0\n"
     ]
    }
   ],
   "source": [
    "# Now let's add a couple of CVForce (with Force=0) to track distances:\n",
    "forcegroups = forcegroupify(system)\n",
    "cvforce = CreateCVForce(system, d1_atom1_ind, d1_atom2_ind, d2_atom2_ind)\n",
    "cvforce.setForceGroup(31)"
   ]
  },
  {
   "attachments": {},
   "cell_type": "markdown",
   "metadata": {},
   "source": [
    "# Let's setup some Accelerated Molecular Dynamics with a new Langevin Integrator"
   ]
  },
  {
   "attachments": {},
   "cell_type": "markdown",
   "metadata": {},
   "source": [
    "To set up an Accelerated MD (AMD) simulation in OpenMM, we could use the default AMD object.\\\n",
    "However this uses a Verlet integrator rather than Langevin dynamics. Luckily, OpenMM gives us the tools to write this ourselves, using the `CustomIntegrator` object!  "
   ]
  },
  {
   "attachments": {},
   "cell_type": "markdown",
   "metadata": {},
   "source": [
    "For Langevin-AMD, we're effectively adding a boost potential to the simulation. \n",
    "This boosted potential botential takes the form of\\\n",
    "$V'(r) = V_{0}(r) + \\frac{(E-V(r))^2}{(\\alpha+E-V_0(r))}$ \n",
    "where $V_0(r)$ is the initial potential energy\\\n",
    "and $\\alpha$ and E are hyper parameters defining the potential.\\\n",
    "For further details on values to choose, see Hamelberg et al., J. Chem. Phys. 127, 155102 (2007)."
   ]
  },
  {
   "attachments": {},
   "cell_type": "markdown",
   "metadata": {},
   "source": [
    "## Let's define our custom integrator"
   ]
  },
  {
   "cell_type": "code",
   "execution_count": 42,
   "metadata": {},
   "outputs": [],
   "source": [
    "kB = BOLTZMANN_CONSTANT_kB * AVOGADRO_CONSTANT_NA\n",
    "\n",
    "\n",
    "class LangevinAMDIntegrator(CustomIntegrator):\n",
    "    \"\"\"AMDIntegrator implements the aMD integration algorithm.\n",
    "    The system is integrated based on a modified potential.  Whenever the energy V(r) is less than a\n",
    "    cutoff value E, the following effective potential is used:\n",
    "    V*(r) = V(r) + (E-V(r))^2 / (alpha+E-V(r))\n",
    "    For details, see Hamelberg et al., J. Chem. Phys. 127, 155102 (2007).\n",
    "    \"\"\"\n",
    "\n",
    "    def __init__(self, dt, alpha, E, temperature=300*kelvin, collision_rate=1.0/picosecond):\n",
    "        \"\"\"Create an AMDIntegrator.\n",
    "        Parameters\n",
    "        ----------\n",
    "        dt : time \n",
    "            The integration time step to use (simtk quantity)\n",
    "        alpha : energy\n",
    "            The alpha parameter to use\n",
    "        E : energy\n",
    "            The energy cutoff to use\n",
    "        temperature : temperature\n",
    "            temperature of the system\n",
    "        collision rate : collision rate\n",
    "            Collision for the thermostat to update on\n",
    "        \"\"\"\n",
    "        gamma = collision_rate*picoseconds # add this because SWIG somehow?\n",
    "        CustomIntegrator.__init__(self, dt)\n",
    "        # aMD boost parameters\n",
    "        self.addGlobalVariable(\"alpha\", alpha)\n",
    "        self.addGlobalVariable(\"E\", E)\n",
    "        self.addPerDofVariable(\"oldx\", 0)\n",
    "        self.addGlobalVariable(\"deltaV\", 0)\n",
    "        self.addGlobalVariable(\"V0\", 0)\n",
    "        self.addPerDofVariable(\"sigma\", 0)\n",
    "        self.addUpdateContextState();\n",
    "        \n",
    "        # Comment out old AMD method \n",
    "        # self.addComputePerDof(\"v\", \"v+dt*fprime/m; fprime=f*((1-modify) + modify*(alpha/(alpha+E-energy))^2); modify=step(E-energy)\")\n",
    "        # self.addComputePerDof(\"oldx\", \"x\")\n",
    "        # self.addComputePerDof(\"x\", \"x+dt*v\")\n",
    "        # self.addConstrainPositions()\n",
    "        # self.addComputePerDof(\"v\", \"(x-oldx)/dt\")\n",
    "\n",
    "        # new variables for Langevin kernel\n",
    "        self.addGlobalVariable('kT', kB * temperature)\n",
    "        self.addComputePerDof(\"sigma\", \"sqrt(kT/m)\")\n",
    "        self.addGlobalVariable(\"a\", np.exp(-1 * gamma)) #vscale?\n",
    "        self.addGlobalVariable(\"b\", np.sqrt(1 - np.exp(-2 * gamma))) # noise-scale?\n",
    "\n",
    "        #before position restraints\n",
    "        #self.addPerDofVariable(\"oldx\", 0)\n",
    "\n",
    "        # Compute steps for Langevin - attempt at VRORV splitting?\n",
    "        # The below dof_string lines are comments on how to modify fprime (thinking out loud basically)\n",
    "        # dof_string+= \"v + (dt / 2) * fprime/m;\" # standard v updating for VRORV (I think)\n",
    "        # dof_string+=\"fprime=f*((1-modify) + modify*(alpha/(alpha+E-energy))^2);\" # the right hand addition is the secret amd sauce\n",
    "        # dof_string = \"modify=step(E-energy);\" # this is defining the modify scaling\n",
    "        # Put the above together into a single new -line for computing v\n",
    "        self.addComputePerDof(\"v\", \"v + (dt / 2) * fprime / m; fprime=f*((1-modify) +   modify*(alpha/(alpha+E-energy))^2); modify=step(E-energy)\")\n",
    "        # langevin like normal\n",
    "        self.addComputePerDof(\"x\", \"x + (dt / 2)*v\")\n",
    "        self.addComputePerDof(\"oldx\", \"x\")\n",
    "        self.addConstrainPositions()\n",
    "        self.addComputePerDof(\"v\", \"v + (x - oldx)/(dt / 2)\")\n",
    "        self.addComputePerDof(\"v\", \"(a * v) + (b * sigma * gaussian)\") # taken from openmm-tutorial on custom integrators (link 1 above)\n",
    "        self.addComputePerDof(\"x\", \"x + (dt / 2)*v\")\n",
    "        self.addComputePerDof(\"oldx\", \"x\")\n",
    "        self.addConstrainPositions()\n",
    "        self.addComputePerDof(\"v\", \"v + (x - oldx) / (dt / 2)\")\n",
    "        # Use the same line as what you calculated above\n",
    "        self.addComputePerDof(\"v\", \"v + (dt / 2) * fprime / m; fprime=f*((1-modify) + modify*(alpha/(alpha+E-energy))^2); modify=step(E-energy)\")\n",
    "        # compute the V and deltaV values\n",
    "        self.addComputeGlobal(\"V0\", \"energy\")\n",
    "        self.addComputeGlobal(\"deltaV\",\"modify*(E-energy)^2/(alpha+E-energy); modify=step(E-energy)\")\n",
    "        self.addConstrainVelocities()\n",
    "\n",
    "\n",
    "\n",
    "\n",
    "    def getAlpha(self):\n",
    "        \"\"\"Get the value of alpha for the integrator.\"\"\"\n",
    "        return self.getGlobalVariable(0)*kilojoules_per_mole\n",
    "\n",
    "    def setAlpha(self, alpha):\n",
    "        \"\"\"Set the value of alpha for the integrator.\"\"\"\n",
    "        self.setGlobalVariable(0, alpha)\n",
    "\n",
    "    def getE(self):\n",
    "        \"\"\"Get the energy threshold E for the integrator.\"\"\"\n",
    "        return self.getGlobalVariable(1)*kilojoules_per_mole\n",
    "\n",
    "    def setE(self, E):\n",
    "        \"\"\"Set the energy threshold E for the integrator.\"\"\"\n",
    "        self.setGlobalVariable(1, E)\n",
    "\n",
    "    def getEffectiveEnergy(self, energy):\n",
    "        \"\"\"Given the actual potential energy of the system, return the value of the effective potential.\"\"\"\n",
    "        alpha = self.getAlpha()\n",
    "        E = self.getE()\n",
    "        if not is_quantity(energy):\n",
    "            energy = energy*kilojoules_per_mole # Assume kJ/mole\n",
    "        if (energy > E):\n",
    "            return energy\n",
    "        return energy+(E-energy)*(E-energy)/(alpha+E-energy)\n"
   ]
  },
  {
   "cell_type": "markdown",
   "metadata": {},
   "source": [
    "And now we can just define it using (Using arbitrary numbers - you should choose your own)"
   ]
  },
  {
   "attachments": {},
   "cell_type": "markdown",
   "metadata": {},
   "source": [
    "Briefly: To choose your own E and $\\alpha$ values, the \"best practice\" is to run an Eq. MD simulation for ~10 nanoseconds, and look at the distribution of potential energy values.\\\n",
    "\n",
    "You'll want to set E=<V(r)> of the V(r) distribution and $\\alpha$ to some fraction of E.\\ \n",
    "Typically $\\alpha=0.2V(r)$ is a reasonable starting point "
   ]
  },
  {
   "attachments": {},
   "cell_type": "markdown",
   "metadata": {},
   "source": [
    "Now let's define the integrator object:"
   ]
  },
  {
   "cell_type": "code",
   "execution_count": 43,
   "metadata": {},
   "outputs": [],
   "source": [
    "lang_amd_integrator = LangevinAMDIntegrator(dt=time_step,\n",
    "                                            alpha=13060*kilojoules_per_mole,\n",
    "                                            E=-63500*kilojoules_per_mole,\n",
    "                                            temperature=300*kelvin,\n",
    "                                            collision_rate=1.0/picosecond)"
   ]
  },
  {
   "cell_type": "code",
   "execution_count": 44,
   "metadata": {},
   "outputs": [],
   "source": [
    "lang_amd_simulation = Simulation(pdb.topology, system, lang_amd_integrator, platform)"
   ]
  },
  {
   "attachments": {},
   "cell_type": "markdown",
   "metadata": {},
   "source": [
    "Let's say you wanted to track the boost potential applied at each frame.\\\n",
    "From this set of boosts you can reconstruct the effective FES explored.\n",
    " "
   ]
  },
  {
   "cell_type": "code",
   "execution_count": 45,
   "metadata": {},
   "outputs": [],
   "source": [
    "# setup reporters\n",
    "lang_amd_simulation.reporters.append(DCDReporter(current_file+''+ '.dcd', restart_freq))\n",
    "lang_amd_simulation.reporters.append(CheckpointReporter(current_file+''+ '.chk', min(prd_steps, 10*restart_freq)))\n",
    "lang_amd_simulation.reporters.append(StateDataReporter(open('log.' + current_file+'', 'w'), log_freq, step=True, potentialEnergy=True, kineticEnergy=True, totalEnergy=True, temperature=True, volume=True, density=True, speed=True))\n",
    "\n",
    "# minimize\n",
    "lang_amd_simulation.context.setPositions(pdb.positions)\n",
    "lang_amd_simulation.minimizeEnergy()"
   ]
  },
  {
   "cell_type": "code",
   "execution_count": 46,
   "metadata": {},
   "outputs": [],
   "source": [
    "# Now run the simulation, tracking the boost using the Integrator\n",
    "with open(\"./AMD-deltaV-vals.dat\", \"a\") as f:\n",
    "    for i in range(2):\n",
    "        lang_amd_simulation.step(10)\n",
    "        n_steps = str(lang_amd_simulation.context.getStepCount())\n",
    "        deltaV_val = str(lang_amd_integrator.getGlobalVariable(2))\n",
    "        v0 = str(lang_amd_integrator.getGlobalVariable(3))\n",
    "        d1, d2 = cvforce.getCollectiveVariableValues(lang_amd_simulation.context)\n",
    "        f.write(\"%s %s %s %s %s \\n\" % (n_steps, v0, deltaV_val, str(d1), str(d2)))"
   ]
  }
 ],
 "metadata": {
  "kernelspec": {
   "display_name": "openmm",
   "language": "python",
   "name": "python3"
  },
  "language_info": {
   "codemirror_mode": {
    "name": "ipython",
    "version": 3
   },
   "file_extension": ".py",
   "mimetype": "text/x-python",
   "name": "python",
   "nbconvert_exporter": "python",
   "pygments_lexer": "ipython3",
   "version": "3.9.16"
  },
  "orig_nbformat": 4
 },
 "nbformat": 4,
 "nbformat_minor": 2
}
