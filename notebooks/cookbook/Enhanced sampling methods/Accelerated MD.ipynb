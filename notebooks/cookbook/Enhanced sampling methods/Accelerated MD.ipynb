{
 "cells": [
  {
   "cell_type": "markdown",
   "metadata": {},
   "source": [
    "# Imports and settings"
   ]
  },
  {
   "cell_type": "code",
   "execution_count": 22,
   "metadata": {},
   "outputs": [],
   "source": [
    "from openmm.app import *\n",
    "from openmm import *                    \n",
    "from openmm.unit import *"
   ]
  },
  {
   "attachments": {},
   "cell_type": "markdown",
   "metadata": {},
   "source": [
    "# Setup a simulation system + state + CVForces"
   ]
  },
  {
   "cell_type": "code",
   "execution_count": 23,
   "metadata": {},
   "outputs": [],
   "source": [
    "# Load an already solvated PDB file and set up the system + state\n",
    "pdb = PDBFile(\"../villin.pdb\")\n",
    "omm_forcefield = ForceField(\"amber/ff14SB.xml\", \"amber14/tip3p.xml\")\n",
    "system = omm_forcefield.createSystem(pdb.topology,\n",
    "                                         nonbondedMethod=PME,\n",
    "                                         nonbondedCutoff=10.0 * angstrom,\n",
    "                                         constraints=HBonds,\n",
    "                                         rigidWater=True,\n",
    "                                         hydrogenMass=4.0 * amu)\n"
   ]
  },
  {
   "attachments": {},
   "cell_type": "markdown",
   "metadata": {},
   "source": [
    "## Set important distances to track during AMD (usefulf for analysis)"
   ]
  },
  {
   "cell_type": "code",
   "execution_count": 24,
   "metadata": {},
   "outputs": [],
   "source": [
    "# Define three atom indices - these will be used to measure useful distances \n",
    "d1_atom1_ind = 83\n",
    "d1_atom2_ind = 151\n",
    "d2_atom2_ind = 254"
   ]
  },
  {
   "attachments": {},
   "cell_type": "markdown",
   "metadata": {},
   "source": [
    "Ultimately we want to track the value of these distances (lets call them D1 and D2), \\\n",
    "as a function of the free energy boost applied. \\\n",
    "To track D1 and D2, we could use a whole `Reporter` object to save the whole trajectory and measure it afterwards.\\"
   ]
  },
  {
   "attachments": {},
   "cell_type": "markdown",
   "metadata": {},
   "source": [
    "A lightweight way of doing this without saving the whole trajectory is to use a `customCVForce` object set to 0 (i.e. no bias). This will compute the value of a CV at each step of the simulation.\\\n",
    "We then pass D1 and D2 as bondForces to the `customCVForce` object (using `r` to track their distance)"
   ]
  },
  {
   "cell_type": "code",
   "execution_count": 25,
   "metadata": {},
   "outputs": [
    {
     "data": {
      "text/plain": [
       "5"
      ]
     },
     "execution_count": 25,
     "metadata": {},
     "output_type": "execute_result"
    }
   ],
   "source": [
    "# define a distance measurer\n",
    "dist_measurer = CustomCVForce(\"0\")\n",
    "# Create our two distances as separate Bond Forces and add them\n",
    "# Note: If we added both D1 and D2 to the same BondForce, then doing \n",
    "#     dist_measurer.getCollectiveVariableValues will return only the first distance (D1)\n",
    "# Hence we define them as separate BondForces\n",
    "D1 = CustomBondForce(\"r\")\n",
    "D1.addBond(d1_atom2_ind, d1_atom1_ind)\n",
    "D2 = CustomBondForce(\"r\")\n",
    "D2.addBond(d2_atom2_ind, d1_atom1_ind)\n",
    "\n",
    "# Add each BondForce as CVs into the dist_measurer\n",
    "dist_measurer.addCollectiveVariable(\"D1\", D1)\n",
    "dist_measurer.addCollectiveVariable(\"D2\", D2)\n",
    "system.addForce(dist_measurer)"
   ]
  },
  {
   "attachments": {},
   "cell_type": "markdown",
   "metadata": {},
   "source": [
    "# Setup Accelerated Molecular Dynamics with a Langevin Integrator"
   ]
  },
  {
   "attachments": {},
   "cell_type": "markdown",
   "metadata": {},
   "source": [
    "To set up an Accelerated MD (AMD) simulation in OpenMM, we could use the default AMD object.\\\n",
    "However this uses a Verlet integrator rather than Langevin dynamics.\\\n",
    "Luckily, OpenMM gives us the tools to write this ourselves, using the `CustomIntegrator` object!  "
   ]
  },
  {
   "attachments": {},
   "cell_type": "markdown",
   "metadata": {},
   "source": [
    "For Langevin-AMD, we're effectively adding a boost potential to the simulation. \n",
    "This boosted potential botential takes the form of\\\n",
    "$V'(r) = V_{0}(r) + \\frac{(E-V(r))^2}{(\\alpha+E-V_0(r))}$ \n",
    "where $V_0(r)$ is the initial potential energy\\\n",
    "and $\\alpha$ and E are hyper parameters defining the potential.\\\n",
    "For further details on values to choose, see Hamelberg et al., J. Chem. Phys. 127, 155102 (2007)."
   ]
  },
  {
   "attachments": {},
   "cell_type": "markdown",
   "metadata": {},
   "source": [
    "Let's first define a `customIntegrator` to run this. \\\n",
    "Note that in our `customIntegrator` we are adding $V'(r)$ as a Force `fprime`.\\\n",
    "To derive this yourself, remember that a Force is the derivative of Energy with respect to position:\\\n",
    "$f_{prime} = - \\frac{\\delta V(r)}{\\delta r}$  and that \n",
    "$V(r) = V_0 + V'(r)$"
   ]
  },
  {
   "attachments": {},
   "cell_type": "markdown",
   "metadata": {},
   "source": [
    "## Let's define our custom integrator"
   ]
  },
  {
   "cell_type": "code",
   "execution_count": 26,
   "metadata": {},
   "outputs": [],
   "source": [
    "kB = BOLTZMANN_CONSTANT_kB * AVOGADRO_CONSTANT_NA\n",
    "\n",
    "import numpy as np\n",
    "class LangevinAMDIntegrator(CustomIntegrator):\n",
    "    \"\"\"AMDIntegrator implements the aMD integration algorithm.\n",
    "    The system is integrated based on a modified potential.  Whenever the energy V(r) is less than a\n",
    "    cutoff value E, the following effective potential is used:\n",
    "    V*(r) = V(r) + (E-V(r))^2 / (alpha+E-V(r))\n",
    "    For details, see Hamelberg et al., J. Chem. Phys. 127, 155102 (2007).\n",
    "    \"\"\"\n",
    "\n",
    "    def __init__(self, dt, alpha, E, temperature=300*kelvin, collision_rate=1.0/picosecond):\n",
    "        \"\"\"Create an AMDIntegrator.\n",
    "        Parameters\n",
    "        ----------\n",
    "        dt : time \n",
    "            The integration time step to use (simtk quantity)\n",
    "        alpha : energy\n",
    "            The alpha parameter to use\n",
    "        E : energy\n",
    "            The energy cutoff to use\n",
    "        temperature : temperature\n",
    "            temperature of the system\n",
    "        collision rate : collision rate\n",
    "            Collision for the thermostat to update on\n",
    "        \"\"\"\n",
    "        gamma = collision_rate*picoseconds # add this because SWIG\n",
    "        CustomIntegrator.__init__(self, dt)\n",
    "        # aMD boost parameters\n",
    "        self.addGlobalVariable(\"alpha\", alpha)\n",
    "        self.addGlobalVariable(\"E\", E)\n",
    "        self.addPerDofVariable(\"oldx\", 0)\n",
    "        self.addGlobalVariable(\"deltaV\", 0)\n",
    "        self.addGlobalVariable(\"V0\", 0)\n",
    "        self.addPerDofVariable(\"sigma\", 0)\n",
    "        self.addUpdateContextState();\n",
    "        \n",
    "        # new variables for Langevin kernel\n",
    "        self.addGlobalVariable('kT', kB * temperature)\n",
    "        self.addComputePerDof(\"sigma\", \"sqrt(kT/m)\")\n",
    "        self.addGlobalVariable(\"a\", np.exp(-1 * gamma)) #vscale?\n",
    "        self.addGlobalVariable(\"b\", np.sqrt(1 - np.exp(-2 * gamma))) # noise-scale?\n",
    "\n",
    "        # Compute steps for Langevin - attempt at VRORV splitting?\n",
    "        # The below dof_string lines are comments on how to modify fprime (thinking out loud basically)\n",
    "        # dof_string+= \"v + (dt / 2) * fprime/m;\" # standard v updating for VRORV (I think)\n",
    "        # dof_string+=\"fprime=f*((1-modify) + modify*(alpha/(alpha+E-energy))^2);\" # the right hand addition is the secret amd sauce\n",
    "        # dof_string = \"modify=step(E-energy);\" # this is defining the modify scaling\n",
    "\n",
    "        # Put the above together into a single new -line for computing v\n",
    "        self.addComputePerDof(\"v\", \"v + (dt / 2) * fprime / m; fprime=f*((1-modify) +   modify*(alpha/(alpha+E-energy))^2); modify=step(E-energy)\")\n",
    "        # langevin like normal\n",
    "        self.addComputePerDof(\"x\", \"x + (dt / 2)*v\")\n",
    "        self.addComputePerDof(\"oldx\", \"x\")\n",
    "        self.addConstrainPositions()\n",
    "        self.addComputePerDof(\"v\", \"v + (x - oldx)/(dt / 2)\")\n",
    "        self.addComputePerDof(\"v\", \"(a * v) + (b * sigma * gaussian)\") # taken from openmm-tutorial on custom integrators (link 1 above)\n",
    "        self.addComputePerDof(\"x\", \"x + (dt / 2)*v\")\n",
    "        self.addComputePerDof(\"oldx\", \"x\")\n",
    "        self.addConstrainPositions()\n",
    "        self.addComputePerDof(\"v\", \"v + (x - oldx) / (dt / 2)\")\n",
    "        # Use the same line as what you calculated above\n",
    "        self.addComputePerDof(\"v\", \"v + (dt / 2) * fprime / m; fprime=f*((1-modify) + modify*(alpha/(alpha+E-energy))^2); modify=step(E-energy)\")\n",
    "        # compute the V and deltaV values\n",
    "        self.addComputeGlobal(\"V0\", \"energy\")\n",
    "        self.addComputeGlobal(\"deltaV\",\"modify*(E-energy)^2/(alpha+E-energy); modify=step(E-energy)\")\n",
    "        self.addConstrainVelocities()\n",
    "\n",
    "    def getAlpha(self):\n",
    "        \"\"\"Get the value of alpha for the integrator.\"\"\"\n",
    "        return self.getGlobalVariable(0)*kilojoules_per_mole\n",
    "\n",
    "    def setAlpha(self, alpha):\n",
    "        \"\"\"Set the value of alpha for the integrator.\"\"\"\n",
    "        self.setGlobalVariable(0, alpha)\n",
    "\n",
    "    def getE(self):\n",
    "        \"\"\"Get the energy threshold E for the integrator.\"\"\"\n",
    "        return self.getGlobalVariable(1)*kilojoules_per_mole\n",
    "\n",
    "    def setE(self, E):\n",
    "        \"\"\"Set the energy threshold E for the integrator.\"\"\"\n",
    "        self.setGlobalVariable(1, E)\n",
    "\n",
    "    def getEffectiveEnergy(self, energy):\n",
    "        \"\"\"Given the actual potential energy of the system, return the value of the effective potential.\"\"\"\n",
    "        alpha = self.getAlpha()\n",
    "        E = self.getE()\n",
    "        if not is_quantity(energy):\n",
    "            energy = energy*kilojoules_per_mole # Assume kJ/mole\n",
    "        if (energy > E):\n",
    "            return energy\n",
    "        return energy+(E-energy)*(E-energy)/(alpha+E-energy)\n"
   ]
  },
  {
   "attachments": {},
   "cell_type": "markdown",
   "metadata": {},
   "source": [
    "To choose your own E and $\\alpha$ values, the \"best practice\" is to run an Eq. MD simulation\\\n",
    "for ~10 nanoseconds, and look at the distribution of potential energy values.\\\n",
    "You'll want to set $E=<V(r)>$ of the V(r) distribution and $\\alpha$ to some fraction of E.\\\n",
    "Typically $\\alpha=0.2V(r)$ is a reasonable starting point "
   ]
  },
  {
   "attachments": {},
   "cell_type": "markdown",
   "metadata": {},
   "source": [
    "Now let's define the integrator object using an $\\alpha$ and $E$ based on some previous simulations:"
   ]
  },
  {
   "cell_type": "code",
   "execution_count": 27,
   "metadata": {},
   "outputs": [],
   "source": [
    "lang_amd_integrator = LangevinAMDIntegrator(dt=0.002 * picosecond,\n",
    "                                            alpha=13060*kilojoules_per_mole,\n",
    "                                            E=-63500*kilojoules_per_mole,\n",
    "                                            temperature=300*kelvin,\n",
    "                                            collision_rate=1.0/picosecond)"
   ]
  },
  {
   "cell_type": "code",
   "execution_count": 28,
   "metadata": {},
   "outputs": [],
   "source": [
    "lang_amd_simulation = Simulation(pdb.topology, system, lang_amd_integrator)"
   ]
  },
  {
   "attachments": {},
   "cell_type": "markdown",
   "metadata": {},
   "source": [
    "With AMD, you want to track the boost potential applied at each frame.\\\n",
    "From this set of boosts you can reconstruct the effective FES explored."
   ]
  },
  {
   "attachments": {},
   "cell_type": "markdown",
   "metadata": {},
   "source": [
    "You'll want to project the FES on some features you care about \\\n",
    "(We defined ours so with the `dist_measurer` above). \\\n",
    "We can directly extract both the total energy (for comparison sake), and the \\\n",
    "boost potential (which is what we really care about) from the integrator directly.\\\n",
    "We can also extract our CVs directly thanks to the `dist_measurer` and print them all out."
   ]
  },
  {
   "cell_type": "code",
   "execution_count": 29,
   "metadata": {},
   "outputs": [
    {
     "name": "stdout",
     "output_type": "stream",
     "text": [
      "10 -105376.95061972504 31921.666081284708 0.4592479467391968 0.42698609828948975\n",
      "20 -95968.91936972504 23155.1888257363 0.4693585932254791 0.4319298267364502\n",
      "30 -88821.95061972504 16705.799805241553 0.46689820289611816 0.43246862292289734\n",
      "40 -84715.82561972504 13132.032521123332 0.4591708481311798 0.4342583417892456\n",
      "50 -81850.95061972504 10721.01868945394 0.4615037143230438 0.43215373158454895\n",
      "60 -79956.57561972504 9175.14567464759 0.4560432732105255 0.4356312155723572\n",
      "70 -78998.51311972504 8410.938899910136 0.462199866771698 0.444046288728714\n",
      "80 -78531.38811972504 8043.127945221054 0.4730907678604126 0.4438447058200836\n",
      "90 -77720.45061972504 7412.678721729875 0.47484129667282104 0.4424886703491211\n",
      "100 -78050.76311972504 7668.1946981427345 0.4741080105304718 0.4484359920024872\n"
     ]
    }
   ],
   "source": [
    "# Now run the simulation, tracking the boost using the Integrator\n",
    "lang_amd_simulation.context.setPositions(pdb.positions)\n",
    "for i in range(10):\n",
    "    lang_amd_simulation.step(10)\n",
    "    n_steps = str(lang_amd_simulation.context.getStepCount())\n",
    "    deltaV_val = str(lang_amd_integrator.getGlobalVariable(2))\n",
    "    v0 = str(lang_amd_integrator.getGlobalVariable(3))\n",
    "    d1, d2 = dist_measurer.getCollectiveVariableValues(lang_amd_simulation.context)\n",
    "    print(\"%s %s %s %s %s\" % (n_steps, v0, deltaV_val, str(d1), str(d2)))"
   ]
  }
 ],
 "metadata": {
  "kernelspec": {
   "display_name": "openmm",
   "language": "python",
   "name": "python3"
  },
  "language_info": {
   "codemirror_mode": {
    "name": "ipython",
    "version": 3
   },
   "file_extension": ".py",
   "mimetype": "text/x-python",
   "name": "python",
   "nbconvert_exporter": "python",
   "pygments_lexer": "ipython3",
   "version": "3.9.16"
  },
  "orig_nbformat": 4
 },
 "nbformat": 4,
 "nbformat_minor": 2
}
