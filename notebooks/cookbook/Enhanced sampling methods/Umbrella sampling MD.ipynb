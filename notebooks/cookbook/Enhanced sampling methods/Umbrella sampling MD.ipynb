{
 "cells": [
  {
   "attachments": {},
   "cell_type": "markdown",
   "metadata": {},
   "source": [
    "# Imports and settings"
   ]
  },
  {
   "cell_type": "code",
   "execution_count": 154,
   "metadata": {},
   "outputs": [],
   "source": [
    "from openmm.app import *\n",
    "from openmm import *\n",
    "from openmm.unit import *"
   ]
  },
  {
   "attachments": {},
   "cell_type": "markdown",
   "metadata": {},
   "source": [
    "# Create system + CV Forces with harmonic restraints"
   ]
  },
  {
   "cell_type": "code",
   "execution_count": 155,
   "metadata": {},
   "outputs": [],
   "source": [
    "# Load an already solvated PDB file and set up the system + state\n",
    "pdb = PDBFile(\"../villin.pdb\")\n",
    "omm_forcefield = ForceField(\"amber/ff14SB.xml\", \"amber14/tip3p.xml\")\n",
    "system = omm_forcefield.createSystem(pdb.topology,\n",
    "                                         nonbondedMethod=PME,\n",
    "                                         nonbondedCutoff=10.0 * angstrom,\n",
    "                                         constraints=HBonds,\n",
    "                                         rigidWater=True,\n",
    "                                         hydrogenMass=4.0 * amu)\n"
   ]
  },
  {
   "cell_type": "code",
   "execution_count": 156,
   "metadata": {},
   "outputs": [],
   "source": [
    "# Define three atom indices - these will be used to define distance CVs\n",
    "d1_atom1_ind = 83\n",
    "d1_atom2_ind = 151\n",
    "d2_atom2_ind = 254"
   ]
  },
  {
   "cell_type": "code",
   "execution_count": 157,
   "metadata": {},
   "outputs": [
    {
     "data": {
      "text/plain": [
       "1"
      ]
     },
     "execution_count": 157,
     "metadata": {},
     "output_type": "execute_result"
    }
   ],
   "source": [
    "# Create Harmonic Force that operate on the CVs \n",
    "bias = HarmonicBondForce()\n",
    "bias.addBond(d1_atom1_ind,\n",
    "             d1_atom2_ind,\n",
    "             0.3,\n",
    "             1.0)\n",
    "\n",
    "bias.addBond(d1_atom1_ind,\n",
    "             d2_atom2_ind,\n",
    "             0.3,\n",
    "             1.0)"
   ]
  },
  {
   "cell_type": "code",
   "execution_count": 158,
   "metadata": {},
   "outputs": [
    {
     "data": {
      "text/plain": [
       "5"
      ]
     },
     "execution_count": 158,
     "metadata": {},
     "output_type": "execute_result"
    }
   ],
   "source": [
    "# Add force to the system\n",
    "system.addForce(bias)"
   ]
  },
  {
   "attachments": {},
   "cell_type": "markdown",
   "metadata": {},
   "source": [
    "Ultimately we want to track the value of these distances, which we will use to create our free energy projection – let's call them  D1 and D2.\\\n",
    "To track D1 and D2, we could use a whole `Reporter` object to save the whole trajectory and measure it afterwards.\\\n",
    "A lightweight way of doing this without the whole trajectory is to use a `customCVForce` object set to 0 (i.e. no bias). This will compute the value of a CV at each step of the simulation.\\\n",
    "We then pass D1 and D2 as bondForces to the `customCVForce` object (using `r` to track their distance)"
   ]
  },
  {
   "cell_type": "code",
   "execution_count": 159,
   "metadata": {},
   "outputs": [
    {
     "data": {
      "text/plain": [
       "6"
      ]
     },
     "execution_count": 159,
     "metadata": {},
     "output_type": "execute_result"
    }
   ],
   "source": [
    "# define a distance measurer\n",
    "dist_measurer = CustomCVForce(\"0\")\n",
    "# Create our two distances as separate Bond Forces and add them\n",
    "# Note: If we added both D1 and D2 to the same BondForce, then doing \n",
    "#     dist_measurer.getCollectiveVariableValues will return only the first distance (D1)\n",
    "# Hence we define them as separate BondForces\n",
    "D1 = CustomBondForce(\"r\")\n",
    "D1.addBond(d1_atom2_ind, d1_atom1_ind)\n",
    "D2 = CustomBondForce(\"r\")\n",
    "D2.addBond(d2_atom2_ind, d1_atom1_ind)\n",
    "\n",
    "# Add each BondForce as CVs into the dist_measurer\n",
    "dist_measurer.addCollectiveVariable(\"D1\", D1)\n",
    "dist_measurer.addCollectiveVariable(\"D2\", D2)\n",
    "system.addForce(dist_measurer)"
   ]
  },
  {
   "attachments": {},
   "cell_type": "markdown",
   "metadata": {},
   "source": [
    "# define Integrator and create the Simulation object"
   ]
  },
  {
   "cell_type": "code",
   "execution_count": 160,
   "metadata": {},
   "outputs": [],
   "source": [
    "integrator = LangevinMiddleIntegrator(300*kelvin,\n",
    "                                      1.0/picosecond,\n",
    "                                      0.002 * picosecond)"
   ]
  },
  {
   "cell_type": "code",
   "execution_count": 161,
   "metadata": {},
   "outputs": [],
   "source": [
    "simulation = Simulation(pdb.topology,system, integrator)"
   ]
  },
  {
   "attachments": {},
   "cell_type": "markdown",
   "metadata": {},
   "source": [
    "# Set up a single simulation with one umbrella (in reality you'd do multiple of these)\n"
   ]
  },
  {
   "cell_type": "code",
   "execution_count": 162,
   "metadata": {},
   "outputs": [],
   "source": [
    "simulation.context.setPositions(pdb.positions)"
   ]
  },
  {
   "attachments": {},
   "cell_type": "markdown",
   "metadata": {},
   "source": [
    "In our simulation, to generate an Free Energy Profile (or a Potential of Mean Force - PMF) we need 4 things:\n",
    "1. A set of features that each biasing potential will be projected upon (D1 and D2)\n",
    "2. A biasing potential that upon an specific CV value for each window (our harmonic constants)\n",
    "3. The actual measured D1 and D2 values for each frame, for each window \n",
    "4. For each frame, the calculated total Potential energy"
   ]
  },
  {
   "attachments": {},
   "cell_type": "markdown",
   "metadata": {},
   "source": [
    "Using our `dist_measurer`, we can track D1 and D2 for each frame of the simulation.\\\n",
    "For both D1 and D2, we also know the value of the biasing potential that was applied (using the constants `k` and `r0`). From this we can compute the Reduced Free Energy at each frame per window.\\\n",
    "By computing the Reduced Free Energy for each frame across multiple windows, we can then use \n",
    "thermodynamic estimators like MBAR to compute the PMF.\n",
    "For more details on this analysis, check out the PyMBAR documentation: https://pymbar.readthedocs.io/en/master/fes_with_pymbar.html"
   ]
  },
  {
   "cell_type": "code",
   "execution_count": 164,
   "metadata": {},
   "outputs": [
    {
     "name": "stdout",
     "output_type": "stream",
     "text": [
      "60 -127028.98186972504 kJ/mol 0.44531336426734924 0.4284404516220093\n",
      "70 -127002.45061972504 kJ/mol 0.45564672350883484 0.4295880198478699\n",
      "80 -127204.38811972504 kJ/mol 0.46104344725608826 0.4328082203865051\n",
      "90 -127126.54436972504 kJ/mol 0.47314080595970154 0.4301340579986572\n",
      "100 -126815.85686972504 kJ/mol 0.4680291414260864 0.41703155636787415\n"
     ]
    }
   ],
   "source": [
    "for i in range(5):\n",
    "    simulation.step(10)\n",
    "    n_steps = str(simulation.context.getStepCount())\n",
    "    v0 = simulation.context.getState(getEnergy=True).getPotentialEnergy()\n",
    "    d1,d2 = dist_measurer.getCollectiveVariableValues(simulation.context)\n",
    "    print(n_steps, v0, d1, d2)"
   ]
  },
  {
   "attachments": {},
   "cell_type": "markdown",
   "metadata": {},
   "source": [
    "Note that the above simulation is done for a _single_ window. To compute the PMF, we need to run multiple simulations, each with a different biasing potential applied (ie a different window).\\ "
   ]
  },
  {
   "attachments": {},
   "cell_type": "markdown",
   "metadata": {},
   "source": [
    "The easiest way to set up multiple windows, you'll just want to set up multiple `system` objects.\\\n",
    "For each `system`, you'll define a set of umbrellas with something like:\n",
    "\n",
    "```\n",
    "M = 20\n",
    "r0_range = np.linspace(0.3, 2.0, M, endpoint = False)\n",
    "```\n",
    "\n",
    "Then for each new system (1 per window), you'd can define it after `context` construction: \n",
    "```\n",
    "simulation.context.setParameter('r0_d1', r0_range[m])\n",
    "```"
   ]
  }
 ],
 "metadata": {
  "kernelspec": {
   "display_name": "openmm",
   "language": "python",
   "name": "python3"
  },
  "language_info": {
   "codemirror_mode": {
    "name": "ipython",
    "version": 3
   },
   "file_extension": ".py",
   "mimetype": "text/x-python",
   "name": "python",
   "nbconvert_exporter": "python",
   "pygments_lexer": "ipython3",
   "version": "3.9.16"
  },
  "orig_nbformat": 4
 },
 "nbformat": 4,
 "nbformat_minor": 2
}
