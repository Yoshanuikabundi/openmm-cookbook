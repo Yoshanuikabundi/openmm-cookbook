{
 "cells": [
  {
   "attachments": {},
   "cell_type": "markdown",
   "metadata": {},
   "source": [
    "# Imports and settings"
   ]
  },
  {
   "cell_type": "code",
   "execution_count": 121,
   "metadata": {},
   "outputs": [],
   "source": [
    "from openmm.app import *\n",
    "from openmm import *              \n",
    "from openmm.unit import *"
   ]
  },
  {
   "attachments": {},
   "cell_type": "markdown",
   "metadata": {},
   "source": [
    "# Create system + CV Forces with harmonic restraints"
   ]
  },
  {
   "cell_type": "code",
   "execution_count": 122,
   "metadata": {},
   "outputs": [],
   "source": [
    "# Load an already solvated PDB file and set up the system + state\n",
    "pdb = PDBFile(\"../villin.pdb\")\n",
    "omm_forcefield = ForceField(\"amber/ff14SB.xml\", \"amber14/tip3p.xml\")\n",
    "system = omm_forcefield.createSystem(pdb.topology, \n",
    "                                         nonbondedMethod=PME, \n",
    "                                         nonbondedCutoff=10.0 * angstrom, \n",
    "                                         constraints=HBonds,\n",
    "                                         rigidWater=True,\n",
    "                                         hydrogenMass=4.0 * amu)\n"
   ]
  },
  {
   "cell_type": "code",
   "execution_count": 123,
   "metadata": {},
   "outputs": [],
   "source": [
    "# Define three atom indices - these will be used to define distance CVs\n",
    "d1_atom1_ind = 83\n",
    "d1_atom2_ind = 151\n",
    "d2_atom2_ind = 254"
   ]
  },
  {
   "cell_type": "code",
   "execution_count": 124,
   "metadata": {},
   "outputs": [
    {
     "data": {
      "text/plain": [
       "1"
      ]
     },
     "execution_count": 124,
     "metadata": {},
     "output_type": "execute_result"
    }
   ],
   "source": [
    "# Create Harmonic Force that operate on the CVs \n",
    "bias = HarmonicBondForce()\n",
    "bias.addBond(d1_atom1_ind, \n",
    "             d1_atom2_ind, \n",
    "             0.3, \n",
    "             1.0)\n",
    "\n",
    "bias.addBond(d1_atom1_ind,\n",
    "             d2_atom2_ind,\n",
    "             0.3,\n",
    "             1.0)"
   ]
  },
  {
   "cell_type": "code",
   "execution_count": 125,
   "metadata": {},
   "outputs": [
    {
     "data": {
      "text/plain": [
       "5"
      ]
     },
     "execution_count": 125,
     "metadata": {},
     "output_type": "execute_result"
    }
   ],
   "source": [
    "# Add force to the system\n",
    "system.addForce(bias)"
   ]
  },
  {
   "attachments": {},
   "cell_type": "markdown",
   "metadata": {},
   "source": [
    "Ultimately we want to track the value of these distances, which we will use to create our free energy projection – let's call them  D1 and D2.\\\n",
    "To track D1 and D2, we could use a whole `Reporter` object to save the whole trajectory and measure it afterwards.\\\n",
    "A lightweight way of doing this without the whole trajectory is to use a `customCVForce` object set to 0 (i.e. no bias). This will compute the value of a CV at each step of the simulation.\\\n",
    "We then pass D1 and D2 as bondForces to the `customCVForce` object (using `r` to track their distance)"
   ]
  },
  {
   "cell_type": "code",
   "execution_count": 126,
   "metadata": {},
   "outputs": [
    {
     "data": {
      "text/plain": [
       "6"
      ]
     },
     "execution_count": 126,
     "metadata": {},
     "output_type": "execute_result"
    }
   ],
   "source": [
    "# define a distance measurer\n",
    "dist_measurer = CustomCVForce(\"0\")\n",
    "# Create our two distances as separate Bond Forces and add them\n",
    "# Note: If we added both D1 and D2 to the same BondForce, then doing \n",
    "#     dist_measurer.getCollectiveVariableValues will return only the first distance (D1)\n",
    "# Hence we define them as separate BondForces\n",
    "D1 = CustomBondForce(\"r\")\n",
    "D1.addBond(d1_atom2_ind, d1_atom1_ind)\n",
    "D2 = CustomBondForce(\"r\")\n",
    "D2.addBond(d2_atom2_ind, d1_atom1_ind)\n",
    "\n",
    "# Add each BondForce as CVs into the dist_measurer\n",
    "dist_measurer.addCollectiveVariable(\"D1\", D1)\n",
    "dist_measurer.addCollectiveVariable(\"D2\", D2)\n",
    "system.addForce(dist_measurer)"
   ]
  },
  {
   "attachments": {},
   "cell_type": "markdown",
   "metadata": {},
   "source": [
    "# define Integrator and create the Simulation object"
   ]
  },
  {
   "cell_type": "code",
   "execution_count": 127,
   "metadata": {},
   "outputs": [],
   "source": [
    "integrator = LangevinMiddleIntegrator(300*kelvin,\n",
    "                                      1.0/picosecond,\n",
    "                                      0.002 * picosecond)"
   ]
  },
  {
   "cell_type": "code",
   "execution_count": 128,
   "metadata": {},
   "outputs": [],
   "source": [
    "simulation = Simulation(pdb.topology,system, integrator)"
   ]
  },
  {
   "attachments": {},
   "cell_type": "markdown",
   "metadata": {},
   "source": [
    "# Set up a single simulation with one umbrella (in reality you'd do multiple of these)\n"
   ]
  },
  {
   "cell_type": "code",
   "execution_count": 129,
   "metadata": {},
   "outputs": [],
   "source": [
    "simulation.context.setPositions(pdb.positions)\n",
    "    "
   ]
  },
  {
   "cell_type": "code",
   "execution_count": 131,
   "metadata": {},
   "outputs": [
    {
     "name": "stdout",
     "output_type": "stream",
     "text": [
      "4050 0.4116576611995697 0.4263102114200592\n",
      "4060 0.41148799657821655 0.4017527401447296\n",
      "4070 0.42247557640075684 0.4031124711036682\n",
      "4080 0.44210001826286316 0.40274685621261597\n",
      "4090 0.4301850199699402 0.40563341975212097\n"
     ]
    }
   ],
   "source": [
    "for i in range(5):\n",
    "    simulation.step(10)\n",
    "    n_steps = str(simulation.context.getStepCount())\n",
    "    d1,d2 = dist_measurer.getCollectiveVariableValues(simulation.context)\n",
    "    print(n_steps, d1, d2)"
   ]
  },
  {
   "attachments": {},
   "cell_type": "markdown",
   "metadata": {},
   "source": [
    "If we were to do this for multiple windows, the way to do this is set up a loop over the windows, and then run the simulation for each window.\\\n",
    "For each system, you'd just have to first define a set of umbrellas with something like:\n",
    "\n",
    "```\n",
    "M = 20\n",
    "r0_range = np.linspace(0.3, 2.0, M, endpoint = False)\n",
    "```\n",
    "Then for each new system (1 per window), you'd add it like: \n",
    "```\n",
    "simulation.context.setParameter('r0_d1', r0_range[m])\n",
    "```"
   ]
  }
 ],
 "metadata": {
  "kernelspec": {
   "display_name": "openmm",
   "language": "python",
   "name": "python3"
  },
  "language_info": {
   "codemirror_mode": {
    "name": "ipython",
    "version": 3
   },
   "file_extension": ".py",
   "mimetype": "text/x-python",
   "name": "python",
   "nbconvert_exporter": "python",
   "pygments_lexer": "ipython3",
   "version": "3.9.16"
  },
  "orig_nbformat": 4
 },
 "nbformat": 4,
 "nbformat_minor": 2
}
