{
 "cells": [
  {
   "attachments": {},
   "cell_type": "markdown",
   "metadata": {},
   "source": [
    "# Imports and settings"
   ]
  },
  {
   "cell_type": "code",
   "execution_count": 1,
   "metadata": {},
   "outputs": [
    {
     "name": "stderr",
     "output_type": "stream",
     "text": [
      "Warning: importing 'simtk.openmm' is deprecated.  Import 'openmm' instead.\n"
     ]
    }
   ],
   "source": [
    "from openmm.app import *\n",
    "from openmm import *                    \n",
    "from openmm.unit import *\n",
    "from openmmtools import forces\n",
    "import mdtraj as md\n",
    "import numpy as np\n",
    "import parmed as pmd\n",
    "import bz2\n",
    "import os\n",
    "from openmm import CustomIntegrator\n",
    "from openmm.unit import kilojoules_per_mole, is_quantity\n",
    "from openmm.unit import *\n",
    "import numpy as np\n",
    "import pandas as pd \n",
    "from matplotlib import pyplot as plt"
   ]
  },
  {
   "cell_type": "code",
   "execution_count": 2,
   "metadata": {},
   "outputs": [],
   "source": [
    "# define a function for creating RMSD restraints \n",
    "def create_rmsd_restraint(positions, atom_indicies):\n",
    "    rmsd_cv = RMSDForce(positions, atom_indicies)\n",
    "    energy_expression = 'step(dRMSD) * (K_RMSD/2) * dRMSD^2; dRMSD = (RMSD-RMSD0);'                                                  \n",
    "    energy_expression += 'K_RMSD = %f;' % spring_constant.value_in_unit_system(md_unit_system)                                       \n",
    "    energy_expression += 'RMSD0 = %f;' % restraint_distance.value_in_unit_system(md_unit_system)                                     \n",
    "    restraint_force = CustomCVForce(energy_expression)                                                                               \n",
    "    restraint_force.addCollectiveVariable('RMSD', rmsd_cv)                                                                           \n",
    "    return restraint_force                                                                                                           \n",
    "                                                                  "
   ]
  },
  {
   "cell_type": "code",
   "execution_count": 3,
   "metadata": {},
   "outputs": [],
   "source": [
    "# define a function to list force groups and modify system context                                                       \n",
    "def forcegroupify(system):                                        \n",
    "    forcegroups = {}                                              \n",
    "    for i in range(system.getNumForces()):                                                                                           \n",
    "        force = system.getForce(i)                           \n",
    "        force.setForceGroup(i) \n",
    "        forcegroups[force] = i                                    \n",
    "    return forcegroups"
   ]
  },
  {
   "attachments": {},
   "cell_type": "markdown",
   "metadata": {},
   "source": [
    "# Create system + CV Forces with harmonic restraints"
   ]
  },
  {
   "cell_type": "code",
   "execution_count": 4,
   "metadata": {},
   "outputs": [],
   "source": [
    "sim_temp = 300.0 * kelvin\n",
    "H_mass = 4.0 * amu #Might need to be tuned to 3.5 amu \n",
    "time_step = 0.002 * picosecond  \n",
    "nb_cutoff = 10.0 * angstrom                                                                                                          \n",
    "box_padding = 12.0 * angstrom\n",
    "salt_conc = 0.15 * molar\n",
    "receptor_path=\"../villin.pdb\"\n",
    "current_file=\"villin-solvated\"\n",
    "# Misc parameters                                                 \n",
    "restraint_distance = 0.0 * angstroms                              \n",
    "restart_freq = 10\n",
    "log_freq = 1                                                                                                                         \n",
    "prd_steps = 100     "
   ]
  },
  {
   "cell_type": "code",
   "execution_count": 5,
   "metadata": {},
   "outputs": [
    {
     "data": {
      "text/plain": [
       "5"
      ]
     },
     "execution_count": 5,
     "metadata": {},
     "output_type": "execute_result"
    }
   ],
   "source": [
    "## Load an already solvated PDB file and set up the system + state\n",
    "pdb = PDBFile(receptor_path)\n",
    "omm_forcefield = ForceField(\"amber/ff14SB.xml\", \"amber14/tip3p.xml\")\n",
    "system = omm_forcefield.createSystem(pdb.topology, \n",
    "                                         nonbondedMethod=PME, \n",
    "                                         nonbondedCutoff=nb_cutoff, \n",
    "                                         constraints=HBonds, \n",
    "                                         rigidWater=True,\n",
    "                                         hydrogenMass=H_mass)\n",
    "system.addForce(MonteCarloBarostat(1*bar, sim_temp))\n"
   ]
  },
  {
   "cell_type": "code",
   "execution_count": 6,
   "metadata": {},
   "outputs": [],
   "source": [
    "prot_top = md.Topology.from_openmm(pdb.topology)\n",
    "# find three atoms and save their inds - these will be used to define distances\n",
    "d1_atom1_ind = prot_top.select(\"residue 6 and name CZ\")[0]\n",
    "d1_atom2_ind = prot_top.select(\"residue 10 and name CZ\")[0] \n",
    "d2_atom2_ind = prot_top.select(\"residue 17 and name CZ\")[0]"
   ]
  },
  {
   "cell_type": "code",
   "execution_count": 7,
   "metadata": {},
   "outputs": [
    {
     "data": {
      "text/plain": [
       "1"
      ]
     },
     "execution_count": 7,
     "metadata": {},
     "output_type": "execute_result"
    }
   ],
   "source": [
    "# Add Harmonica functions to CV bonds\n",
    "bias_d1 = CustomBondForce(\"0.5*k*(r-r0_d1)^2\")\n",
    "bias_d1.addGlobalParameter(\"k\", 1.0)\n",
    "bias_d1.addGlobalParameter(\"r0_d1\", 0.3)\n",
    "\n",
    "bias_d2 = CustomBondForce(\"0.5*k*(r-r0_d2)^2\")\n",
    "bias_d2.addGlobalParameter(\"k\", 1.0)\n",
    "bias_d2.addGlobalParameter(\"r0_d2\", 0.3)"
   ]
  },
  {
   "cell_type": "code",
   "execution_count": 8,
   "metadata": {},
   "outputs": [
    {
     "data": {
      "text/plain": [
       "7"
      ]
     },
     "execution_count": 8,
     "metadata": {},
     "output_type": "execute_result"
    }
   ],
   "source": [
    "# Add forces to the system\n",
    "bias_d1.addBond(d1_atom1_ind, d1_atom2_ind)\n",
    "bias_d2.addBond(d1_atom1_ind, d2_atom2_ind)\n",
    "\n",
    "system.addForce(bias_d1)\n",
    "system.addForce(bias_d2)"
   ]
  },
  {
   "attachments": {},
   "cell_type": "markdown",
   "metadata": {},
   "source": [
    "# Define an integrator where the harmonic boost potential applied is written out as a global variable"
   ]
  },
  {
   "cell_type": "code",
   "execution_count": 9,
   "metadata": {},
   "outputs": [],
   "source": [
    "import numpy as np\n",
    "kB = BOLTZMANN_CONSTANT_kB * AVOGADRO_CONSTANT_NA\n",
    "\n",
    "'''\n",
    "Useful links in the writing of this integrator: \n",
    "Writing custom integrators: https://github.com/choderalab/openmm-tutorials/blob/master/02%20-%20Integrators%20and%20sampling.ipynb\n",
    "AMD integrator: https://github.com/openmm/openmm/blob/master/wrappers/python/openmm/amd.py\n",
    "'''\n",
    "\n",
    "class LangevinEqIntegrator(CustomIntegrator):\n",
    "    \"\"\"LangevinEqIntegrator is a standard Langevin Eq. Integrator but it stores the energy\n",
    "    as a stored GlobalParameter for easy reporting via FAH\n",
    "    \"\"\"\n",
    "\n",
    "    def __init__(self, dt, temperature=300*kelvin, collision_rate=1.0/picosecond):\n",
    "        \"\"\"Create an LangevinEqIntegrator.\n",
    "        Parameters\n",
    "        ----------\n",
    "        dt : time \n",
    "            The integration time step to use (simtk quantity)\n",
    "        temperature : temperature\n",
    "            temperature of the system\n",
    "        collision rate : collision rate\n",
    "            Collision for the thermostat to update on\n",
    "        \"\"\"\n",
    "        gamma = collision_rate*picoseconds # add this because SWIG somehow?\n",
    "        CustomIntegrator.__init__(self, dt)\n",
    "        # parameters\n",
    "        self.addPerDofVariable(\"oldx\", 0)\n",
    "        self.addGlobalVariable(\"V0\", 0)\n",
    "        self.addPerDofVariable(\"sigma\", 0)\n",
    "        self.addUpdateContextState();\n",
    "        \n",
    "        # Comment out old AMD method \n",
    "        # self.addComputePerDof(\"v\", \"v+dt*fprime/m; fprime=f*((1-modify) + modify*(alpha/(alpha+E-energy))^2); modify=step(E-energy)\")\n",
    "        # self.addComputePerDof(\"oldx\", \"x\")\n",
    "        # self.addComputePerDof(\"x\", \"x+dt*v\")\n",
    "        # self.addConstrainPositions()\n",
    "        # self.addComputePerDof(\"v\", \"(x-oldx)/dt\")\n",
    "\n",
    "        # new variables for Langevin kernel\n",
    "        self.addGlobalVariable('kT', kB * temperature)\n",
    "        self.addComputePerDof(\"sigma\", \"sqrt(kT/m)\")\n",
    "        self.addGlobalVariable(\"a\", np.exp(-1 * gamma)) #vscale?\n",
    "        self.addGlobalVariable(\"b\", np.sqrt(1 - np.exp(-2 * gamma))) # noise-scale?\n",
    "\n",
    "        #before position restraints\n",
    "        #self.addPerDofVariable(\"oldx\", 0)\n",
    "\n",
    "        # Compute steps for Langevin - attempt at VRORV splitting?\n",
    "        self.addComputePerDof(\"v\", \"v + (dt / 2) * f/m\")\n",
    "        # langevin like normal\n",
    "        self.addComputePerDof(\"x\", \"x + (dt / 2)*v\")\n",
    "        self.addComputePerDof(\"oldx\", \"x\")\n",
    "        self.addConstrainPositions()\n",
    "        self.addComputePerDof(\"v\", \"v + (x - oldx)/(dt / 2)\")\n",
    "        self.addComputePerDof(\"v\", \"(a * v) + (b * sigma * gaussian)\") # taken from openmm-tutorial on custom integrators (link 1 above)\n",
    "        self.addComputePerDof(\"x\", \"x + (dt / 2)*v\")\n",
    "        self.addComputePerDof(\"oldx\", \"x\")\n",
    "        self.addConstrainPositions()\n",
    "        self.addComputePerDof(\"v\", \"v + (x - oldx) / (dt / 2)\")\n",
    "        # Use the same line as what you calculated above\n",
    "        self.addComputePerDof(\"v\", \"v + (dt / 2) * f/m\")\n",
    "        # compute the V and deltaV values\n",
    "        self.addComputeGlobal(\"V0\", \"energy\")\n",
    "        self.addConstrainVelocities()\n"
   ]
  },
  {
   "cell_type": "code",
   "execution_count": 10,
   "metadata": {},
   "outputs": [],
   "source": [
    "integrator = LangevinEqIntegrator(dt=time_step,\n",
    "                                  temperature=300*kelvin,\n",
    "                                  collision_rate=1.0/picosecond)"
   ]
  },
  {
   "attachments": {},
   "cell_type": "markdown",
   "metadata": {},
   "source": [
    "# Create the simulation object"
   ]
  },
  {
   "cell_type": "code",
   "execution_count": 12,
   "metadata": {},
   "outputs": [],
   "source": [
    "platform = Platform.getPlatformByName('OpenCL')\n",
    "platform.setPropertyDefaultValue('Precision', 'mixed')"
   ]
  },
  {
   "cell_type": "code",
   "execution_count": 13,
   "metadata": {},
   "outputs": [],
   "source": [
    "simulation = Simulation(pdb.topology,system, integrator, platform)"
   ]
  },
  {
   "cell_type": "code",
   "execution_count": 14,
   "metadata": {},
   "outputs": [],
   "source": [
    "simulation.reporters.append(DCDReporter('./'+current_file+''+ '.dcd', restart_freq))\n",
    "simulation.reporters.append(CheckpointReporter('./'+current_file+''+ '.chk', min(prd_steps, 10*restart_freq)))\n",
    "simulation.reporters.append(StateDataReporter(open('./log.' + current_file+'', 'w'), log_freq, step=True, potentialEnergy=True, kineticEnergy=True, totalEnergy=True, temperature=True, volume=True, density=True, speed=True))"
   ]
  },
  {
   "attachments": {},
   "cell_type": "markdown",
   "metadata": {},
   "source": [
    "# Set up a single simulation with one umbrella (in reality you'd do multiple of these)\n"
   ]
  },
  {
   "cell_type": "code",
   "execution_count": 15,
   "metadata": {},
   "outputs": [],
   "source": [
    "## set force constant K for the biasing potential.\n",
    "## the unit here is kJ*mol^{-1}*nm^{-2}, which is the default unit used in OpenMM\n",
    "K = 100\n",
    "simulation.context.setParameter(\"k\", K)\n",
    "\n",
    "## M centers of harmonic biasing potentials\n",
    "M = 20\n",
    "r0_range = np.linspace(0.3, 2.0, M, endpoint = False)"
   ]
  },
  {
   "cell_type": "code",
   "execution_count": 16,
   "metadata": {},
   "outputs": [],
   "source": [
    "simulation.context.setParameter('r0_d1', r0_range[1])\n",
    "simulation.context.setParameter('r0_d2', r0_range[2])"
   ]
  },
  {
   "cell_type": "code",
   "execution_count": 18,
   "metadata": {},
   "outputs": [
    {
     "name": "stdout",
     "output_type": "stream",
     "text": [
      "  initial : -115004.21780371421 kJ/mol\n",
      "  final : -145473.62098196533 kJ/mol\n"
     ]
    }
   ],
   "source": [
    "simulation.context.setPositions(pdb.positions)\n",
    "print('  initial : %s' % (simulation.context.getState(getEnergy=True).getPotentialEnergy()))\n",
    "simulation.minimizeEnergy()\n",
    "print('  final : %s' % (simulation.context.getState(getEnergy=True).getPotentialEnergy()))"
   ]
  },
  {
   "cell_type": "code",
   "execution_count": 19,
   "metadata": {},
   "outputs": [],
   "source": [
    "for i in range(5):\n",
    "    simulation.step(10)"
   ]
  },
  {
   "attachments": {},
   "cell_type": "markdown",
   "metadata": {},
   "source": [
    "If we were to do this for multiple windows, the way to do this is set up a loop over the windows, and then run the simulation for each window.\\\n",
    "For each system, you'd just have to first define a set of umbrellas with something like:\n",
    "\n",
    "```\n",
    "M = 20\n",
    "r0_range = np.linspace(0.3, 2.0, M, endpoint = False)\n",
    "```\n",
    "Then for each new system (1 per window), you'd add it like: \n",
    "```\n",
    "simulation.context.setParameter('r0_d1', r0_range[m])\n",
    "```"
   ]
  }
 ],
 "metadata": {
  "kernelspec": {
   "display_name": "openmm",
   "language": "python",
   "name": "python3"
  },
  "language_info": {
   "codemirror_mode": {
    "name": "ipython",
    "version": 3
   },
   "file_extension": ".py",
   "mimetype": "text/x-python",
   "name": "python",
   "nbconvert_exporter": "python",
   "pygments_lexer": "ipython3",
   "version": "3.9.16"
  },
  "orig_nbformat": 4
 },
 "nbformat": 4,
 "nbformat_minor": 2
}
