{
 "cells": [
  {
   "cell_type": "markdown",
   "metadata": {},
   "source": [
    "# Umbrella sampling in Molecular dynamics to enhance conformational sampling"
   ]
  },
  {
   "cell_type": "markdown",
   "metadata": {},
   "source": [
    "Sometimes we want to ensure sampling of a particular region of phase space. For example, we may want to sample the transition state of a reaction, or the folded state of a protein. Other times, we may struggle to sample a particular region of phase space, and want to enhance sampling there. Umbrella sampling is a technique that can be used to achieve both of these goals."
   ]
  },
  {
   "cell_type": "markdown",
   "metadata": {},
   "source": [
    "Briefly, umbrella sampling works by adding a harmonic biasing potential to the potential energy of the system, tethering the bias to a \"point\" in phase space. We implement this \"point\" using some known order parameter that is \"useful\" to our context (as we will show below). \n",
    "\n",
    "For example, if we want to sample a loop motion in a protein, we might use define some distances as our CVs, and then set up a biasing potential centered on some specific pair of distances. \n",
    "\n",
    "The biasing potential is essentially a \"spring\" (a harmonic potential) based on the distance CVs, and is high (\"pulling harder\") when the distances are far away from our desired Point, and lower as we approach the center. This \"pulling\" is what biases the system to sample the region of phase space around the Point. The harmonic nature of this potential is what makes it an \"umbrella\" sampling potential, because it's an umbrella centered around a point of interest."
   ]
  },
  {
   "cell_type": "markdown",
   "metadata": {},
   "source": [
    "In this notebook, we will implement umbrella sampling in a 2D protein. We will also show how to quickly track the progress of the simulation as time progresses with a single umbrella. Other analysis methods will be briefly discussed but are [implemented](https://pymbar.readthedocs.io/en/master/fes_with_pymbar.html#fes-with-pymbar) [elsewhere](https://fastmbar.readthedocs.io/en/latest/butane_PMF.html)."
   ]
  },
  {
   "attachments": {},
   "cell_type": "markdown",
   "metadata": {},
   "source": [
    "Okay first let's import basic libraries and set up our system"
   ]
  },
  {
   "cell_type": "code",
   "execution_count": 1,
   "metadata": {},
   "outputs": [],
   "source": [
    "from openmm.app import *\n",
    "from openmm import *\n",
    "from openmm.unit import *\n",
    "\n",
    "# Load an already solvated PDB file and set up the system + state\n",
    "pdb = PDBFile(\"../villin.pdb\")\n",
    "omm_forcefield = ForceField(\"amber/ff14SB.xml\", \"amber14/tip3p.xml\")\n",
    "system = omm_forcefield.createSystem(pdb.topology,\n",
    "                                         nonbondedMethod=PME,\n",
    "                                         nonbondedCutoff=10.0 * angstrom,\n",
    "                                         constraints=HBonds,\n",
    "                                         rigidWater=True,\n",
    "                                         hydrogenMass=4.0 * amu)\n"
   ]
  },
  {
   "attachments": {},
   "cell_type": "markdown",
   "metadata": {},
   "source": [
    "Okay now let's define our CVs. We will use the distances between the alpha carbons of three residues as our CVs (forming a triangle). First let's define the relevant atom indices (these are system specific, so you will need to change them for your system)."
   ]
  },
  {
   "cell_type": "code",
   "execution_count": 2,
   "metadata": {},
   "outputs": [],
   "source": [
    "# Define three atom indices - these will be used to define distance CVs\n",
    "d1_atom1_ind = 83\n",
    "d1_atom2_ind = 151\n",
    "d2_atom2_ind = 254"
   ]
  },
  {
   "cell_type": "markdown",
   "metadata": {},
   "source": [
    "Now it's time to actually add the harmonic potential to our system. We will use the `HarmonicBondForce` class to do this. This class allows us to define a Harmonic bond that will be represent our biasing potential. The `HarmonicBondForce` defines a harmonic potential based on the distances between the alpha carbons of the three residues we defined above."
   ]
  },
  {
   "cell_type": "markdown",
   "metadata": {},
   "source": [
    "It's worth noting that in our `addBond` definition, we are defining the center point of our harmonic potential (ie a distance between the alpha carbons) as 0.3 - this is simply defined for our current system of example, but should change depending on your system of interest. This will result in our simulation to be biased to sample around this center-distance (0.3)."
   ]
  },
  {
   "cell_type": "markdown",
   "metadata": {},
   "source": [
    "If we wanted to bias the system to a different point, we would simply change the `center` argument to the desired distance.\n",
    "We are also defining a potential \"strength\" of 1.0 (again, system specific), which is the spring constant of the harmonic potential. This is the \"strength\" of the biasing potential, and will determine how strongly the system is biased to sample around the center point."
   ]
  },
  {
   "cell_type": "code",
   "execution_count": 3,
   "metadata": {},
   "outputs": [
    {
     "data": {
      "text/plain": [
       "1"
      ]
     },
     "execution_count": 3,
     "metadata": {},
     "output_type": "execute_result"
    }
   ],
   "source": [
    "# Create Harmonic Force that operate on the CVs \n",
    "bias = HarmonicBondForce()\n",
    "\n",
    "# Add the first distance - we'll call it D1\n",
    "bias.addBond(d1_atom1_ind,\n",
    "             d1_atom2_ind,\n",
    "             0.3, # Equilibrium distance and center of the umbrella\n",
    "             1.0 )# Force constant\n",
    "\n",
    "# Add the second distance - we'll call it D2\n",
    "bias.addBond(d1_atom1_ind,\n",
    "             d2_atom2_ind,\n",
    "             0.3, # Equilibrium distance and center of the umbrella\n",
    "             1.0) # Force constant"
   ]
  },
  {
   "cell_type": "markdown",
   "metadata": {},
   "source": [
    "Then we add the `bias` that we created to the system."
   ]
  },
  {
   "cell_type": "code",
   "execution_count": 4,
   "metadata": {},
   "outputs": [
    {
     "data": {
      "text/plain": [
       "5"
      ]
     },
     "execution_count": 4,
     "metadata": {},
     "output_type": "execute_result"
    }
   ],
   "source": [
    "# Add force to the system\n",
    "system.addForce(bias)"
   ]
  },
  {
   "cell_type": "markdown",
   "metadata": {},
   "source": [
    "It is also useful for us to be able to track these distances as we run the simulation. To track D1 and D2, we could use a whole `Reporter` object to save the whole trajectory and measure it afterwards.\n",
    "\n",
    "We can do this by creating a `CustomCVForce` that will track the distances between the alpha carbons of the three residues we defined above. This will allow us to see how the distances change as the simulation progresses.\n",
    "\n",
    "A lightweight way of doing this without the whole trajectory is to use a `customCVForce` object set to 0 (i.e. no bias). This will compute the value of a CV at each step of the simulation."
   ]
  },
  {
   "cell_type": "markdown",
   "metadata": {},
   "source": [
    "First we define our distance measuring variable `dist_measurer`"
   ]
  },
  {
   "cell_type": "code",
   "execution_count": 5,
   "metadata": {},
   "outputs": [],
   "source": [
    "# define a distance measurer\n",
    "dist_measurer = CustomCVForce(\"0\")"
   ]
  },
  {
   "cell_type": "markdown",
   "metadata": {},
   "source": [
    "Next, we will create our two distances as separate Bond Forces and add them to the system.\n",
    "Note: If we added both D1 and D2 to the same BondForce, then doing `dist_measurer.getCollectiveVariableValues` will return only the first distance (D1), so we have to add them as separate `customBondForce` variables.\n"
   ]
  },
  {
   "cell_type": "code",
   "execution_count": 6,
   "metadata": {},
   "outputs": [
    {
     "data": {
      "text/plain": [
       "6"
      ]
     },
     "execution_count": 6,
     "metadata": {},
     "output_type": "execute_result"
    }
   ],
   "source": [
    "# Define our measuring BondForces\n",
    "D1 = CustomBondForce(\"r\")\n",
    "D1.addBond(d1_atom2_ind, d1_atom1_ind)\n",
    "D2 = CustomBondForce(\"r\")\n",
    "D2.addBond(d2_atom2_ind, d1_atom1_ind)\n",
    "\n",
    "# Add each BondForce as CVs into the dist_measurer\n",
    "dist_measurer.addCollectiveVariable(\"D1\", D1)\n",
    "dist_measurer.addCollectiveVariable(\"D2\", D2)\n",
    "system.addForce(dist_measurer)"
   ]
  },
  {
   "cell_type": "markdown",
   "metadata": {},
   "source": [
    "Now we can run the simulation. We will use a `LangevinIntegrator` with a timestep of 2 fs, and a collision rate of 1/ps."
   ]
  },
  {
   "cell_type": "code",
   "execution_count": 7,
   "metadata": {},
   "outputs": [],
   "source": [
    "integrator = LangevinMiddleIntegrator(300*kelvin,\n",
    "                                      1.0/picosecond,\n",
    "                                      0.002 * picosecond)"
   ]
  },
  {
   "cell_type": "code",
   "execution_count": 8,
   "metadata": {},
   "outputs": [],
   "source": [
    "simulation = Simulation(pdb.topology,system, integrator)"
   ]
  },
  {
   "attachments": {},
   "cell_type": "markdown",
   "metadata": {},
   "source": [
    "Alright - we now have our `simulation` object, which contains our single umbrella. We can now run the simulation and see how the distances change over time."
   ]
  },
  {
   "cell_type": "markdown",
   "metadata": {},
   "source": [
    "First we set our initial positions:"
   ]
  },
  {
   "cell_type": "code",
   "execution_count": 9,
   "metadata": {},
   "outputs": [],
   "source": [
    "simulation.context.setPositions(pdb.positions)"
   ]
  },
  {
   "cell_type": "markdown",
   "metadata": {},
   "source": [
    "Using our `dist_measurer`, we can track D1 and D2 for each frame of the simulation.\\\n",
    "For both D1 and D2, we also know the value of the biasing potential that was applied (using the constants `k` and `r0`). From this we can compute the Reduced Free Energy at each frame per window.\\"
   ]
  },
  {
   "cell_type": "code",
   "execution_count": 10,
   "metadata": {},
   "outputs": [
    {
     "name": "stdout",
     "output_type": "stream",
     "text": [
      "10 -125075.91936972504 kJ/mol 0.4543943703174591 0.4209526777267456\n",
      "20 -125568.32561972504 kJ/mol 0.4560399055480957 0.41610270738601685\n",
      "30 -126105.88811972504 kJ/mol 0.4422377943992615 0.4061473608016968\n",
      "40 -126663.73186972504 kJ/mol 0.4465791583061218 0.413379043340683\n",
      "50 -126888.26311972504 kJ/mol 0.4487186670303345 0.42601025104522705\n"
     ]
    }
   ],
   "source": [
    "for i in range(5):\n",
    "    simulation.step(10)\n",
    "    n_steps = str(simulation.context.getStepCount())\n",
    "    v0 = simulation.context.getState(getEnergy=True).getPotentialEnergy()\n",
    "    d1,d2 = dist_measurer.getCollectiveVariableValues(simulation.context)\n",
    "    print(n_steps, v0, d1, d2)"
   ]
  },
  {
   "attachments": {},
   "cell_type": "markdown",
   "metadata": {},
   "source": [
    "Briefly, in our simulation, to generate an Free Energy Profile (or a Potential of Mean Force - PMF) we need 4 things:\n",
    "1. A set of features that each biasing potential will be projected upon (D1 and D2)\n",
    "2. A biasing potential that upon an specific CV value for each window (our harmonic constants)\n",
    "3. The actual measured D1 and D2 values for each frame, for each window \n",
    "4. For each frame, the calculated total Potential energy"
   ]
  },
  {
   "attachments": {},
   "cell_type": "markdown",
   "metadata": {},
   "source": [
    "Note that the above simulation is done for a _single_ window. To compute the PMF, we need to run multiple simulations, each with a different biasing potential applied (ie a different window).\n",
    "\n",
    "The easiest way to set up multiple windows, you'll just want to set up multiple `system` objects.\\\n",
    "For each `system`, you'll define a set of umbrellas with something like:\n",
    "\n",
    "```\n",
    "M = 20\n",
    "r0_range = np.linspace(0.3, 2.0, M, endpoint = False)\n",
    "```\n",
    "\n",
    "Then for each new system (1 per window), you'd can define it after `context` construction: \n",
    "```\n",
    "simulation.context.setParameter('r0_d1', r0_range[m])\n",
    "```"
   ]
  }
 ],
 "metadata": {
  "kernelspec": {
   "display_name": "openmm",
   "language": "python",
   "name": "python3"
  },
  "language_info": {
   "codemirror_mode": {
    "name": "ipython",
    "version": 3
   },
   "file_extension": ".py",
   "mimetype": "text/x-python",
   "name": "python",
   "nbconvert_exporter": "python",
   "pygments_lexer": "ipython3",
   "version": "3.9.16"
  },
  "orig_nbformat": 4
 },
 "nbformat": 4,
 "nbformat_minor": 2
}
