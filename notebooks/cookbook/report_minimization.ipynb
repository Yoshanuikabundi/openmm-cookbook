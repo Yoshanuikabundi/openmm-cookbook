{
 "cells": [
  {
   "cell_type": "markdown",
   "id": "e174828a",
   "metadata": {},
   "source": [
    "## Reporting Minimization\n",
    "\n",
    "You can report the status of [`simulation.minimizeEnergy()`](http://docs.openmm.org/development/api-python/generated/openmm.app.simulation.Simulation.html?#openmm.app.simulation.Simulation.minimizeEnergy) using a [`MinimizerReporter`](http://docs.openmm.org/development/api-python/generated/openmm.openmm.MinimizationReporter.html).\n",
    "\n",
    "The syntax for doing this is somewhat different to typical OpenMM functionality. Read the [API documentation](http://docs.openmm.org/development/api-python/generated/openmm.openmm.MinimizationReporter.html) for more explanation.\n",
    "\n",
    "First we will create a test system."
   ]
  },
  {
   "cell_type": "code",
   "execution_count": null,
   "id": "3592a17b",
   "metadata": {},
   "outputs": [],
   "source": [
    "from openmm.app import *\n",
    "from openmm import *\n",
    "from openmm.unit import *\n",
    "from sys import stdout\n",
    "\n",
    "pdb = PDBFile('villin.pdb')\n",
    "forcefield = ForceField('amber14-all.xml', 'amber14/tip3pfb.xml')\n",
    "system = forcefield.createSystem(pdb.topology, nonbondedMethod=PME,\n",
    "        nonbondedCutoff=1*nanometer, constraints=HBonds)\n",
    "integrator = LangevinMiddleIntegrator(300*kelvin, 1/picosecond, 0.004*picoseconds)\n",
    "simulation = Simulation(pdb.topology, system, integrator)\n",
    "simulation.context.setPositions(pdb.positions)"
   ]
  },
  {
   "cell_type": "markdown",
   "id": "2e7b659d",
   "metadata": {},
   "source": [
    "We then create a `MinimizationReporter` class that will print the current energy to the screen every 100 steps and save the energies to an array which we can plot later"
   ]
  },
  {
   "cell_type": "code",
   "execution_count": null,
   "id": "8692b40e",
   "metadata": {},
   "outputs": [],
   "source": [
    "# Define a subclass of MinimizationReporter\n",
    "class Reporter(MinimizationReporter):\n",
    "    interval = 100 # report interval\n",
    "    energies = [] # array to record progress\n",
    "    def report(self, iteration, x, grad, args):\n",
    "        # print current system energy to screen \n",
    "        if iteration % self.interval == 0:\n",
    "            print(iteration, args['system energy'])\n",
    "\n",
    "        # save energy at each iteration to an array we can use later\n",
    "        self.energies.append(args['system energy'])\n",
    "\n",
    "        # The report method must return a bool specifying if minimization should be stopped. \n",
    "        # You can use this functionality for early termination.\n",
    "        return False"
   ]
  },
  {
   "cell_type": "markdown",
   "id": "9bbc621a",
   "metadata": {},
   "source": [
    "We now create an instance of the reporter and minimize the system with the reporter attached."
   ]
  },
  {
   "cell_type": "code",
   "execution_count": null,
   "id": "6be58c3b",
   "metadata": {},
   "outputs": [],
   "source": [
    "# Create an instance of our reporter\n",
    "reporter = Reporter()\n",
    "\n",
    "# Perform local energy minimization \n",
    "simulation.minimizeEnergy(reporter=reporter)\n",
    "\n",
    "# plot the minimization progress\n",
    "import matplotlib.pyplot as plt\n",
    "plt.plot(Reporter.energies)\n",
    "plt.show()"
   ]
  }
 ],
 "metadata": {
  "kernelspec": {
   "display_name": "Python 3",
   "language": "python",
   "name": "python3"
  },
  "language_info": {
   "codemirror_mode": {
    "name": "ipython",
    "version": 3
   },
   "file_extension": ".py",
   "mimetype": "text/x-python",
   "name": "python",
   "nbconvert_exporter": "python",
   "pygments_lexer": "ipython3",
   "version": "3.12.0"
  },
  "tags": [
   "barostat",
   "thermostat",
   "application layer"
  ],
  "vscode": {
   "interpreter": {
    "hash": "31f2aee4e71d21fbe5cf8b01ff0e069b9275f58929596ceb00d14d90e3e16cd6"
   }
  }
 },
 "nbformat": 4,
 "nbformat_minor": 5
}
