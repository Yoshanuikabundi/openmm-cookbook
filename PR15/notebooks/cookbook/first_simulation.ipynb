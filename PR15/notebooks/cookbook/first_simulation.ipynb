{
 "cells": [
  {
   "cell_type": "raw",
   "execution_count": 0,
   "id": "7e1eea91-42c2-4351-9081-4393fd52c770",
   "metadata": {
    "raw_mimetype": "text/restructuredtext"
   },
   "outputs": [],
   "source": [
    ".. index:: barostat, thermostat, application layer"
   ]
  },
  {
   "cell_type": "markdown",
   "id": "e174828a",
   "metadata": {},
   "source": [
    "## First Simulation\n",
    "\n",
    "This is a good starting point for learning how to use OpenMM.\n",
    "\n",
    "It loads a PDB file `villin.pdb`, which is the [villin headpiece protein](https://en.wikipedia.org/wiki/Villin-1) in a box of water. In then parameterizes it using the Amber14 forcefield and TIP3P-FB water model, energy minimizes it, and simulates it for 1000 steps with a langevin intergator.\n"
   ]
  },
  {
   "cell_type": "code",
   "execution_count": 1,
   "id": "3592a17b",
   "metadata": {
    "execution": {
     "iopub.execute_input": "2022-12-22T15:15:24.588978Z",
     "iopub.status.busy": "2022-12-22T15:15:24.588577Z",
     "iopub.status.idle": "2022-12-22T15:15:53.311987Z",
     "shell.execute_reply": "2022-12-22T15:15:53.311026Z"
    }
   },
   "outputs": [
    {
     "name": "stdout",
     "output_type": "stream",
     "text": [
      "Minimizing energy...\n"
     ]
    },
    {
     "name": "stdout",
     "output_type": "stream",
     "text": [
      "Running simulation...\n"
     ]
    },
    {
     "name": "stdout",
     "output_type": "stream",
     "text": [
      "#\"Step\",\"Potential Energy (kJ/mole)\",\"Temperature (K)\"\n"
     ]
    },
    {
     "name": "stdout",
     "output_type": "stream",
     "text": [
      "100,-156790.456252678,118.08591831659236\n"
     ]
    },
    {
     "name": "stdout",
     "output_type": "stream",
     "text": [
      "200,-152916.5038932572,181.88421684850954\n"
     ]
    },
    {
     "name": "stdout",
     "output_type": "stream",
     "text": [
      "300,-149668.14625479927,219.46006314441277\n"
     ]
    },
    {
     "name": "stdout",
     "output_type": "stream",
     "text": [
      "400,-147357.36879939443,244.68090714252062\n"
     ]
    },
    {
     "name": "stdout",
     "output_type": "stream",
     "text": [
      "500,-146055.43195699117,260.04171601150136\n"
     ]
    },
    {
     "name": "stdout",
     "output_type": "stream",
     "text": [
      "600,-144690.5685493849,267.93570950286613\n"
     ]
    },
    {
     "name": "stdout",
     "output_type": "stream",
     "text": [
      "700,-144072.41516183136,281.97649060761586\n"
     ]
    },
    {
     "name": "stdout",
     "output_type": "stream",
     "text": [
      "800,-143119.16832046764,285.2726531984502\n"
     ]
    },
    {
     "name": "stdout",
     "output_type": "stream",
     "text": [
      "900,-142992.69708173777,290.75805435832194\n"
     ]
    },
    {
     "name": "stdout",
     "output_type": "stream",
     "text": [
      "1000,-142171.99426800164,294.0652531756243\n"
     ]
    }
   ],
   "source": [
    "from openmm.app import *\n",
    "from openmm import *\n",
    "from openmm.unit import *\n",
    "from sys import stdout\n",
    "\n",
    "# Load in the PDB strucure\n",
    "pdb = PDBFile('villin.pdb')\n",
    "\n",
    "# Specifiy the forcefield \n",
    "forcefield = ForceField('amber14-all.xml', 'amber14/tip3pfb.xml')\n",
    "\n",
    "\n",
    "# Combine the molecular topology and the forcefield\n",
    "system = forcefield.createSystem(pdb.topology, nonbondedMethod=PME,\n",
    "        nonbondedCutoff=1*nanometer, constraints=HBonds)\n",
    "\n",
    "# Create the integrator to use for advacing the equations of motion.\n",
    "# It specifies a Langevin integrator.\n",
    "# The paramters set are temperature, friction coefficient, and timestep.\n",
    "integrator = LangevinMiddleIntegrator(300*kelvin, 1/picosecond, 0.004*picoseconds)\n",
    "\n",
    "# Combines the molecular topology, system, and integrator \n",
    "# to begin a new simulation.\n",
    "simulation = Simulation(pdb.topology, system, integrator)\n",
    "simulation.context.setPositions(pdb.positions)\n",
    "\n",
    "# Perform local energy minimization\n",
    "print(\"Minimizing energy...\")\n",
    "simulation.minimizeEnergy(maxIterations=100)\n",
    "\n",
    "# Write the trajectory to a file called \"output.pdb\"\n",
    "simulation.reporters.append(PDBReporter('output.pdb', 1000))\n",
    "\n",
    "# Report infomation to the screen as the simulation runs\n",
    "simulation.reporters.append(StateDataReporter(stdout, 100, step=True,\n",
    "        potentialEnergy=True, temperature=True))\n",
    "\n",
    "#Run the simulation for 1000 timsteps\n",
    "print(\"Running simulation...\")\n",
    "simulation.step(1000)"
   ]
  }
 ],
 "metadata": {
  "kernelspec": {
   "display_name": "Python 3.9.13 ('openmm')",
   "language": "python",
   "name": "python3"
  },
  "language_info": {
   "codemirror_mode": {
    "name": "ipython",
    "version": 3
   },
   "file_extension": ".py",
   "mimetype": "text/x-python",
   "name": "python",
   "nbconvert_exporter": "python",
   "pygments_lexer": "ipython3",
   "version": "3.10.8"
  },
  "tags": [
   "barostat",
   "thermostat",
   "application layer"
  ],
  "vscode": {
   "interpreter": {
    "hash": "16b2d2c1789d035bceb6d775bd7ffc39b805c8f0529038638d98b11c7a85ade5"
   }
  }
 },
 "nbformat": 4,
 "nbformat_minor": 5
}
